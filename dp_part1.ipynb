{
 "cells": [
  {
   "cell_type": "markdown",
   "metadata": {},
   "source": [
    "### Importing pre-processed data from updated csv file"
   ]
  },
  {
   "cell_type": "code",
   "execution_count": null,
   "metadata": {},
   "outputs": [],
   "source": [
    "import pandas as pd\n",
    "from sklearn import preprocessing\n",
    "from sklearn.preprocessing import OneHotEncoder\n",
    "df = pd.read_csv('/home/sarang/Desktop/AML-pro-assignment/car_updated_dataset.csv')\n",
    "df.reset_index(inplace=True)\n",
    "df.head(6)"
   ]
  },
  {
   "cell_type": "code",
   "execution_count": null,
   "metadata": {},
   "outputs": [],
   "source": [
    "df.shape"
   ]
  },
  {
   "cell_type": "code",
   "execution_count": null,
   "metadata": {},
   "outputs": [],
   "source": [
    "df.isnull().sum()"
   ]
  },
  {
   "cell_type": "code",
   "execution_count": null,
   "metadata": {},
   "outputs": [],
   "source": [
    "df.info()"
   ]
  },
  {
   "cell_type": "code",
   "execution_count": null,
   "metadata": {},
   "outputs": [],
   "source": [
    "# I want list of columns with boolean as datatype\n",
    "bool_columns = list(df.select_dtypes(include='object'))\n",
    "bool_columns"
   ]
  },
  {
   "cell_type": "code",
   "execution_count": null,
   "metadata": {},
   "outputs": [],
   "source": [
    "#Converting bool to int\n",
    "df['assured_buy'] = df['assured_buy'].astype(int)\n",
    "df['is_hot'] = df['is_hot'].astype(int)\n",
    "df['fitness_certificate'] = df['fitness_certificate'].astype(int)\n",
    "df['reserved'] = df['reserved'].astype(int)\n",
    "df['warranty_avail'] = df['warranty_avail'].astype(int)"
   ]
  },
  {
   "cell_type": "code",
   "execution_count": null,
   "metadata": {},
   "outputs": [],
   "source": [
    "# Starting with fuel_type column\n",
    "df['fuel_type'].value_counts()"
   ]
  },
  {
   "cell_type": "code",
   "execution_count": null,
   "metadata": {},
   "outputs": [],
   "source": [
    "# \"One-Hot-Encoding\" method implemented for 'fuel_type' column\n",
    "fuel = OneHotEncoder(sparse=False)\n",
    "res_fuel = fuel.fit_transform(df[[\"fuel_type\"]])\n",
    "res_fuel\n",
    "fuel_encoded = pd.DataFrame(res_fuel, index=df.index,columns=fuel.categories_)\n",
    "fuel_encoded\n",
    "df = pd.concat([fuel_encoded,df], axis=1)"
   ]
  },
  {
   "cell_type": "code",
   "execution_count": null,
   "metadata": {},
   "outputs": [],
   "source": [
    "df['transmission'].value_counts()"
   ]
  },
  {
   "cell_type": "code",
   "execution_count": null,
   "metadata": {},
   "outputs": [],
   "source": [
    "# \"One-Hot-Encoding\" method implemented for 'transmission' column\n",
    "transmission = OneHotEncoder(sparse=False)\n",
    "res_transmission = transmission.fit_transform(df[[\"transmission\"]])\n",
    "res_transmission\n",
    "transmission_encoded = pd.DataFrame(res_transmission, index=df.index,columns=transmission.categories_)\n",
    "transmission_encoded\n",
    "df = pd.concat([transmission_encoded,df], axis=1)"
   ]
  },
  {
   "cell_type": "markdown",
   "metadata": {},
   "source": [
    "###### Below are two methods by which we can label encode a column"
   ]
  },
  {
   "cell_type": "code",
   "execution_count": null,
   "metadata": {},
   "outputs": [],
   "source": [
    "'''This method works exactly like label encoding\n",
    "Method 01:-\n",
    "df[\"city\"] = df[\"city\"].astype('category')\n",
    "df[\"city_codes\"] = df[\"city\"].cat.codes'''"
   ]
  },
  {
   "cell_type": "code",
   "execution_count": null,
   "metadata": {},
   "outputs": [],
   "source": [
    "'''Method 02:-\n",
    "label_encoder = preprocessing.LabelEncoder()\n",
    "df['city']= label_encoder.fit_transform(df['city'])'''"
   ]
  },
  {
   "cell_type": "code",
   "execution_count": null,
   "metadata": {},
   "outputs": [],
   "source": [
    "#list(df['city'].value_counts())"
   ]
  },
  {
   "cell_type": "code",
   "execution_count": null,
   "metadata": {},
   "outputs": [],
   "source": [
    "#list(df['city_codes'].value_counts())"
   ]
  },
  {
   "cell_type": "code",
   "execution_count": null,
   "metadata": {},
   "outputs": [],
   "source": [
    "#df = df.drop(['city_codes'],axis=1)"
   ]
  },
  {
   "cell_type": "code",
   "execution_count": null,
   "metadata": {},
   "outputs": [],
   "source": [
    "# Using On-hot encoding for the 'city' column\n",
    "'''city = OneHotEncoder()\n",
    "res_trans = city.fit_transform(df[[\"city\"]])\n",
    "print(pd.DataFrame(res_trans.toarray(), columns=city.categories_))\n",
    "df = df.join(pd.DataFrame(res_trans.toarray(), columns=city.categories_))\n",
    "df = df.drop(['city'], axis=1)\n",
    "\n",
    "\n",
    "Columns overlap due to same column names in 'city' and 'registered_city'.'''"
   ]
  },
  {
   "cell_type": "code",
   "execution_count": null,
   "metadata": {},
   "outputs": [],
   "source": [
    "df['body_type'].value_counts()"
   ]
  },
  {
   "cell_type": "code",
   "execution_count": null,
   "metadata": {},
   "outputs": [],
   "source": [
    "'''# Label Encoding for 'body_type' -->\n",
    "# Method 02:-\n",
    "label_encoder = preprocessing.LabelEncoder()\n",
    "df['body_type']= label_encoder.fit_transform(df['body_type'])'''"
   ]
  },
  {
   "cell_type": "code",
   "execution_count": null,
   "metadata": {},
   "outputs": [],
   "source": [
    "# One hot encoding for the 'body_type' column\n",
    "bodytype = OneHotEncoder(sparse=False)\n",
    "res_bodytype = bodytype.fit_transform(df[[\"body_type\"]])\n",
    "res_bodytype\n",
    "bodytype_encoded = pd.DataFrame(res_bodytype, index=df.index,columns=bodytype.categories_)\n",
    "bodytype_encoded\n",
    "df = pd.concat([bodytype_encoded,df], axis=1)"
   ]
  },
  {
   "cell_type": "code",
   "execution_count": null,
   "metadata": {},
   "outputs": [],
   "source": [
    "'''# Label Encoding for 'City'-->\n",
    "#Method 02:-\n",
    "label_encoder = preprocessing.LabelEncoder()\n",
    "df['city']= label_encoder.fit_transform(df['city'])'''"
   ]
  },
  {
   "cell_type": "code",
   "execution_count": null,
   "metadata": {},
   "outputs": [],
   "source": [
    "df['registered_city'].value_counts()"
   ]
  },
  {
   "cell_type": "code",
   "execution_count": null,
   "metadata": {},
   "outputs": [],
   "source": [
    "registeredcity = OneHotEncoder(sparse=False)\n",
    "res_registeredcity = registeredcity.fit_transform(df[[\"registered_city\"]])\n",
    "res_registeredcity\n",
    "registeredcity_encoded = pd.DataFrame(res_registeredcity, index=df.index,columns=registeredcity.categories_)\n",
    "registeredcity_encoded\n",
    "df = pd.concat([registeredcity_encoded,df], axis=1)"
   ]
  },
  {
   "cell_type": "code",
   "execution_count": null,
   "metadata": {},
   "outputs": [],
   "source": [
    "df['rto'].value_counts()"
   ]
  },
  {
   "cell_type": "code",
   "execution_count": null,
   "metadata": {},
   "outputs": [],
   "source": [
    "'''df[\"rto\"] = df[\"rto\"].astype('category')\n",
    "df[\"rto_codes\"] = df[\"rto\"].cat.codes\n",
    "df = df.drop(['rto'], axis=1)\n",
    "df['rto_codes'].value_counts()'''\n",
    "\n",
    "rto = OneHotEncoder(sparse=False)\n",
    "res_rto = rto.fit_transform(df[[\"rto\"]])\n",
    "res_rto\n",
    "rto_encoded = pd.DataFrame(res_rto, index=df.index,columns=rto.categories_)\n",
    "rto_encoded\n",
    "df = pd.concat([rto_encoded,df], axis=1)"
   ]
  },
  {
   "cell_type": "code",
   "execution_count": null,
   "metadata": {},
   "outputs": [],
   "source": [
    "df['source'].unique()"
   ]
  },
  {
   "cell_type": "code",
   "execution_count": null,
   "metadata": {},
   "outputs": [],
   "source": [
    "source = OneHotEncoder(sparse=False)\n",
    "res_source = source.fit_transform(df[[\"source\"]])\n",
    "res_source\n",
    "source_encoded = pd.DataFrame(res_source, index=df.index,columns=source.categories_)\n",
    "source_encoded\n",
    "df = pd.concat([source_encoded,df], axis=1)"
   ]
  },
  {
   "cell_type": "code",
   "execution_count": null,
   "metadata": {},
   "outputs": [],
   "source": [
    "df['make'].value_counts()"
   ]
  },
  {
   "cell_type": "code",
   "execution_count": null,
   "metadata": {},
   "outputs": [],
   "source": [
    "'''df[\"brand\"] = df[\"brand\"].astype('category')\n",
    "df[\"brand_codes\"] = df[\"brand\"].cat.codes\n",
    "df = df.drop(['brand'], axis=1)\n",
    "df['brand_codes'].value_counts()'''\n",
    "\n",
    "make = OneHotEncoder(sparse=False)\n",
    "res_make = make.fit_transform(df[[\"make\"]])\n",
    "res_make\n",
    "make_encoded = pd.DataFrame(res_make, index=df.index,columns=make.categories_)\n",
    "make_encoded\n",
    "df = pd.concat([make_encoded,df], axis=1)"
   ]
  },
  {
   "cell_type": "code",
   "execution_count": null,
   "metadata": {},
   "outputs": [],
   "source": [
    "df['car_rating'].value_counts()"
   ]
  },
  {
   "cell_type": "code",
   "execution_count": null,
   "metadata": {},
   "outputs": [],
   "source": [
    "'''# Ordinal encoding to retain the order...\n",
    "datamap = {\"great\":3,\"good\":2,\"fair\":1,\"overpriced\":0}\n",
    "df['car_rating'] = df['car_rating'].map(datamap)\n",
    "df['car_rating'].value_counts()'''\n",
    "\n",
    "carrating = OneHotEncoder(sparse=False)\n",
    "res_carrating = carrating.fit_transform(df[[\"car_rating\"]])\n",
    "res_carrating\n",
    "carrating_encoded = pd.DataFrame(res_carrating, index=df.index,columns=carrating.categories_)\n",
    "carrating_encoded\n",
    "df = pd.concat([carrating_encoded,df], axis=1)"
   ]
  },
  {
   "cell_type": "code",
   "execution_count": null,
   "metadata": {},
   "outputs": [],
   "source": [
    "df['car_name'].value_counts()"
   ]
  },
  {
   "cell_type": "code",
   "execution_count": null,
   "metadata": {},
   "outputs": [],
   "source": [
    "\n",
    "'''#label encoding for car_name\n",
    "from sklearn import preprocessing\n",
    "  \n",
    "label_encoder = preprocessing.LabelEncoder()\n",
    "  \n",
    "# Encode labels in column 'species'.\n",
    "df['car_name']= label_encoder.fit_transform(df['car_name'])'''\n",
    "\n",
    "carname = OneHotEncoder(sparse=False)\n",
    "res_carname = carname.fit_transform(df[[\"car_name\"]])\n",
    "res_carname\n",
    "carname_encoded = pd.DataFrame(res_carname, index=df.index,columns=carname.categories_)\n",
    "carname_encoded\n",
    "df = pd.concat([carname_encoded,df], axis=1)"
   ]
  },
  {
   "cell_type": "code",
   "execution_count": null,
   "metadata": {},
   "outputs": [],
   "source": [
    "df['variant'].unique()"
   ]
  },
  {
   "cell_type": "code",
   "execution_count": null,
   "metadata": {},
   "outputs": [],
   "source": [
    "variant = OneHotEncoder(sparse=False)\n",
    "res_variant = variant.fit_transform(df[[\"variant\"]])\n",
    "res_variant\n",
    "variant_encoded = pd.DataFrame(res_variant, index=df.index,columns=variant.categories_)\n",
    "variant_encoded\n",
    "df = pd.concat([variant_encoded,df], axis=1)"
   ]
  },
  {
   "cell_type": "code",
   "execution_count": null,
   "metadata": {},
   "outputs": [],
   "source": [
    "'''city = OneHotEncoder(sparse=False)\n",
    "res_city = city.fit_transform(df[[\"city\"]])\n",
    "res_city\n",
    "city_encoded = pd.DataFrame(res_city, index=df.index,columns=city.categories_)\n",
    "city_encoded\n",
    "df = pd.concat([city_encoded,df], axis=1)'''"
   ]
  },
  {
   "cell_type": "code",
   "execution_count": null,
   "metadata": {},
   "outputs": [],
   "source": [
    "df.shape"
   ]
  },
  {
   "cell_type": "code",
   "execution_count": null,
   "metadata": {},
   "outputs": [],
   "source": [
    "'''for i in df.columns:\n",
    "  print(i)\n",
    "  print(df[i].unique())\n",
    "  print(\"_____________________________________________________________________\")\n",
    "  #printing unique values of each column'''"
   ]
  },
  {
   "cell_type": "code",
   "execution_count": null,
   "metadata": {},
   "outputs": [],
   "source": [
    "null_list = list(df.isnull().sum())\n",
    "null_list"
   ]
  },
  {
   "cell_type": "code",
   "execution_count": null,
   "metadata": {},
   "outputs": [],
   "source": [
    "# I want list of columns with object as datatype\n",
    "obj_columns = list(df.select_dtypes(include='object'))\n",
    "obj_columns"
   ]
  },
  {
   "cell_type": "code",
   "execution_count": null,
   "metadata": {},
   "outputs": [],
   "source": [
    "df = df.drop(columns=['model','car_availability','ad_created_on','fuel_type','transmission','body_type','registered_city','rto','source','car_rating','car_name','variant','city','make','registered_state','index' ,'id'],axis=1)"
   ]
  },
  {
   "cell_type": "code",
   "execution_count": null,
   "metadata": {},
   "outputs": [],
   "source": [
    "#df.to_csv('car_updated_dataset_test.csv')"
   ]
  },
  {
   "cell_type": "markdown",
   "metadata": {},
   "source": [
    "Implementing simple regression algorithm on pre-processed data to check what happens !!"
   ]
  },
  {
   "cell_type": "code",
   "execution_count": null,
   "metadata": {},
   "outputs": [],
   "source": [
    "X = df\n",
    "X = X.drop(['sale_price'],axis=1)\n"
   ]
  },
  {
   "cell_type": "code",
   "execution_count": null,
   "metadata": {},
   "outputs": [],
   "source": [
    "X.shape"
   ]
  },
  {
   "cell_type": "code",
   "execution_count": null,
   "metadata": {},
   "outputs": [],
   "source": [
    "Y = df.loc[:,'sale_price']\n",
    "Y.shape"
   ]
  },
  {
   "cell_type": "markdown",
   "metadata": {},
   "source": [
    "-------------------------------------------------------------------------------------X------------------------------------------------------------------------------------"
   ]
  },
  {
   "cell_type": "markdown",
   "metadata": {},
   "source": [
    "Implementing Linear Regression"
   ]
  },
  {
   "cell_type": "code",
   "execution_count": null,
   "metadata": {},
   "outputs": [],
   "source": [
    "from sklearn.model_selection import train_test_split\n",
    "x_train,x_test,y_train,y_test = train_test_split(X,Y,test_size = 0.3,random_state=52)"
   ]
  },
  {
   "cell_type": "code",
   "execution_count": null,
   "metadata": {},
   "outputs": [],
   "source": [
    "print(x_train.shape)\n",
    "print(x_test.shape)"
   ]
  },
  {
   "cell_type": "code",
   "execution_count": null,
   "metadata": {},
   "outputs": [],
   "source": [
    "from sklearn.linear_model import LinearRegression\n",
    "model = LinearRegression()\n",
    "model.fit(x_train,y_train)\n",
    "pred = model.predict(x_test)"
   ]
  },
  {
   "cell_type": "code",
   "execution_count": null,
   "metadata": {},
   "outputs": [],
   "source": [
    "from sklearn.metrics import r2_score\n",
    "from sklearn.metrics import mean_absolute_error\n",
    "from sklearn.metrics import mean_squared_error\n",
    "import numpy as np\n",
    "from sklearn.model_selection import cross_val_score\n",
    "r2 = r2_score(y_test,pred)\n",
    "print(\"R2 score: \",np.round(r2,3))\n",
    "n=5790 # n = number of observations (rows)\n",
    "k= 1419# k = number of dimensions (independent variables)\n",
    "adj_r2_score = 1 - ((1-r2)*(n-1)/(n-k-1))\n",
    "print(\"Adjusted R2_score: \",np.round(adj_r2_score,3))\n",
    "print(\"MAE: \",np.round(mean_absolute_error(y_test,pred),3))\n",
    "print(\"MSE: \",np.round(mean_squared_error(y_test,pred),3))\n",
    "mse = mean_squared_error(y_test,pred)\n",
    "rmse = np.sqrt(mse)\n",
    "print(\"RMSE: \", np.round(rmse, 3))\n",
    "#scores = cross_val_score(model,x_train,y_train,cv=10,scoring='neg_mean_squared_error')\n",
    "#avg_score = np.mean(-scores)\n",
    "#print(\"Average score using cross validation: \",avg_score)"
   ]
  },
  {
   "cell_type": "markdown",
   "metadata": {},
   "source": [
    "Standardization for linear regression"
   ]
  },
  {
   "cell_type": "code",
   "execution_count": null,
   "metadata": {},
   "outputs": [],
   "source": [
    "x_train,x_test,y_train,y_test = train_test_split(X,Y,test_size = 0.3,random_state=52)"
   ]
  },
  {
   "cell_type": "code",
   "execution_count": null,
   "metadata": {},
   "outputs": [],
   "source": [
    "from sklearn.preprocessing import StandardScaler\n",
    "scale= StandardScaler()\n",
    "x_train_linear = scale.fit_transform(x_train) \n",
    "x_test_linear = scale.transform(x_test)"
   ]
  },
  {
   "cell_type": "code",
   "execution_count": null,
   "metadata": {},
   "outputs": [],
   "source": [
    "model_01 = LinearRegression()\n",
    "model_01.fit(x_train_linear,y_train)\n",
    "reg_pred = model_01.predict(x_test_linear)"
   ]
  },
  {
   "cell_type": "code",
   "execution_count": null,
   "metadata": {},
   "outputs": [],
   "source": [
    "r2 = r2_score(y_test,reg_pred)\n",
    "print(\"R2 score: \",np.round(r2,3))\n",
    "n=5790 # n = number of observations (rows)\n",
    "k=1419 # k = number of dimensions (independent variables)\n",
    "adj_r2_score = 1 - ((1-r2)*(n-1)/(n-k-1))\n",
    "print(\"Adjusted R2_score: \",np.round(adj_r2_score,3))\n",
    "print(\"MAE: \",np.round(mean_absolute_error(y_test,reg_pred),3))\n",
    "print(\"MSE: \",np.round(mean_squared_error(y_test,reg_pred),3))\n",
    "mse = mean_squared_error(y_test,reg_pred)\n",
    "rmse = np.sqrt(mse)\n",
    "print(\"RMSE: \", np.round(rmse, 3))\n",
    "#scores = cross_val_score(model01,x_train,y_train,cv=10,scoring='neg_mean_squared_error')\n",
    "#avg_score = np.mean(-scores)\n",
    "#print(\"Average score using cross validation: \",avg_score)"
   ]
  },
  {
   "cell_type": "markdown",
   "metadata": {},
   "source": [
    "Implementing dimension reduction using PCA"
   ]
  },
  {
   "cell_type": "code",
   "execution_count": null,
   "metadata": {},
   "outputs": [],
   "source": [
    "x_train,x_test,y_train,y_test = train_test_split(X,Y,test_size = 0.3,random_state=52)"
   ]
  },
  {
   "cell_type": "code",
   "execution_count": null,
   "metadata": {},
   "outputs": [],
   "source": [
    "scale= StandardScaler()\n",
    "x_train_linear = scale.fit_transform(x_train) \n",
    "x_test_linear = scale.transform(x_test)"
   ]
  },
  {
   "cell_type": "code",
   "execution_count": null,
   "metadata": {},
   "outputs": [],
   "source": [
    "from sklearn.decomposition import PCA\n",
    "pca = PCA(n_components = 5)\n",
    "pca_train = pca.fit_transform(x_train_linear)\n",
    "pca_test = pca.transform(x_test_linear)"
   ]
  },
  {
   "cell_type": "code",
   "execution_count": null,
   "metadata": {},
   "outputs": [],
   "source": [
    "model_01 = LinearRegression()\n",
    "model_01.fit(pca_train,y_train)\n",
    "reg_pred = model_01.predict(pca_test)"
   ]
  },
  {
   "cell_type": "code",
   "execution_count": null,
   "metadata": {},
   "outputs": [],
   "source": [
    "r2 = r2_score(y_test,reg_pred)\n",
    "print(\"R2 score: \",np.round(r2,3))\n",
    "n=5790 # n = number of observations (rows)\n",
    "k=1419 # k = number of dimensions (independent variables)\n",
    "adj_r2_score = 1 - ((1-r2)*(n-1)/(n-k-1))\n",
    "print(\"Adjusted R2_score: \",np.round(adj_r2_score,3))\n",
    "print(\"MAE: \",np.round(mean_absolute_error(y_test,reg_pred),3))\n",
    "print(\"MSE: \",np.round(mean_squared_error(y_test,reg_pred),3))\n",
    "mse = mean_squared_error(y_test,reg_pred)\n",
    "rmse = np.sqrt(mse)\n",
    "print(\"RMSE: \", np.round(rmse, 3))"
   ]
  },
  {
   "cell_type": "markdown",
   "metadata": {},
   "source": [
    "-------------------------------------------------------------------------------------X------------------------------------------------------------------------------------"
   ]
  },
  {
   "cell_type": "markdown",
   "metadata": {},
   "source": [
    "Implementing SVR"
   ]
  },
  {
   "cell_type": "code",
   "execution_count": null,
   "metadata": {},
   "outputs": [],
   "source": [
    "x_train,x_test,y_train,y_test = train_test_split(X,Y,random_state=52,test_size=0.4)"
   ]
  },
  {
   "cell_type": "code",
   "execution_count": null,
   "metadata": {},
   "outputs": [],
   "source": [
    "x_train_svr = scale.fit_transform(x_train)\n",
    "x_test_svr = scale.transform(x_test)"
   ]
  },
  {
   "cell_type": "code",
   "execution_count": null,
   "metadata": {},
   "outputs": [],
   "source": [
    "from sklearn.svm import SVR\n",
    "regressor = SVR()\n",
    "regressor.fit(x_train_svr, y_train)\n",
    "svr_pred = regressor.predict(x_test_svr)"
   ]
  },
  {
   "cell_type": "code",
   "execution_count": null,
   "metadata": {},
   "outputs": [],
   "source": [
    "r2 = r2_score(y_test,svr_pred)\n",
    "print(\"R2 score: \",r2)\n",
    "n=5790 # n = number of observations (rows)\n",
    "k=1419 # k = number of dimensions (independent variables)\n",
    "adj_r2_score = 1 - ((1-r2)*(n-1)/(n-k-1))\n",
    "print(\"Adjusted R2_score: \",adj_r2_score)\n",
    "print(\"MAE: \",mean_absolute_error(y_test,svr_pred))\n",
    "print(\"MSE: \",mean_squared_error(y_test,svr_pred))\n",
    "mse = mean_squared_error(y_test,svr_pred)\n",
    "rmse = np.sqrt(mse)\n",
    "print(\"RMSE: \", np.round(rmse, 2))\n",
    "#scores = cross_val_score(model,X,Y,scoring=\"neg_mean_squared_error\",cv=5, n_jobs=1)\n",
    "#rmse = np.sqrt(-scores)\n",
    "#print(\"RMSE values: \", np.round(rmse, 2))\n",
    "#print(\"RMSE average: \", np.mean(rmse))"
   ]
  },
  {
   "cell_type": "markdown",
   "metadata": {},
   "source": [
    "-------------------------------------------------------------------------------------X------------------------------------------------------------------------------------"
   ]
  },
  {
   "cell_type": "markdown",
   "metadata": {},
   "source": [
    "Implementing Random Forest "
   ]
  },
  {
   "cell_type": "code",
   "execution_count": null,
   "metadata": {},
   "outputs": [],
   "source": [
    "x_train,x_test,y_train,y_test = train_test_split(X,Y,random_state=52,test_size=0.2)"
   ]
  },
  {
   "cell_type": "code",
   "execution_count": null,
   "metadata": {},
   "outputs": [],
   "source": [
    "from sklearn.ensemble import RandomForestRegressor\n",
    "rf = RandomForestRegressor()\n",
    "rf.fit(x_train,y_train)\n",
    "rfr_pred = rf.predict(x_test)"
   ]
  },
  {
   "cell_type": "code",
   "execution_count": null,
   "metadata": {},
   "outputs": [],
   "source": [
    "r2 = r2_score(y_test,rfr_pred)\n",
    "print(\"R2 score: \",np.round(r2,3))\n",
    "n=5790 # n = number of observations (rows)\n",
    "k=1419 # k = number of dimensions (independent variables)\n",
    "adj_r2_score = 1 - ((1-r2)*(n-1)/(n-k-1))\n",
    "print(\"Adjusted R2_score: \",np.round(adj_r2_score,3))\n",
    "print(\"MAE: \",np.round(mean_absolute_error(y_test,rfr_pred),3))\n",
    "print(\"MSE: \",np.round(mean_squared_error(y_test,rfr_pred),3))\n",
    "mse = mean_squared_error(y_test,rfr_pred)\n",
    "rmse = np.sqrt(mse)\n",
    "print(\"RMSE: \", np.round(rmse, 3))"
   ]
  },
  {
   "cell_type": "markdown",
   "metadata": {},
   "source": [
    "Standardization for randomforest"
   ]
  },
  {
   "cell_type": "code",
   "execution_count": null,
   "metadata": {},
   "outputs": [],
   "source": [
    "x_train_rf = scale.fit_transform(x_train)\n",
    "x_test_rf = scale.transform(x_test)"
   ]
  },
  {
   "cell_type": "code",
   "execution_count": null,
   "metadata": {},
   "outputs": [],
   "source": [
    "from sklearn.ensemble import RandomForestRegressor\n",
    "rf = RandomForestRegressor()\n",
    "rf.fit(x_train_rf,y_train)\n",
    "rfr_pred = rf.predict(x_test_rf)"
   ]
  },
  {
   "cell_type": "code",
   "execution_count": null,
   "metadata": {},
   "outputs": [],
   "source": [
    "r2 = r2_score(y_test,rfr_pred)\n",
    "print(\"R2 score: \",np.round(r2,3))\n",
    "n=5790 # n = number of observations (rows)\n",
    "k=1419 # k = number of dimensions (independent variables)\n",
    "adj_r2_score = 1 - ((1-r2)*(n-1)/(n-k-1))\n",
    "print(\"Adjusted R2_score: \",np.round(adj_r2_score,3))\n",
    "print(\"MAE: \",np.round(mean_absolute_error(y_test,rfr_pred),3))\n",
    "print(\"MSE: \",np.round(mean_squared_error(y_test,rfr_pred),3))\n",
    "mse = mean_squared_error(y_test,rfr_pred)\n",
    "rmse = np.sqrt(mse)\n",
    "print(\"RMSE: \", np.round(rmse, 3))\n",
    "#scores = cross_val_score(rf,x_train,y_train,cv=10,scoring='neg_mean_squared_error')\n",
    "#avg_score = np.mean(-scores)\n",
    "#print(\"Average score using cross validation: \",avg_score)"
   ]
  },
  {
   "cell_type": "markdown",
   "metadata": {},
   "source": [
    "Implementing PCA"
   ]
  },
  {
   "cell_type": "code",
   "execution_count": null,
   "metadata": {},
   "outputs": [],
   "source": [
    "x_train,x_test,y_train,y_test = train_test_split(X,Y,random_state=52,test_size=0.2)"
   ]
  },
  {
   "cell_type": "code",
   "execution_count": null,
   "metadata": {},
   "outputs": [],
   "source": [
    "x_train_rf = scale.fit_transform(x_train)\n",
    "x_test_rf = scale.transform(x_test)"
   ]
  },
  {
   "cell_type": "code",
   "execution_count": null,
   "metadata": {},
   "outputs": [],
   "source": [
    "from sklearn.decomposition import PCA\n",
    "pca = PCA(n_components = 5)\n",
    "pca_train = pca.fit_transform(x_train_rf)\n",
    "pca_test = pca.transform(x_test_rf)"
   ]
  },
  {
   "cell_type": "code",
   "execution_count": null,
   "metadata": {},
   "outputs": [],
   "source": [
    "rf = RandomForestRegressor()\n",
    "rf.fit(pca_train,y_train)\n",
    "rfr_pred = rf.predict(pca_test)"
   ]
  },
  {
   "cell_type": "code",
   "execution_count": null,
   "metadata": {},
   "outputs": [],
   "source": [
    "r2 = r2_score(y_test,rfr_pred)\n",
    "print(\"R2 score: \",np.round(r2,3))\n",
    "n=5790 # n = number of observations (rows)\n",
    "k=1419 # k = number of dimensions (independent variables)\n",
    "adj_r2_score = 1 - ((1-r2)*(n-1)/(n-k-1))\n",
    "print(\"Adjusted R2_score: \",np.round(adj_r2_score,3))\n",
    "print(\"MAE: \",np.round(mean_absolute_error(y_test,rfr_pred),3))\n",
    "print(\"MSE: \",np.round(mean_squared_error(y_test,rfr_pred),3))\n",
    "mse = mean_squared_error(y_test,rfr_pred)\n",
    "rmse = np.sqrt(mse)\n",
    "print(\"RMSE: \", np.round(rmse, 3))"
   ]
  },
  {
   "cell_type": "markdown",
   "metadata": {},
   "source": [
    "-------------------------------------------------------------------------------------X------------------------------------------------------------------------------------"
   ]
  },
  {
   "cell_type": "markdown",
   "metadata": {},
   "source": [
    "Implementing Decision Tree"
   ]
  },
  {
   "cell_type": "code",
   "execution_count": null,
   "metadata": {},
   "outputs": [],
   "source": [
    "x_train,x_test,y_train,y_test = train_test_split(X,Y,random_state=52,train_size=0.8)"
   ]
  },
  {
   "cell_type": "code",
   "execution_count": null,
   "metadata": {},
   "outputs": [],
   "source": [
    "from sklearn.tree import DecisionTreeRegressor \n",
    "decision = DecisionTreeRegressor() \n",
    "decision.fit(x_train, y_train)\n",
    "dtr_pred = decision.predict(x_test)"
   ]
  },
  {
   "cell_type": "code",
   "execution_count": null,
   "metadata": {},
   "outputs": [],
   "source": [
    "r2 = r2_score(y_test,dtr_pred)\n",
    "print(\"R2 score: \",np.round(r2,3))\n",
    "n=5790 # n = number of observations (rows)\n",
    "k=1419 # k = number of dimensions (independent variables)\n",
    "adj_r2_score = 1 - ((1-r2)*(n-1)/(n-k-1))\n",
    "print(\"Adjusted R2_score: \",np.round(adj_r2_score,3))\n",
    "print(\"MAE: \",np.round(mean_absolute_error(y_test,dtr_pred),3))\n",
    "print(\"MSE: \",np.round(mean_squared_error(y_test,dtr_pred),3))\n",
    "mse = mean_squared_error(y_test,dtr_pred)\n",
    "rmse = np.sqrt(mse)\n",
    "print(\"RMSE: \", np.round(rmse, 3))\n",
    "#scores = cross_val_score(decision,x_train,y_train,cv=10,scoring='neg_mean_squared_error')\n",
    "#avg_score = np.mean(-scores)\n",
    "#print(\"Average score using cross validation: \",avg_score)"
   ]
  },
  {
   "cell_type": "markdown",
   "metadata": {},
   "source": [
    "Standardization of DecisionTree"
   ]
  },
  {
   "cell_type": "code",
   "execution_count": null,
   "metadata": {},
   "outputs": [],
   "source": [
    "x_train,x_test,y_train,y_test = train_test_split(X,Y,random_state=52,train_size=0.8)"
   ]
  },
  {
   "cell_type": "code",
   "execution_count": null,
   "metadata": {},
   "outputs": [],
   "source": [
    "x_train_dt = scale.fit_transform(x_train)\n",
    "x_test_dt = scale.transform(x_test)"
   ]
  },
  {
   "cell_type": "code",
   "execution_count": null,
   "metadata": {},
   "outputs": [],
   "source": [
    "decision = DecisionTreeRegressor() \n",
    "decision.fit(x_train_dt, y_train)\n",
    "dtr_pred = decision.predict(x_test_dt)"
   ]
  },
  {
   "cell_type": "code",
   "execution_count": null,
   "metadata": {},
   "outputs": [],
   "source": [
    "r2 = r2_score(y_test,dtr_pred)\n",
    "print(\"R2 score: \",np.round(r2,3))\n",
    "n=5790 # n = number of observations (rows)\n",
    "k=1419 # k = number of dimensions (independent variables)\n",
    "adj_r2_score = 1 - ((1-r2)*(n-1)/(n-k-1))\n",
    "print(\"Adjusted R2_score: \",np.round(adj_r2_score,3))\n",
    "print(\"MAE: \",np.round(mean_absolute_error(y_test,dtr_pred),3))\n",
    "print(\"MSE: \",np.round(mean_squared_error(y_test,dtr_pred),3))\n",
    "mse = mean_squared_error(y_test,dtr_pred)\n",
    "rmse = np.sqrt(mse)\n",
    "print(\"RMSE: \", np.round(rmse, 3))"
   ]
  },
  {
   "cell_type": "markdown",
   "metadata": {},
   "source": [
    "Implementing PCA"
   ]
  },
  {
   "cell_type": "code",
   "execution_count": null,
   "metadata": {},
   "outputs": [],
   "source": [
    "x_train,x_test,y_train,y_test = train_test_split(X,Y,random_state=52,train_size=0.8)"
   ]
  },
  {
   "cell_type": "code",
   "execution_count": null,
   "metadata": {},
   "outputs": [],
   "source": [
    "x_train_dt = scale.fit_transform(x_train)\n",
    "x_test_dt = scale.transform(x_test)"
   ]
  },
  {
   "cell_type": "code",
   "execution_count": null,
   "metadata": {},
   "outputs": [],
   "source": [
    "from sklearn.decomposition import PCA\n",
    "pca = PCA(n_components = 5)\n",
    "pca_train = pca.fit_transform(x_train_dt)\n",
    "pca_test = pca.transform(x_test_dt)"
   ]
  },
  {
   "cell_type": "code",
   "execution_count": null,
   "metadata": {},
   "outputs": [],
   "source": [
    "decision = DecisionTreeRegressor() \n",
    "decision.fit(pca_train, y_train)\n",
    "dtr_pred = decision.predict(pca_test)"
   ]
  },
  {
   "cell_type": "code",
   "execution_count": null,
   "metadata": {},
   "outputs": [],
   "source": [
    "r2 = r2_score(y_test,dtr_pred)\n",
    "print(\"R2 score: \",np.round(r2,3))\n",
    "n=5790 # n = number of observations (rows)\n",
    "k=1419 # k = number of dimensions (independent variables)\n",
    "adj_r2_score = 1 - ((1-r2)*(n-1)/(n-k-1))\n",
    "print(\"Adjusted R2_score: \",np.round(adj_r2_score,3))\n",
    "print(\"MAE: \",np.round(mean_absolute_error(y_test,dtr_pred),3))\n",
    "print(\"MSE: \",np.round(mean_squared_error(y_test,dtr_pred),3))\n",
    "mse = mean_squared_error(y_test,dtr_pred)\n",
    "rmse = np.sqrt(mse)\n",
    "print(\"RMSE: \", np.round(rmse, 3))"
   ]
  },
  {
   "cell_type": "markdown",
   "metadata": {},
   "source": [
    "-------------------------------------------------------------------------------------X------------------------------------------------------------------------------------"
   ]
  },
  {
   "cell_type": "markdown",
   "metadata": {},
   "source": [
    "Implementing Lasso Regression"
   ]
  },
  {
   "cell_type": "code",
   "execution_count": null,
   "metadata": {},
   "outputs": [],
   "source": [
    "x_train,x_test,y_train,y_test = train_test_split(X,Y,random_state=52,train_size=0.8)"
   ]
  },
  {
   "cell_type": "code",
   "execution_count": null,
   "metadata": {},
   "outputs": [],
   "source": [
    "scale= StandardScaler()\n",
    "x_train_lasso = scale.fit_transform(x_train)\n",
    "x_test_lasso = scale.transform(x_test)"
   ]
  },
  {
   "cell_type": "code",
   "execution_count": null,
   "metadata": {},
   "outputs": [],
   "source": [
    "from sklearn import linear_model\n",
    "lassoReg = linear_model.Lasso()\n",
    "lassoReg.fit(x_train,y_train)\n",
    "lr_pred = lassoReg.predict(x_test)"
   ]
  },
  {
   "cell_type": "code",
   "execution_count": null,
   "metadata": {},
   "outputs": [],
   "source": [
    "r2 = r2_score(y_test,lr_pred)\n",
    "print(\"R2 score: \",np.round(r2,3))\n",
    "n=5790 # n = number of observations (rows)\n",
    "k=1419 # k = number of dimensions (independent variables)\n",
    "adj_r2_score = 1 - ((1-r2)*(n-1)/(n-k-1))\n",
    "print(\"Adjusted R2_score: \",np.round(adj_r2_score,3))\n",
    "print(\"MAE: \",np.round(mean_absolute_error(y_test,lr_pred),3))\n",
    "print(\"MSE: \",np.round(mean_squared_error(y_test,lr_pred),3))\n",
    "mse = mean_squared_error(y_test,lr_pred)\n",
    "rmse = np.sqrt(mse)\n",
    "print(\"RMSE: \", np.round(rmse, 3))\n",
    "#scores = cross_val_score(lassoReg,x_train,y_train,cv=10,scoring='neg_mean_squared_error')\n",
    "#avg_score = np.mean(-scores)\n",
    "#print(\"Average score using cross validation: \",avg_score)"
   ]
  },
  {
   "cell_type": "markdown",
   "metadata": {},
   "source": [
    "Standardization of LassoRegression"
   ]
  },
  {
   "cell_type": "code",
   "execution_count": null,
   "metadata": {},
   "outputs": [],
   "source": [
    "x_train,x_test,y_train,y_test = train_test_split(X,Y,random_state=52,train_size=0.8)"
   ]
  },
  {
   "cell_type": "code",
   "execution_count": null,
   "metadata": {},
   "outputs": [],
   "source": [
    "scale= StandardScaler()\n",
    "x_train_lasso = scale.fit_transform(x_train)\n",
    "x_test_lasso = scale.transform(x_test)"
   ]
  },
  {
   "cell_type": "code",
   "execution_count": null,
   "metadata": {},
   "outputs": [],
   "source": [
    "lassoReg = linear_model.Lasso()\n",
    "lassoReg.fit(x_train_lasso,y_train)\n",
    "lr_pred = lassoReg.predict(x_test_lasso)"
   ]
  },
  {
   "cell_type": "code",
   "execution_count": null,
   "metadata": {},
   "outputs": [],
   "source": [
    "r2 = r2_score(y_test,lr_pred)\n",
    "print(\"R2 score: \",np.round(r2,3))\n",
    "n=5790 # n = number of observations (rows)\n",
    "k=1419 # k = number of dimensions (independent variables)\n",
    "adj_r2_score = 1 - ((1-r2)*(n-1)/(n-k-1))\n",
    "print(\"Adjusted R2_score: \",np.round(adj_r2_score,3))\n",
    "print(\"MAE: \",np.round(mean_absolute_error(y_test,lr_pred),3))\n",
    "print(\"MSE: \",np.round(mean_squared_error(y_test,lr_pred),3))\n",
    "mse = mean_squared_error(y_test,lr_pred)\n",
    "rmse = np.sqrt(mse)\n",
    "print(\"RMSE: \", np.round(rmse, 3))"
   ]
  },
  {
   "cell_type": "markdown",
   "metadata": {},
   "source": [
    "Implementing PCA"
   ]
  },
  {
   "cell_type": "code",
   "execution_count": null,
   "metadata": {},
   "outputs": [],
   "source": [
    "x_train,x_test,y_train,y_test = train_test_split(X,Y,random_state=52,train_size=0.8)"
   ]
  },
  {
   "cell_type": "code",
   "execution_count": null,
   "metadata": {},
   "outputs": [],
   "source": [
    "scale= StandardScaler()\n",
    "x_train_lasso = scale.fit_transform(x_train)\n",
    "x_test_lasso = scale.transform(x_test)"
   ]
  },
  {
   "cell_type": "code",
   "execution_count": null,
   "metadata": {},
   "outputs": [],
   "source": [
    "from sklearn.decomposition import PCA\n",
    "pca = PCA(n_components = 5)\n",
    "pca_train = pca.fit_transform(x_train_lasso)\n",
    "pca_test = pca.transform(x_test_lasso)"
   ]
  },
  {
   "cell_type": "code",
   "execution_count": null,
   "metadata": {},
   "outputs": [],
   "source": [
    "lassoReg = linear_model.Lasso()\n",
    "lassoReg.fit(pca_train,y_train)\n",
    "lr_pred = lassoReg.predict(pca_test)"
   ]
  },
  {
   "cell_type": "code",
   "execution_count": null,
   "metadata": {},
   "outputs": [],
   "source": [
    "r2 = r2_score(y_test,lr_pred)\n",
    "print(\"R2 score: \",np.round(r2,3))\n",
    "n=5790 # n = number of observations (rows)\n",
    "k=1419 # k = number of dimensions (independent variables)\n",
    "adj_r2_score = 1 - ((1-r2)*(n-1)/(n-k-1))\n",
    "print(\"Adjusted R2_score: \",np.round(adj_r2_score,3))\n",
    "print(\"MAE: \",np.round(mean_absolute_error(y_test,lr_pred),3))\n",
    "print(\"MSE: \",np.round(mean_squared_error(y_test,lr_pred),3))\n",
    "mse = mean_squared_error(y_test,lr_pred)\n",
    "rmse = np.sqrt(mse)\n",
    "print(\"RMSE: \", np.round(rmse, 3))"
   ]
  },
  {
   "cell_type": "markdown",
   "metadata": {},
   "source": [
    "-------------------------------------------------------------------------------------X------------------------------------------------------------------------------------"
   ]
  }
 ],
 "metadata": {
  "kernelspec": {
   "display_name": "Python 3.8.10 ('Env01')",
   "language": "python",
   "name": "python3"
  },
  "language_info": {
   "codemirror_mode": {
    "name": "ipython",
    "version": 3
   },
   "file_extension": ".py",
   "mimetype": "text/x-python",
   "name": "python",
   "nbconvert_exporter": "python",
   "pygments_lexer": "ipython3",
   "version": "3.8.10"
  },
  "orig_nbformat": 4,
  "vscode": {
   "interpreter": {
    "hash": "c8ba2787a84a7f2f66ebb7354e6e2d953480730db5b3e727c0f12de54f4bace1"
   }
  }
 },
 "nbformat": 4,
 "nbformat_minor": 2
}
