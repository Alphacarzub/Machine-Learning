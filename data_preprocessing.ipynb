{
 "cells": [
  {
   "cell_type": "code",
   "execution_count": 1,
   "id": "b15360aa",
   "metadata": {},
   "outputs": [],
   "source": [
    "import pandas as pd\n",
    "df = pd.read_csv('/home/sarang/Desktop/AML-pro-assignment/Assignment-dataset/train.csv')"
   ]
  },
  {
   "cell_type": "code",
   "execution_count": 2,
   "id": "b01e6d51",
   "metadata": {
    "scrolled": true
   },
   "outputs": [
    {
     "data": {
      "text/plain": [
       "Index(['id', 'car_name', 'yr_mfr', 'fuel_type', 'kms_run', 'sale_price',\n",
       "       'city', 'times_viewed', 'body_type', 'transmission', 'variant',\n",
       "       'assured_buy', 'registered_city', 'registered_state', 'is_hot', 'rto',\n",
       "       'source', 'make', 'model', 'car_availability', 'total_owners',\n",
       "       'broker_quote', 'original_price', 'car_rating', 'ad_created_on',\n",
       "       'fitness_certificate', 'emi_starts_from', 'booking_down_pymnt',\n",
       "       'reserved', 'warranty_avail'],\n",
       "      dtype='object')"
      ]
     },
     "execution_count": 2,
     "metadata": {},
     "output_type": "execute_result"
    }
   ],
   "source": [
    "df.columns"
   ]
  },
  {
   "cell_type": "code",
   "execution_count": 3,
   "id": "2022fb35",
   "metadata": {
    "scrolled": true
   },
   "outputs": [
    {
     "name": "stdout",
     "output_type": "stream",
     "text": [
      "<class 'pandas.core.frame.DataFrame'>\n",
      "RangeIndex: 6399 entries, 0 to 6398\n",
      "Data columns (total 30 columns):\n",
      " #   Column               Non-Null Count  Dtype  \n",
      "---  ------               --------------  -----  \n",
      " 0   id                   6399 non-null   int64  \n",
      " 1   car_name             6399 non-null   object \n",
      " 2   yr_mfr               6399 non-null   int64  \n",
      " 3   fuel_type            6399 non-null   object \n",
      " 4   kms_run              6399 non-null   int64  \n",
      " 5   sale_price           6399 non-null   int64  \n",
      " 6   city                 6399 non-null   object \n",
      " 7   times_viewed         6399 non-null   int64  \n",
      " 8   body_type            6309 non-null   object \n",
      " 9   transmission         5925 non-null   object \n",
      " 10  variant              6399 non-null   object \n",
      " 11  assured_buy          6399 non-null   bool   \n",
      " 12  registered_city      6391 non-null   object \n",
      " 13  registered_state     6391 non-null   object \n",
      " 14  is_hot               6399 non-null   bool   \n",
      " 15  rto                  6399 non-null   object \n",
      " 16  source               6285 non-null   object \n",
      " 17  make                 6399 non-null   object \n",
      " 18  model                6399 non-null   object \n",
      " 19  car_availability     5857 non-null   object \n",
      " 20  total_owners         6399 non-null   int64  \n",
      " 21  broker_quote         6399 non-null   int64  \n",
      " 22  original_price       3575 non-null   float64\n",
      " 23  car_rating           6392 non-null   object \n",
      " 24  ad_created_on        6398 non-null   object \n",
      " 25  fitness_certificate  6391 non-null   object \n",
      " 26  emi_starts_from      6399 non-null   int64  \n",
      " 27  booking_down_pymnt   6399 non-null   int64  \n",
      " 28  reserved             6399 non-null   bool   \n",
      " 29  warranty_avail       6399 non-null   bool   \n",
      "dtypes: bool(4), float64(1), int64(9), object(16)\n",
      "memory usage: 1.3+ MB\n"
     ]
    }
   ],
   "source": [
    "df.info()"
   ]
  },
  {
   "cell_type": "code",
   "execution_count": 4,
   "id": "8c661bde",
   "metadata": {
    "scrolled": true
   },
   "outputs": [
    {
     "data": {
      "text/plain": [
       "['body_type',\n",
       " 'transmission',\n",
       " 'registered_city',\n",
       " 'registered_state',\n",
       " 'source',\n",
       " 'car_availability',\n",
       " 'original_price',\n",
       " 'car_rating',\n",
       " 'ad_created_on',\n",
       " 'fitness_certificate']"
      ]
     },
     "execution_count": 4,
     "metadata": {},
     "output_type": "execute_result"
    }
   ],
   "source": [
    "na_variables = [var for var in df.columns if df[var].isnull().mean()>0]\n",
    "na_variables"
   ]
  },
  {
   "cell_type": "code",
   "execution_count": 5,
   "id": "a6718593",
   "metadata": {},
   "outputs": [
    {
     "data": {
      "text/plain": [
       "body_type              0.014065\n",
       "transmission           0.074074\n",
       "registered_city        0.001250\n",
       "registered_state       0.001250\n",
       "source                 0.017815\n",
       "car_availability       0.084701\n",
       "original_price         0.441319\n",
       "car_rating             0.001094\n",
       "ad_created_on          0.000156\n",
       "fitness_certificate    0.001250\n",
       "dtype: float64"
      ]
     },
     "execution_count": 5,
     "metadata": {},
     "output_type": "execute_result"
    }
   ],
   "source": [
    "data_na = df[na_variables].isnull().mean()\n",
    "data_na"
   ]
  },
  {
   "cell_type": "code",
   "execution_count": 6,
   "id": "d0a034a7",
   "metadata": {},
   "outputs": [],
   "source": [
    "df['transmission'] = df['transmission'].fillna('manual')"
   ]
  },
  {
   "cell_type": "code",
   "execution_count": 7,
   "id": "676528a6",
   "metadata": {},
   "outputs": [
    {
     "data": {
      "text/plain": [
       "\"df = df.dropna(subset=['body_type'])\\ndf = df.dropna(subset=['car_availability'])\\ndf = df.dropna(subset=['original_price'])\\ndf.shape\""
      ]
     },
     "execution_count": 7,
     "metadata": {},
     "output_type": "execute_result"
    }
   ],
   "source": [
    "'''df = df.dropna(subset=['body_type'])\n",
    "df = df.dropna(subset=['car_availability'])\n",
    "df = df.dropna(subset=['original_price'])\n",
    "df.shape'''"
   ]
  },
  {
   "cell_type": "code",
   "execution_count": 8,
   "id": "48fba51e",
   "metadata": {},
   "outputs": [],
   "source": [
    "df1=df[df['original_price'].isna()]"
   ]
  },
  {
   "cell_type": "code",
   "execution_count": 9,
   "id": "babbbe57",
   "metadata": {},
   "outputs": [],
   "source": [
    "df = df.dropna(subset=['body_type','car_availability','original_price'])"
   ]
  },
  {
   "cell_type": "code",
   "execution_count": 17,
   "id": "cf0776e3",
   "metadata": {},
   "outputs": [
    {
     "data": {
      "text/html": [
       "<div>\n",
       "<style scoped>\n",
       "    .dataframe tbody tr th:only-of-type {\n",
       "        vertical-align: middle;\n",
       "    }\n",
       "\n",
       "    .dataframe tbody tr th {\n",
       "        vertical-align: top;\n",
       "    }\n",
       "\n",
       "    .dataframe thead th {\n",
       "        text-align: right;\n",
       "    }\n",
       "</style>\n",
       "<table border=\"1\" class=\"dataframe\">\n",
       "  <thead>\n",
       "    <tr style=\"text-align: right;\">\n",
       "      <th></th>\n",
       "      <th>id</th>\n",
       "      <th>car_name</th>\n",
       "      <th>yr_mfr</th>\n",
       "      <th>fuel_type</th>\n",
       "      <th>kms_run</th>\n",
       "      <th>sale_price</th>\n",
       "      <th>city</th>\n",
       "      <th>times_viewed</th>\n",
       "      <th>body_type</th>\n",
       "      <th>transmission</th>\n",
       "      <th>...</th>\n",
       "      <th>total_owners</th>\n",
       "      <th>broker_quote</th>\n",
       "      <th>original_price</th>\n",
       "      <th>car_rating</th>\n",
       "      <th>ad_created_on</th>\n",
       "      <th>fitness_certificate</th>\n",
       "      <th>emi_starts_from</th>\n",
       "      <th>booking_down_pymnt</th>\n",
       "      <th>reserved</th>\n",
       "      <th>warranty_avail</th>\n",
       "    </tr>\n",
       "  </thead>\n",
       "  <tbody>\n",
       "    <tr>\n",
       "      <th>0</th>\n",
       "      <td>1</td>\n",
       "      <td>maruti swift</td>\n",
       "      <td>2015</td>\n",
       "      <td>petrol</td>\n",
       "      <td>8063</td>\n",
       "      <td>386399</td>\n",
       "      <td>noida</td>\n",
       "      <td>18715</td>\n",
       "      <td>hatchback</td>\n",
       "      <td>manual</td>\n",
       "      <td>...</td>\n",
       "      <td>2</td>\n",
       "      <td>397677</td>\n",
       "      <td>404177.0</td>\n",
       "      <td>great</td>\n",
       "      <td>2021-04-04T07:09:18.583</td>\n",
       "      <td>True</td>\n",
       "      <td>8975</td>\n",
       "      <td>57960</td>\n",
       "      <td>False</td>\n",
       "      <td>False</td>\n",
       "    </tr>\n",
       "    <tr>\n",
       "      <th>1</th>\n",
       "      <td>2</td>\n",
       "      <td>maruti alto 800</td>\n",
       "      <td>2016</td>\n",
       "      <td>petrol</td>\n",
       "      <td>23104</td>\n",
       "      <td>265499</td>\n",
       "      <td>noida</td>\n",
       "      <td>2676</td>\n",
       "      <td>hatchback</td>\n",
       "      <td>manual</td>\n",
       "      <td>...</td>\n",
       "      <td>1</td>\n",
       "      <td>272935</td>\n",
       "      <td>354313.0</td>\n",
       "      <td>great</td>\n",
       "      <td>2021-03-22T14:07:32.833</td>\n",
       "      <td>True</td>\n",
       "      <td>6167</td>\n",
       "      <td>39825</td>\n",
       "      <td>False</td>\n",
       "      <td>False</td>\n",
       "    </tr>\n",
       "    <tr>\n",
       "      <th>3</th>\n",
       "      <td>4</td>\n",
       "      <td>maruti swift</td>\n",
       "      <td>2013</td>\n",
       "      <td>diesel</td>\n",
       "      <td>39124</td>\n",
       "      <td>307999</td>\n",
       "      <td>noida</td>\n",
       "      <td>6511</td>\n",
       "      <td>hatchback</td>\n",
       "      <td>manual</td>\n",
       "      <td>...</td>\n",
       "      <td>1</td>\n",
       "      <td>294262</td>\n",
       "      <td>374326.0</td>\n",
       "      <td>great</td>\n",
       "      <td>2021-01-21T12:59:19.299</td>\n",
       "      <td>True</td>\n",
       "      <td>7154</td>\n",
       "      <td>46200</td>\n",
       "      <td>False</td>\n",
       "      <td>False</td>\n",
       "    </tr>\n",
       "    <tr>\n",
       "      <th>4</th>\n",
       "      <td>5</td>\n",
       "      <td>hyundai grand i10</td>\n",
       "      <td>2015</td>\n",
       "      <td>petrol</td>\n",
       "      <td>22116</td>\n",
       "      <td>361499</td>\n",
       "      <td>noida</td>\n",
       "      <td>3225</td>\n",
       "      <td>hatchback</td>\n",
       "      <td>manual</td>\n",
       "      <td>...</td>\n",
       "      <td>1</td>\n",
       "      <td>360716</td>\n",
       "      <td>367216.0</td>\n",
       "      <td>great</td>\n",
       "      <td>2021-04-01T13:33:40.733</td>\n",
       "      <td>True</td>\n",
       "      <td>8397</td>\n",
       "      <td>54225</td>\n",
       "      <td>False</td>\n",
       "      <td>False</td>\n",
       "    </tr>\n",
       "    <tr>\n",
       "      <th>5</th>\n",
       "      <td>6</td>\n",
       "      <td>maruti alto k10</td>\n",
       "      <td>2018</td>\n",
       "      <td>petrol</td>\n",
       "      <td>23534</td>\n",
       "      <td>335299</td>\n",
       "      <td>noida</td>\n",
       "      <td>1055</td>\n",
       "      <td>hatchback</td>\n",
       "      <td>manual</td>\n",
       "      <td>...</td>\n",
       "      <td>1</td>\n",
       "      <td>343212</td>\n",
       "      <td>439056.0</td>\n",
       "      <td>great</td>\n",
       "      <td>2021-04-13T05:55:16.99</td>\n",
       "      <td>True</td>\n",
       "      <td>7788</td>\n",
       "      <td>50295</td>\n",
       "      <td>False</td>\n",
       "      <td>False</td>\n",
       "    </tr>\n",
       "  </tbody>\n",
       "</table>\n",
       "<p>5 rows × 30 columns</p>\n",
       "</div>"
      ],
      "text/plain": [
       "   id           car_name  yr_mfr fuel_type  kms_run  sale_price   city  \\\n",
       "0   1       maruti swift    2015    petrol     8063      386399  noida   \n",
       "1   2    maruti alto 800    2016    petrol    23104      265499  noida   \n",
       "3   4       maruti swift    2013    diesel    39124      307999  noida   \n",
       "4   5  hyundai grand i10    2015    petrol    22116      361499  noida   \n",
       "5   6    maruti alto k10    2018    petrol    23534      335299  noida   \n",
       "\n",
       "   times_viewed  body_type transmission  ... total_owners  broker_quote  \\\n",
       "0         18715  hatchback       manual  ...            2        397677   \n",
       "1          2676  hatchback       manual  ...            1        272935   \n",
       "3          6511  hatchback       manual  ...            1        294262   \n",
       "4          3225  hatchback       manual  ...            1        360716   \n",
       "5          1055  hatchback       manual  ...            1        343212   \n",
       "\n",
       "  original_price car_rating            ad_created_on fitness_certificate  \\\n",
       "0       404177.0      great  2021-04-04T07:09:18.583                True   \n",
       "1       354313.0      great  2021-03-22T14:07:32.833                True   \n",
       "3       374326.0      great  2021-01-21T12:59:19.299                True   \n",
       "4       367216.0      great  2021-04-01T13:33:40.733                True   \n",
       "5       439056.0      great   2021-04-13T05:55:16.99                True   \n",
       "\n",
       "  emi_starts_from booking_down_pymnt reserved warranty_avail  \n",
       "0            8975              57960    False          False  \n",
       "1            6167              39825    False          False  \n",
       "3            7154              46200    False          False  \n",
       "4            8397              54225    False          False  \n",
       "5            7788              50295    False          False  \n",
       "\n",
       "[5 rows x 30 columns]"
      ]
     },
     "execution_count": 17,
     "metadata": {},
     "output_type": "execute_result"
    }
   ],
   "source": [
    "df.head()"
   ]
  },
  {
   "cell_type": "code",
   "execution_count": 10,
   "id": "3318705d",
   "metadata": {},
   "outputs": [
    {
     "data": {
      "text/plain": [
       "162"
      ]
     },
     "execution_count": 10,
     "metadata": {},
     "output_type": "execute_result"
    }
   ],
   "source": [
    "list_of_car_names = df1['car_name'].unique()\n",
    "len(list_of_car_names)"
   ]
  },
  {
   "cell_type": "code",
   "execution_count": 11,
   "id": "59eeca27",
   "metadata": {},
   "outputs": [
    {
     "data": {
      "text/plain": [
       "id                        0\n",
       "car_name                  0\n",
       "yr_mfr                    0\n",
       "fuel_type                 0\n",
       "kms_run                   0\n",
       "sale_price                0\n",
       "city                      0\n",
       "times_viewed              0\n",
       "body_type                43\n",
       "transmission              0\n",
       "variant                   0\n",
       "assured_buy               0\n",
       "registered_city           8\n",
       "registered_state          8\n",
       "is_hot                    0\n",
       "rto                       0\n",
       "source                  114\n",
       "make                      0\n",
       "model                     0\n",
       "car_availability        438\n",
       "total_owners              0\n",
       "broker_quote              0\n",
       "original_price         2824\n",
       "car_rating                7\n",
       "ad_created_on             1\n",
       "fitness_certificate       8\n",
       "emi_starts_from           0\n",
       "booking_down_pymnt        0\n",
       "reserved                  0\n",
       "warranty_avail            0\n",
       "dtype: int64"
      ]
     },
     "execution_count": 11,
     "metadata": {},
     "output_type": "execute_result"
    }
   ],
   "source": [
    "df1.isnull().sum()"
   ]
  },
  {
   "cell_type": "code",
   "execution_count": 12,
   "id": "a77ffd92",
   "metadata": {},
   "outputs": [],
   "source": [
    "df1.loc[df1[\"car_name\"] == \"hyundai grand i10\", \"original_price\"] = 600000\n",
    "df1.loc[df1[\"car_name\"] == \"maruti ritz\", \"original_price\"] = 500000\n",
    "df1.loc[df1[\"car_name\"] == \"hyundai i10\", \"original_price\"] = 400000\n",
    "df1.loc[df1[\"car_name\"] == \"hyundai eon\", \"original_price\"] = 300000\n",
    "df1.loc[df1[\"car_name\"] == \"maruti swift\", \"original_price\"] = 600000\n",
    "df1.loc[df1[\"car_name\"] == \"maruti alto\", \"original_price\"] = 300000\n",
    "df1.loc[df1[\"car_name\"] == \"hyundai i20\", \"original_price\"] = 800000\n",
    "df1.loc[df1[\"car_name\"] == \"hyundai xcent\", \"original_price\"] = 600000\n",
    "df1.loc[df1[\"car_name\"] == \"hyundai santro xing\", \"original_price\"] = 500000\n",
    "df1.loc[df1[\"car_name\"] == \"maruti alto k10\", \"original_price\"] = 400000\n",
    "df1.loc[df1[\"car_name\"] == \"maruti swift dzire\", \"original_price\"] = 630000\n",
    "df1.loc[df1[\"car_name\"] == \"maruti wagon r 1.0\", \"original_price\"] = 550000\n",
    "df1.loc[df1[\"car_name\"] == \"audi q3\", \"original_price\"] = 5000000\n",
    "df1.loc[df1[\"car_name\"] == \"hyundai elite i20\", \"original_price\"] = 700000\n",
    "df1.loc[df1[\"car_name\"] == \"datsun redi go\", \"original_price\"] = 400000\n",
    "df1.loc[df1[\"car_name\"] == \"honda amaze\", \"original_price\"] = 670000\n",
    "df1.loc[df1[\"car_name\"] == \"volkswagen polo\", \"original_price\"] = 600000\n",
    "df1.loc[df1[\"car_name\"] == \"tata tiago\", \"original_price\"] = 540000\n",
    "df1.loc[df1[\"car_name\"] == \"mahindra scorpio\", \"original_price\"] = 1200000\n",
    "df1.loc[df1[\"car_name\"] == \"ford figo\", \"original_price\"] = 600000\n",
    "df1.loc[df1[\"car_name\"] == \"maruti zen estilo\", \"original_price\"] = 400000\n",
    "df1.loc[df1[\"car_name\"] == \"maruti celerio\", \"original_price\"] = 400000\n",
    "df1.loc[df1[\"car_name\"] == \"toyota innova\", \"original_price\"] = 200000\n",
    "df1.loc[df1[\"car_name\"] == \"maruti sx4\", \"original_price\"] = 800000\n",
    "df1.loc[df1[\"car_name\"] == \"honda city\", \"original_price\"] = 200000\n",
    "df1.loc[df1[\"car_name\"] == \"maruti ertiga\", \"original_price\"] = 900000\n",
    "df1.loc[df1[\"car_name\"] == \"tata harrier\", \"original_price\"] = 1470000\n",
    "df1.loc[df1[\"car_name\"] == \"toyota innova\", \"original_price\"] = 200000\n",
    "df1.loc[df1[\"car_name\"] == \"maruti eeco\", \"original_price\"] = 500000\n",
    "df1.loc[df1[\"car_name\"] == \"mahindra xuv500\", \"original_price\"] = 1500000\n",
    "df1.loc[df1[\"car_name\"] == \"toyota corolla altis\", \"original_price\"] = 1700000\n",
    "df1.loc[df1[\"car_name\"] == \"toyota innova\", \"original_price\"] = 200000\n",
    "df1.loc[df1[\"car_name\"] == \"maruti alto 800\", \"original_price\"] = 360000\n",
    "df1.loc[df1[\"car_name\"] == \"maruti 800\", \"original_price\"] = 200000\n",
    "df1.loc[df1[\"car_name\"] == \"renault kwid\", \"original_price\"] = 500000\n",
    "df1.loc[df1[\"car_name\"] == \"hyundai verna\", \"original_price\"] = 1000000\n",
    "df1.loc[df1[\"car_name\"] == \"chevrolet aveo u va\", \"original_price\"] = 450000\n",
    "df1.loc[df1[\"car_name\"] == \"tata indica vista\", \"original_price\"] = 430000\n",
    "df1.loc[df1[\"car_name\"] == \"toyota etios liva\", \"original_price\"] = 600000\n",
    "df1.loc[df1[\"car_name\"] == \"honda brio\", \"original_price\"] = 500000\n",
    "df1.loc[df1[\"car_name\"] == \"bmw 3 series\", \"original_price\"] = 5000000\n",
    "df1.loc[df1[\"car_name\"] == \"maruti s cross\", \"original_price\"] = 900000\n",
    "df1.loc[df1[\"car_name\"] == \"audi a4\", \"original_price\"] = 4500000\n",
    "df1.loc[df1[\"car_name\"] == \"toyota fortuner\", \"original_price\"] = 3500000\n",
    "df1.loc[df1[\"car_name\"] == \"volkswagen vento\", \"original_price\"] = 1000000\n",
    "df1.loc[df1[\"car_name\"] == \"maruti ciaz\", \"original_price\"] = 900000\n",
    "df1.loc[df1[\"car_name\"] == \"skoda laura\", \"original_price\"] = 1300000\n",
    "df1.loc[df1[\"car_name\"] == \"renault duster\", \"original_price\"] = 900000\n",
    "df1.loc[df1[\"car_name\"] == \"skoda superb\", \"original_price\"] = 3300000\n",
    "df1.loc[df1[\"car_name\"] == \"maruti esteem\", \"original_price\"] = 4500000\n",
    "df1.loc[df1[\"car_name\"] == \"mahindra bolero\", \"original_price\"] = 990000\n",
    "df1.loc[df1[\"car_name\"] == \"renault captur\", \"original_price\"] = 950000\n",
    "df1.loc[df1[\"car_name\"] == \"mercedes benz e class\", \"original_price\"] = 7000000\n",
    "df1.loc[df1[\"car_name\"] == \"hyundai sonata transform\", \"original_price\"] = 150000\n",
    "df1.loc[df1[\"car_name\"] == \"hyundai accent\", \"original_price\"] = 500000\n",
    "df1.loc[df1[\"car_name\"] == \"maruti baleno\", \"original_price\"] = 700000\n",
    "df1.loc[df1[\"car_name\"] == \"maruti vitara brezza\", \"original_price\"] = 800000\n",
    "df1.loc[df1[\"car_name\"] == \"maruti wagon r\", \"original_price\"] = 600000\n",
    "df1.loc[df1[\"car_name\"] == \"hyundai creta\", \"original_price\"] = 1100000\n",
    "df1.loc[df1[\"car_name\"] == \"tata nano\", \"original_price\"] = 250000\n",
    "df1.loc[df1[\"car_name\"] == \"mahindra e2o\", \"original_price\"] = 650000\n",
    "df1.loc[df1[\"car_name\"] == \"toyota etios\", \"original_price\"] = 700000\n",
    "df1.loc[df1[\"car_name\"] == \"maruti a star\", \"original_price\"] = 400000\n",
    "df1.loc[df1[\"car_name\"] == \"maruti omni e\", \"original_price\"] = 250000\n",
    "df1.loc[df1[\"car_name\"] == \"hyundai i20 active\", \"original_price\"] = 700000\n",
    "df1.loc[df1[\"car_name\"] == \"renault pulse\", \"original_price\"] = 510000\n",
    "df1.loc[df1[\"car_name\"] == \"chevrolet beat\", \"original_price\"] = 400000\n",
    "df1.loc[df1[\"car_name\"] == \"chevrolet spark\", \"original_price\"] = 390000\n",
    "df1.loc[df1[\"car_name\"] == \"hyundai getz prime\", \"original_price\"] = 400000\n",
    "df1.loc[df1[\"car_name\"] == \"maruti dzire\", \"original_price\"] = 600000\n",
    "df1.loc[df1[\"car_name\"] == \"volkswagen cross polo\", \"original_price\"] = 770000\n",
    "df1.loc[df1[\"car_name\"] == \"renault triber\", \"original_price\"] = 600000\n",
    "df1.loc[df1[\"car_name\"] == \"honda jazz\", \"original_price\"] = 850000\n",
    "df1.loc[df1[\"car_name\"] == \"maruti wagon r stingray\", \"original_price\"] = 460000\n",
    "df1.loc[df1[\"car_name\"] == \"honda jazz\", \"original_price\"] = 850000\n",
    "df1.loc[df1[\"car_name\"] == \"fiat grand punto\", \"original_price\"] = 650000\n",
    "df1.loc[df1[\"car_name\"] == \"nissan micra\", \"original_price\"] = 680000\n",
    "df1.loc[df1[\"car_name\"] == \"ford ecosport\", \"original_price\"] = 820000\n",
    "df1.loc[df1[\"car_name\"] == \"maruti wagon r duo\", \"original_price\"] = 400000\n",
    "df1.loc[df1[\"car_name\"] == \"mahindra kuv100\", \"original_price\"] = 620000\n",
    "df1.loc[df1[\"car_name\"] == \"ford fiesta\", \"original_price\"] = 900000\n",
    "df1.loc[df1[\"car_name\"] == \"hyundai new elantra\", \"original_price\"] = 1800000\n",
    "df1.loc[df1[\"car_name\"] == \"maruti ignis\", \"original_price\"] = 590000\n",
    "df1.loc[df1[\"car_name\"] == \"maruti omni\", \"original_price\"] = 290000\n",
    "df1.loc[df1[\"car_name\"] == \"nissan sunny\", \"original_price\"] = 800000\n",
    "df1.loc[df1[\"car_name\"] == \"tata tigor\", \"original_price\"] = 600000\n",
    "df1.loc[df1[\"car_name\"] == \"chevrolet enjoy\", \"original_price\"] = 540000\n",
    "df1.loc[df1[\"car_name\"] == \"audi a3\", \"original_price\"] = 2900000\n",
    "df1.loc[df1[\"car_name\"] == \"ford fiesta classic\", \"original_price\"] = 600000\n",
    "df1.loc[df1[\"car_name\"] == \"datsun go\", \"original_price\"] = 450000\n",
    "df1.loc[df1[\"car_name\"] == \"tata bolt\", \"original_price\"] = 680000\n",
    "df1.loc[df1[\"car_name\"] == \"mahindra marazzo\", \"original_price\"] = 1400000\n",
    "df1.loc[df1[\"car_name\"] == \"skoda rapid\", \"original_price\"] = 700000\n",
    "df1.loc[df1[\"car_name\"] == \"tata nexon\", \"original_price\"] = 800000\n",
    "df1.loc[df1[\"car_name\"] == \"volkswagen jetta\", \"original_price\"] = 1500000\n",
    "df1.loc[df1[\"car_name\"] == \"nissan terrano\", \"original_price\"] = 1000000\n",
    "df1.loc[df1[\"car_name\"] == \"maruti zen\", \"original_price\"] = 380000\n",
    "df1.loc[df1[\"car_name\"] == \"mahindra renault logan\", \"original_price\"] = 550000\n",
    "df1.loc[df1[\"car_name\"] == \"fiat linea\", \"original_price\"] = 800000\n",
    "df1.loc[df1[\"car_name\"] == \"mahindra reva\", \"original_price\"] = 400000\n",
    "df1.loc[df1[\"car_name\"] == \"hyundai santro\", \"original_price\"] = 500000\n",
    "df1.loc[df1[\"car_name\"] == \"toyota camry\", \"original_price\"] = 440000\n",
    "df1.loc[df1[\"car_name\"] == \"honda mobilio\", \"original_price\"] = 750000\n",
    "df1.loc[df1[\"car_name\"] == \"mahindra xylo\", \"original_price\"] = 900000\n",
    "df1.loc[df1[\"car_name\"] == \"mahindra verito\", \"original_price\"] = 550000\n",
    "df1.loc[df1[\"car_name\"] == \"toyota corolla\", \"original_price\"] = 900000\n",
    "df1.loc[df1[\"car_name\"] == \"mahindra thar\", \"original_price\"] = 1400000\n",
    "df1.loc[df1[\"car_name\"] == \"fiat punto evo\", \"original_price\"] = 500000\n",
    "df1.loc[df1[\"car_name\"] == \"honda city zx\", \"original_price\"] = 700000\n",
    "df1.loc[df1[\"car_name\"] == \"hyundai santa fe\", \"original_price\"] = 2800000\n",
    "df1.loc[df1[\"car_name\"] == \"renault scala\", \"original_price\"] = 800000\n",
    "df1.loc[df1[\"car_name\"] == \"skoda fabia\", \"original_price\"] = 600000\n",
    "df1.loc[df1[\"car_name\"] == \"skoda yeti\", \"original_price\"] = 2000000\n",
    "df1.loc[df1[\"car_name\"] == \"tata safari\", \"original_price\"] = 1800000\n",
    "df1.loc[df1[\"car_name\"] == \"hyundai tucson new\", \"original_price\"] = 3000000\n",
    "df1.loc[df1[\"car_name\"] == \"mahindra quanto\", \"original_price\"] = 700000\n",
    "df1.loc[df1[\"car_name\"] == \"bmw 5 series\", \"original_price\"] = 6500000\n",
    "df1.loc[df1[\"car_name\"] == \"honda accord\", \"original_price\"] = 4400000\n",
    "df1.loc[df1[\"car_name\"] == \"maruti s presso\", \"original_price\"] = 450000\n",
    "df1.loc[df1[\"car_name\"] == \"hyundai new santro\", \"original_price\"] = 500000\n",
    "df1.loc[df1[\"car_name\"] == \"ford figo aspire\", \"original_price\"] = 600000\n",
    "df1.loc[df1[\"car_name\"] == \"volkswagen ameo\", \"original_price\"] = 600000\n",
    "df1.loc[df1[\"car_name\"] == \"chevrolet cruze\", \"original_price\"] = 1400000\n",
    "df1.loc[df1[\"car_name\"] == \"maruti new wagon-r\", \"original_price\"] = 600000\n",
    "df1.loc[df1[\"car_name\"] == \"tata zest\", \"original_price\"] = 550000\n",
    "df1.loc[df1[\"car_name\"] == \"mercedes benz cls class\", \"original_price\"] = 8400000\n",
    "df1.loc[df1[\"car_name\"] == \"mercedes benz c class\", \"original_price\"] = 5500000\n",
    "df1.loc[df1[\"car_name\"] == \"honda wr-v\", \"original_price\"] = 925000\n",
    "df1.loc[df1[\"car_name\"] == \"mg hector\", \"original_price\"] = 1400000\n",
    "df1.loc[df1[\"car_name\"] == \"mahindra tuv300\", \"original_price\"] = 900000\n",
    "df1.loc[df1[\"car_name\"] == \"toyota prius\", \"original_price\"] = 4500000\n",
    "df1.loc[df1[\"car_name\"] == \"skoda octavia\", \"original_price\"] = 2700000\n",
    "df1.loc[df1[\"car_name\"] == \"honda civic\", \"original_price\"] = 1800000\n",
    "df1.loc[df1[\"car_name\"] == \"tata manza\", \"original_price\"] = 600000\n",
    "df1.loc[df1[\"car_name\"] == \"honda crv\", \"original_price\"] = 2900000\n",
    "df1.loc[df1[\"car_name\"] == \"tata sumo gold\", \"original_price\"] = 600000\n",
    "df1.loc[df1[\"car_name\"] == \"tata indica v2\", \"original_price\"] = 400000\n",
    "df1.loc[df1[\"car_name\"] == \"maruti celerio x\", \"original_price\"] = 520000\n",
    "df1.loc[df1[\"car_name\"] == \"hyundai venue\", \"original_price\"] = 800000\n",
    "df1.loc[df1[\"car_name\"] == \"jeep compass\", \"original_price\"] = 2000000\n",
    "df1.loc[df1[\"car_name\"] == \"tata hexa\", \"original_price\"] = 1400000\n",
    "df1.loc[df1[\"car_name\"] == \"toyota innova crysta\", \"original_price\"] = 2000000\n",
    "df1.loc[df1[\"car_name\"] == \"tata safari storme\", \"original_price\"] = 1200000\n",
    "df1.loc[df1[\"car_name\"] == \"datsun go plus\", \"original_price\"] = 450000\n",
    "df1.loc[df1[\"car_name\"] == \"audi a6\", \"original_price\"] = 6100000\n",
    "df1.loc[df1[\"car_name\"] == \"ford ikon\", \"original_price\"] = 500000\n",
    "df1.loc[df1[\"car_name\"] == \"bmw x1\", \"original_price\"] = 4100000\n",
    "df1.loc[df1[\"car_name\"] == \"honda br-v\", \"original_price\"] = 900000\n",
    "df1.loc[df1[\"car_name\"] == \"ford new figo\", \"original_price\"] = 600000\n",
    "df1.loc[df1[\"car_name\"] == \"mercedes benz gla class\", \"original_price\"] = 4500000\n",
    "df1.loc[df1[\"car_name\"] == \"mahindra maxximo\", \"original_price\"] = 340000\n",
    "df1.loc[df1[\"car_name\"] == \"tata indigo ecs\", \"original_price\"] = 550000\n",
    "df1.loc[df1[\"car_name\"] == \"mg zs ev\", \"original_price\"] = 2300000\n",
    "df1.loc[df1[\"car_name\"] == \"renault lodgy\", \"original_price\"] = 900000\n",
    "df1.loc[df1[\"car_name\"] == \"fiat punto pure\", \"original_price\"] = 500000\n",
    "df1.loc[df1[\"car_name\"] == \"opel astra\", \"original_price\"] = 800000\n",
    "df1.loc[df1[\"car_name\"] == \"chevrolet optra magnum\", \"original_price\"] = 900000\n",
    "df1.loc[df1[\"car_name\"] == \"nissan evalia\", \"original_price\"] = 930000\n",
    "df1.loc[df1[\"car_name\"] == \"volvo s60\", \"original_price\"] = 450000\n",
    "df1.loc[df1[\"car_name\"] == \"volvo xc 60\", \"original_price\"] = 6500000\n",
    "df1.loc[df1[\"car_name\"] == \"tata indigo cs\", \"original_price\"] = 500000\n",
    "df1.loc[df1[\"car_name\"] == \"renault fluence\", \"original_price\"] = 1500000\n",
    "df1.loc[df1[\"car_name\"] == \"chevrolet optra\", \"original_price\"] = 900000\n",
    "df1.loc[df1[\"car_name\"] == \"tata indica ev2\", \"original_price\"] = 515000\n"
   ]
  },
  {
   "cell_type": "code",
   "execution_count": 16,
   "id": "35212ef7",
   "metadata": {},
   "outputs": [
    {
     "data": {
      "text/html": [
       "<div>\n",
       "<style scoped>\n",
       "    .dataframe tbody tr th:only-of-type {\n",
       "        vertical-align: middle;\n",
       "    }\n",
       "\n",
       "    .dataframe tbody tr th {\n",
       "        vertical-align: top;\n",
       "    }\n",
       "\n",
       "    .dataframe thead th {\n",
       "        text-align: right;\n",
       "    }\n",
       "</style>\n",
       "<table border=\"1\" class=\"dataframe\">\n",
       "  <thead>\n",
       "    <tr style=\"text-align: right;\">\n",
       "      <th></th>\n",
       "      <th>id</th>\n",
       "      <th>car_name</th>\n",
       "      <th>yr_mfr</th>\n",
       "      <th>fuel_type</th>\n",
       "      <th>kms_run</th>\n",
       "      <th>sale_price</th>\n",
       "      <th>city</th>\n",
       "      <th>times_viewed</th>\n",
       "      <th>body_type</th>\n",
       "      <th>transmission</th>\n",
       "      <th>...</th>\n",
       "      <th>total_owners</th>\n",
       "      <th>broker_quote</th>\n",
       "      <th>original_price</th>\n",
       "      <th>car_rating</th>\n",
       "      <th>ad_created_on</th>\n",
       "      <th>fitness_certificate</th>\n",
       "      <th>emi_starts_from</th>\n",
       "      <th>booking_down_pymnt</th>\n",
       "      <th>reserved</th>\n",
       "      <th>warranty_avail</th>\n",
       "    </tr>\n",
       "  </thead>\n",
       "  <tbody>\n",
       "    <tr>\n",
       "      <th>2</th>\n",
       "      <td>3</td>\n",
       "      <td>hyundai grand i10</td>\n",
       "      <td>2017</td>\n",
       "      <td>petrol</td>\n",
       "      <td>23402</td>\n",
       "      <td>477699</td>\n",
       "      <td>noida</td>\n",
       "      <td>609</td>\n",
       "      <td>hatchback</td>\n",
       "      <td>manual</td>\n",
       "      <td>...</td>\n",
       "      <td>1</td>\n",
       "      <td>469605</td>\n",
       "      <td>600000.0</td>\n",
       "      <td>great</td>\n",
       "      <td>2021-03-20T05:36:31.311</td>\n",
       "      <td>True</td>\n",
       "      <td>11096</td>\n",
       "      <td>71655</td>\n",
       "      <td>False</td>\n",
       "      <td>False</td>\n",
       "    </tr>\n",
       "    <tr>\n",
       "      <th>6</th>\n",
       "      <td>7</td>\n",
       "      <td>maruti ritz</td>\n",
       "      <td>2012</td>\n",
       "      <td>diesel</td>\n",
       "      <td>41213</td>\n",
       "      <td>281999</td>\n",
       "      <td>noida</td>\n",
       "      <td>909</td>\n",
       "      <td>hatchback</td>\n",
       "      <td>manual</td>\n",
       "      <td>...</td>\n",
       "      <td>1</td>\n",
       "      <td>201200</td>\n",
       "      <td>500000.0</td>\n",
       "      <td>great</td>\n",
       "      <td>2020-12-29T07:26:25.321</td>\n",
       "      <td>True</td>\n",
       "      <td>6550</td>\n",
       "      <td>42300</td>\n",
       "      <td>False</td>\n",
       "      <td>False</td>\n",
       "    </tr>\n",
       "    <tr>\n",
       "      <th>11</th>\n",
       "      <td>12</td>\n",
       "      <td>hyundai i10</td>\n",
       "      <td>2008</td>\n",
       "      <td>petrol</td>\n",
       "      <td>44219</td>\n",
       "      <td>194699</td>\n",
       "      <td>noida</td>\n",
       "      <td>1798</td>\n",
       "      <td>hatchback</td>\n",
       "      <td>manual</td>\n",
       "      <td>...</td>\n",
       "      <td>1</td>\n",
       "      <td>153600</td>\n",
       "      <td>400000.0</td>\n",
       "      <td>good</td>\n",
       "      <td>2021-03-08T05:26:08.476</td>\n",
       "      <td>True</td>\n",
       "      <td>4522</td>\n",
       "      <td>29205</td>\n",
       "      <td>False</td>\n",
       "      <td>False</td>\n",
       "    </tr>\n",
       "  </tbody>\n",
       "</table>\n",
       "<p>3 rows × 30 columns</p>\n",
       "</div>"
      ],
      "text/plain": [
       "    id           car_name  yr_mfr fuel_type  kms_run  sale_price   city  \\\n",
       "2    3  hyundai grand i10    2017    petrol    23402      477699  noida   \n",
       "6    7        maruti ritz    2012    diesel    41213      281999  noida   \n",
       "11  12        hyundai i10    2008    petrol    44219      194699  noida   \n",
       "\n",
       "    times_viewed  body_type transmission  ... total_owners  broker_quote  \\\n",
       "2            609  hatchback       manual  ...            1        469605   \n",
       "6            909  hatchback       manual  ...            1        201200   \n",
       "11          1798  hatchback       manual  ...            1        153600   \n",
       "\n",
       "   original_price car_rating            ad_created_on fitness_certificate  \\\n",
       "2        600000.0      great  2021-03-20T05:36:31.311                True   \n",
       "6        500000.0      great  2020-12-29T07:26:25.321                True   \n",
       "11       400000.0       good  2021-03-08T05:26:08.476                True   \n",
       "\n",
       "   emi_starts_from booking_down_pymnt reserved warranty_avail  \n",
       "2            11096              71655    False          False  \n",
       "6             6550              42300    False          False  \n",
       "11            4522              29205    False          False  \n",
       "\n",
       "[3 rows x 30 columns]"
      ]
     },
     "execution_count": 16,
     "metadata": {},
     "output_type": "execute_result"
    }
   ],
   "source": [
    "df1.head(3)"
   ]
  },
  {
   "cell_type": "code",
   "execution_count": 14,
   "id": "5ef23da5",
   "metadata": {},
   "outputs": [
    {
     "data": {
      "text/plain": [
       "array(['in_stock', 'in_transit', nan, 'pickup_pending', 'out_of_stock'],\n",
       "      dtype=object)"
      ]
     },
     "execution_count": 14,
     "metadata": {},
     "output_type": "execute_result"
    }
   ],
   "source": [
    "df1['car_availability'].unique()"
   ]
  },
  {
   "cell_type": "code",
   "execution_count": 15,
   "id": "77b98ecf",
   "metadata": {},
   "outputs": [
    {
     "data": {
      "text/plain": [
       "array(['inperson_sale', nan, 'online', 'customer_to_customer'],\n",
       "      dtype=object)"
      ]
     },
     "execution_count": 15,
     "metadata": {},
     "output_type": "execute_result"
    }
   ],
   "source": [
    "df1['source'].unique()"
   ]
  },
  {
   "cell_type": "code",
   "execution_count": 18,
   "id": "7f6d359f",
   "metadata": {},
   "outputs": [],
   "source": [
    "df = df.append(df1)"
   ]
  },
  {
   "cell_type": "code",
   "execution_count": 22,
   "id": "91f90d78",
   "metadata": {},
   "outputs": [
    {
     "data": {
      "text/plain": [
       "id                       0\n",
       "car_name                 0\n",
       "yr_mfr                   0\n",
       "fuel_type                0\n",
       "kms_run                  0\n",
       "sale_price               0\n",
       "city                     0\n",
       "times_viewed             0\n",
       "body_type               43\n",
       "transmission             0\n",
       "variant                  0\n",
       "assured_buy              0\n",
       "registered_city          8\n",
       "registered_state         8\n",
       "is_hot                   0\n",
       "rto                      0\n",
       "source                 114\n",
       "make                     0\n",
       "model                    0\n",
       "car_availability       438\n",
       "total_owners             0\n",
       "broker_quote             0\n",
       "original_price           6\n",
       "car_rating               7\n",
       "ad_created_on            1\n",
       "fitness_certificate      8\n",
       "emi_starts_from          0\n",
       "booking_down_pymnt       0\n",
       "reserved                 0\n",
       "warranty_avail           0\n",
       "dtype: int64"
      ]
     },
     "execution_count": 22,
     "metadata": {},
     "output_type": "execute_result"
    }
   ],
   "source": [
    "df.isnull().sum()"
   ]
  },
  {
   "cell_type": "code",
   "execution_count": 23,
   "id": "a93b3ed5",
   "metadata": {},
   "outputs": [],
   "source": [
    "df = df.dropna(subset=['body_type','registered_city','registered_state','source','car_availability','original_price','car_rating','ad_created_on','fitness_certificate'])"
   ]
  },
  {
   "cell_type": "code",
   "execution_count": 26,
   "id": "75b229e3",
   "metadata": {},
   "outputs": [
    {
     "data": {
      "text/plain": [
       "(5790, 30)"
      ]
     },
     "execution_count": 26,
     "metadata": {},
     "output_type": "execute_result"
    }
   ],
   "source": [
    "df.shape"
   ]
  },
  {
   "cell_type": "code",
   "execution_count": 27,
   "id": "9a2cc223",
   "metadata": {},
   "outputs": [],
   "source": [
    "df.to_csv('car_updated_dataset.csv')"
   ]
  }
 ],
 "metadata": {
  "kernelspec": {
   "display_name": "Python 3.8.10 64-bit ('Env01': venv)",
   "language": "python",
   "name": "python3"
  },
  "language_info": {
   "codemirror_mode": {
    "name": "ipython",
    "version": 3
   },
   "file_extension": ".py",
   "mimetype": "text/x-python",
   "name": "python",
   "nbconvert_exporter": "python",
   "pygments_lexer": "ipython3",
   "version": "3.8.10"
  },
  "vscode": {
   "interpreter": {
    "hash": "c8ba2787a84a7f2f66ebb7354e6e2d953480730db5b3e727c0f12de54f4bace1"
   }
  }
 },
 "nbformat": 4,
 "nbformat_minor": 5
}
