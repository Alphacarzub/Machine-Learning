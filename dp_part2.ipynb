{
 "cells": [
  {
   "cell_type": "code",
   "execution_count": 1,
   "metadata": {},
   "outputs": [
    {
     "data": {
      "text/html": [
       "<div>\n",
       "<style scoped>\n",
       "    .dataframe tbody tr th:only-of-type {\n",
       "        vertical-align: middle;\n",
       "    }\n",
       "\n",
       "    .dataframe tbody tr th {\n",
       "        vertical-align: top;\n",
       "    }\n",
       "\n",
       "    .dataframe thead th {\n",
       "        text-align: right;\n",
       "    }\n",
       "</style>\n",
       "<table border=\"1\" class=\"dataframe\">\n",
       "  <thead>\n",
       "    <tr style=\"text-align: right;\">\n",
       "      <th></th>\n",
       "      <th>id</th>\n",
       "      <th>car_name</th>\n",
       "      <th>yr_mfr</th>\n",
       "      <th>fuel_type</th>\n",
       "      <th>kms_run</th>\n",
       "      <th>sale_price</th>\n",
       "      <th>city</th>\n",
       "      <th>times_viewed</th>\n",
       "      <th>body_type</th>\n",
       "      <th>transmission</th>\n",
       "      <th>...</th>\n",
       "      <th>total_owners</th>\n",
       "      <th>broker_quote</th>\n",
       "      <th>original_price</th>\n",
       "      <th>car_rating</th>\n",
       "      <th>ad_created_on</th>\n",
       "      <th>fitness_certificate</th>\n",
       "      <th>emi_starts_from</th>\n",
       "      <th>booking_down_pymnt</th>\n",
       "      <th>reserved</th>\n",
       "      <th>warranty_avail</th>\n",
       "    </tr>\n",
       "  </thead>\n",
       "  <tbody>\n",
       "    <tr>\n",
       "      <th>0</th>\n",
       "      <td>1</td>\n",
       "      <td>maruti swift</td>\n",
       "      <td>2015</td>\n",
       "      <td>petrol</td>\n",
       "      <td>8063</td>\n",
       "      <td>386399</td>\n",
       "      <td>noida</td>\n",
       "      <td>18715</td>\n",
       "      <td>hatchback</td>\n",
       "      <td>manual</td>\n",
       "      <td>...</td>\n",
       "      <td>2</td>\n",
       "      <td>397677</td>\n",
       "      <td>404177.0</td>\n",
       "      <td>great</td>\n",
       "      <td>2021-04-04T07:09:18.583</td>\n",
       "      <td>True</td>\n",
       "      <td>8975</td>\n",
       "      <td>57960</td>\n",
       "      <td>False</td>\n",
       "      <td>False</td>\n",
       "    </tr>\n",
       "    <tr>\n",
       "      <th>1</th>\n",
       "      <td>2</td>\n",
       "      <td>maruti alto 800</td>\n",
       "      <td>2016</td>\n",
       "      <td>petrol</td>\n",
       "      <td>23104</td>\n",
       "      <td>265499</td>\n",
       "      <td>noida</td>\n",
       "      <td>2676</td>\n",
       "      <td>hatchback</td>\n",
       "      <td>manual</td>\n",
       "      <td>...</td>\n",
       "      <td>1</td>\n",
       "      <td>272935</td>\n",
       "      <td>354313.0</td>\n",
       "      <td>great</td>\n",
       "      <td>2021-03-22T14:07:32.833</td>\n",
       "      <td>True</td>\n",
       "      <td>6167</td>\n",
       "      <td>39825</td>\n",
       "      <td>False</td>\n",
       "      <td>False</td>\n",
       "    </tr>\n",
       "    <tr>\n",
       "      <th>3</th>\n",
       "      <td>4</td>\n",
       "      <td>maruti swift</td>\n",
       "      <td>2013</td>\n",
       "      <td>diesel</td>\n",
       "      <td>39124</td>\n",
       "      <td>307999</td>\n",
       "      <td>noida</td>\n",
       "      <td>6511</td>\n",
       "      <td>hatchback</td>\n",
       "      <td>manual</td>\n",
       "      <td>...</td>\n",
       "      <td>1</td>\n",
       "      <td>294262</td>\n",
       "      <td>374326.0</td>\n",
       "      <td>great</td>\n",
       "      <td>2021-01-21T12:59:19.299</td>\n",
       "      <td>True</td>\n",
       "      <td>7154</td>\n",
       "      <td>46200</td>\n",
       "      <td>False</td>\n",
       "      <td>False</td>\n",
       "    </tr>\n",
       "    <tr>\n",
       "      <th>4</th>\n",
       "      <td>5</td>\n",
       "      <td>hyundai grand i10</td>\n",
       "      <td>2015</td>\n",
       "      <td>petrol</td>\n",
       "      <td>22116</td>\n",
       "      <td>361499</td>\n",
       "      <td>noida</td>\n",
       "      <td>3225</td>\n",
       "      <td>hatchback</td>\n",
       "      <td>manual</td>\n",
       "      <td>...</td>\n",
       "      <td>1</td>\n",
       "      <td>360716</td>\n",
       "      <td>367216.0</td>\n",
       "      <td>great</td>\n",
       "      <td>2021-04-01T13:33:40.733</td>\n",
       "      <td>True</td>\n",
       "      <td>8397</td>\n",
       "      <td>54225</td>\n",
       "      <td>False</td>\n",
       "      <td>False</td>\n",
       "    </tr>\n",
       "    <tr>\n",
       "      <th>5</th>\n",
       "      <td>6</td>\n",
       "      <td>maruti alto k10</td>\n",
       "      <td>2018</td>\n",
       "      <td>petrol</td>\n",
       "      <td>23534</td>\n",
       "      <td>335299</td>\n",
       "      <td>noida</td>\n",
       "      <td>1055</td>\n",
       "      <td>hatchback</td>\n",
       "      <td>manual</td>\n",
       "      <td>...</td>\n",
       "      <td>1</td>\n",
       "      <td>343212</td>\n",
       "      <td>439056.0</td>\n",
       "      <td>great</td>\n",
       "      <td>2021-04-13T05:55:16.99</td>\n",
       "      <td>True</td>\n",
       "      <td>7788</td>\n",
       "      <td>50295</td>\n",
       "      <td>False</td>\n",
       "      <td>False</td>\n",
       "    </tr>\n",
       "  </tbody>\n",
       "</table>\n",
       "<p>5 rows × 30 columns</p>\n",
       "</div>"
      ],
      "text/plain": [
       "   id           car_name  yr_mfr fuel_type  kms_run  sale_price   city  \\\n",
       "0   1       maruti swift    2015    petrol     8063      386399  noida   \n",
       "1   2    maruti alto 800    2016    petrol    23104      265499  noida   \n",
       "3   4       maruti swift    2013    diesel    39124      307999  noida   \n",
       "4   5  hyundai grand i10    2015    petrol    22116      361499  noida   \n",
       "5   6    maruti alto k10    2018    petrol    23534      335299  noida   \n",
       "\n",
       "   times_viewed  body_type transmission  ... total_owners  broker_quote  \\\n",
       "0         18715  hatchback       manual  ...            2        397677   \n",
       "1          2676  hatchback       manual  ...            1        272935   \n",
       "3          6511  hatchback       manual  ...            1        294262   \n",
       "4          3225  hatchback       manual  ...            1        360716   \n",
       "5          1055  hatchback       manual  ...            1        343212   \n",
       "\n",
       "  original_price car_rating            ad_created_on fitness_certificate  \\\n",
       "0       404177.0      great  2021-04-04T07:09:18.583                True   \n",
       "1       354313.0      great  2021-03-22T14:07:32.833                True   \n",
       "3       374326.0      great  2021-01-21T12:59:19.299                True   \n",
       "4       367216.0      great  2021-04-01T13:33:40.733                True   \n",
       "5       439056.0      great   2021-04-13T05:55:16.99                True   \n",
       "\n",
       "  emi_starts_from booking_down_pymnt reserved warranty_avail  \n",
       "0            8975              57960    False          False  \n",
       "1            6167              39825    False          False  \n",
       "3            7154              46200    False          False  \n",
       "4            8397              54225    False          False  \n",
       "5            7788              50295    False          False  \n",
       "\n",
       "[5 rows x 30 columns]"
      ]
     },
     "execution_count": 1,
     "metadata": {},
     "output_type": "execute_result"
    }
   ],
   "source": [
    "import pandas as pd\n",
    "df = pd.read_csv('/home/sarang/Desktop/AML-pro-assignment/car_updated_dataset.csv')\n",
    "df.head()"
   ]
  },
  {
   "cell_type": "code",
   "execution_count": 2,
   "metadata": {},
   "outputs": [
    {
     "data": {
      "text/plain": [
       "['car_name',\n",
       " 'fuel_type',\n",
       " 'city',\n",
       " 'body_type',\n",
       " 'transmission',\n",
       " 'variant',\n",
       " 'registered_city',\n",
       " 'registered_state',\n",
       " 'rto',\n",
       " 'source',\n",
       " 'make',\n",
       " 'model',\n",
       " 'car_availability',\n",
       " 'car_rating',\n",
       " 'ad_created_on']"
      ]
     },
     "execution_count": 2,
     "metadata": {},
     "output_type": "execute_result"
    }
   ],
   "source": [
    "obj_columns = list(df.select_dtypes(include='object'))\n",
    "obj_columns"
   ]
  },
  {
   "cell_type": "code",
   "execution_count": 3,
   "metadata": {},
   "outputs": [],
   "source": [
    "df = df.drop(columns=['ad_created_on','registered_state','id'],axis=1)"
   ]
  },
  {
   "cell_type": "code",
   "execution_count": 4,
   "metadata": {},
   "outputs": [],
   "source": [
    "obj_list = ['car_name','fuel_type','city','body_type','transmission','variant','registered_city','rto','source','make','model','car_availability','car_rating']"
   ]
  },
  {
   "cell_type": "code",
   "execution_count": 5,
   "metadata": {},
   "outputs": [],
   "source": [
    "from sklearn import preprocessing\n",
    "label_encoder = preprocessing.LabelEncoder()\n",
    "for obj in obj_list:\n",
    "    df[obj]= label_encoder.fit_transform(df[obj])\n"
   ]
  },
  {
   "cell_type": "code",
   "execution_count": 6,
   "metadata": {},
   "outputs": [
    {
     "name": "stdout",
     "output_type": "stream",
     "text": [
      "<class 'pandas.core.frame.DataFrame'>\n",
      "Int64Index: 5790 entries, 0 to 6390\n",
      "Data columns (total 27 columns):\n",
      " #   Column               Non-Null Count  Dtype  \n",
      "---  ------               --------------  -----  \n",
      " 0   car_name             5790 non-null   int64  \n",
      " 1   yr_mfr               5790 non-null   int64  \n",
      " 2   fuel_type            5790 non-null   int64  \n",
      " 3   kms_run              5790 non-null   int64  \n",
      " 4   sale_price           5790 non-null   int64  \n",
      " 5   city                 5790 non-null   int64  \n",
      " 6   times_viewed         5790 non-null   int64  \n",
      " 7   body_type            5790 non-null   int64  \n",
      " 8   transmission         5790 non-null   int64  \n",
      " 9   variant              5790 non-null   int64  \n",
      " 10  assured_buy          5790 non-null   bool   \n",
      " 11  registered_city      5790 non-null   int64  \n",
      " 12  is_hot               5790 non-null   bool   \n",
      " 13  rto                  5790 non-null   int64  \n",
      " 14  source               5790 non-null   int64  \n",
      " 15  make                 5790 non-null   int64  \n",
      " 16  model                5790 non-null   int64  \n",
      " 17  car_availability     5790 non-null   int64  \n",
      " 18  total_owners         5790 non-null   int64  \n",
      " 19  broker_quote         5790 non-null   int64  \n",
      " 20  original_price       5790 non-null   float64\n",
      " 21  car_rating           5790 non-null   int64  \n",
      " 22  fitness_certificate  5790 non-null   bool   \n",
      " 23  emi_starts_from      5790 non-null   int64  \n",
      " 24  booking_down_pymnt   5790 non-null   int64  \n",
      " 25  reserved             5790 non-null   bool   \n",
      " 26  warranty_avail       5790 non-null   bool   \n",
      "dtypes: bool(5), float64(1), int64(21)\n",
      "memory usage: 1.0 MB\n"
     ]
    }
   ],
   "source": [
    "df.info()"
   ]
  },
  {
   "cell_type": "code",
   "execution_count": 7,
   "metadata": {},
   "outputs": [
    {
     "data": {
      "text/plain": [
       "(5790, 26)"
      ]
     },
     "execution_count": 7,
     "metadata": {},
     "output_type": "execute_result"
    }
   ],
   "source": [
    "x = df.drop(columns=['sale_price'],axis=1)\n",
    "x.shape"
   ]
  },
  {
   "cell_type": "code",
   "execution_count": 8,
   "metadata": {},
   "outputs": [
    {
     "data": {
      "text/plain": [
       "(5790,)"
      ]
     },
     "execution_count": 8,
     "metadata": {},
     "output_type": "execute_result"
    }
   ],
   "source": [
    "y = df['sale_price']\n",
    "y.shape"
   ]
  },
  {
   "cell_type": "markdown",
   "metadata": {},
   "source": [
    "-------------------------------------------------------------------------------------X------------------------------------------------------------------------------------"
   ]
  },
  {
   "cell_type": "markdown",
   "metadata": {},
   "source": [
    "Before standardization of independent variables..Linear regression"
   ]
  },
  {
   "cell_type": "code",
   "execution_count": 9,
   "metadata": {},
   "outputs": [],
   "source": [
    "from sklearn.model_selection import train_test_split\n",
    "x_train,x_test,y_train,y_test = train_test_split(x,y,test_size=0.2,random_state=52,train_size=0.8)"
   ]
  },
  {
   "cell_type": "code",
   "execution_count": 10,
   "metadata": {},
   "outputs": [],
   "source": [
    "from sklearn.linear_model import LinearRegression\n",
    "model1 = LinearRegression()\n",
    "model1.fit(x_train,y_train)\n",
    "linear_pred = model1.predict(x_test)"
   ]
  },
  {
   "cell_type": "code",
   "execution_count": 11,
   "metadata": {},
   "outputs": [
    {
     "name": "stdout",
     "output_type": "stream",
     "text": [
      "R2 score:  1.0\n",
      "Adjusted R2_score:  1.0\n",
      "MAE:  0.17\n",
      "MSE:  0.21\n",
      "RMSE:  0.459\n",
      "Average score using cross validation:  0.20375133079929597\n"
     ]
    }
   ],
   "source": [
    "from sklearn.metrics import r2_score\n",
    "from sklearn.metrics import mean_absolute_error\n",
    "from sklearn.metrics import mean_squared_error\n",
    "import numpy as np\n",
    "from sklearn.model_selection import cross_val_score\n",
    "r2 = r2_score(y_test,linear_pred)\n",
    "print(\"R2 score: \",np.round(r2,3))\n",
    "n=5790 # n = number of observations (rows)\n",
    "k=26 # k = number of dimensions (independent variables)\n",
    "adj_r2_score = 1 - ((1-r2)*(n-1)/(n-k-1))\n",
    "print(\"Adjusted R2_score: \",np.round(adj_r2_score,3))\n",
    "print(\"MAE: \",np.round(mean_absolute_error(y_test,linear_pred),3))\n",
    "print(\"MSE: \",np.round(mean_squared_error(y_test,linear_pred),3))\n",
    "mse = mean_squared_error(y_test,linear_pred)\n",
    "rmse = np.sqrt(mse)\n",
    "print(\"RMSE: \", np.round(rmse, 3))\n",
    "scores = cross_val_score(model1,x_train,y_train,cv=10,scoring='neg_mean_squared_error')\n",
    "avg_score = np.mean(-scores)\n",
    "print(\"Average score using cross validation: \",avg_score)"
   ]
  },
  {
   "cell_type": "code",
   "execution_count": 27,
   "metadata": {},
   "outputs": [
    {
     "ename": "ValueError",
     "evalue": "Found input variables with inconsistent numbers of samples: [1158, 4632]",
     "output_type": "error",
     "traceback": [
      "\u001b[0;31m---------------------------------------------------------------------------\u001b[0m",
      "\u001b[0;31mValueError\u001b[0m                                Traceback (most recent call last)",
      "\u001b[0;32m/tmp/ipykernel_6512/2944134225.py\u001b[0m in \u001b[0;36m<module>\u001b[0;34m\u001b[0m\n\u001b[0;32m----> 1\u001b[0;31m \u001b[0mmodel1\u001b[0m\u001b[0;34m.\u001b[0m\u001b[0mscore\u001b[0m\u001b[0;34m(\u001b[0m\u001b[0mx_train\u001b[0m\u001b[0;34m,\u001b[0m\u001b[0my_test\u001b[0m\u001b[0;34m)\u001b[0m\u001b[0;34m\u001b[0m\u001b[0;34m\u001b[0m\u001b[0m\n\u001b[0m",
      "\u001b[0;32m~/Desktop/PyEnv/Env01/Env01/lib/python3.8/site-packages/sklearn/base.py\u001b[0m in \u001b[0;36mscore\u001b[0;34m(self, X, y, sample_weight)\u001b[0m\n\u001b[1;32m    719\u001b[0m \u001b[0;34m\u001b[0m\u001b[0m\n\u001b[1;32m    720\u001b[0m         \u001b[0my_pred\u001b[0m \u001b[0;34m=\u001b[0m \u001b[0mself\u001b[0m\u001b[0;34m.\u001b[0m\u001b[0mpredict\u001b[0m\u001b[0;34m(\u001b[0m\u001b[0mX\u001b[0m\u001b[0;34m)\u001b[0m\u001b[0;34m\u001b[0m\u001b[0;34m\u001b[0m\u001b[0m\n\u001b[0;32m--> 721\u001b[0;31m         \u001b[0;32mreturn\u001b[0m \u001b[0mr2_score\u001b[0m\u001b[0;34m(\u001b[0m\u001b[0my\u001b[0m\u001b[0;34m,\u001b[0m \u001b[0my_pred\u001b[0m\u001b[0;34m,\u001b[0m \u001b[0msample_weight\u001b[0m\u001b[0;34m=\u001b[0m\u001b[0msample_weight\u001b[0m\u001b[0;34m)\u001b[0m\u001b[0;34m\u001b[0m\u001b[0;34m\u001b[0m\u001b[0m\n\u001b[0m\u001b[1;32m    722\u001b[0m \u001b[0;34m\u001b[0m\u001b[0m\n\u001b[1;32m    723\u001b[0m     \u001b[0;32mdef\u001b[0m \u001b[0m_more_tags\u001b[0m\u001b[0;34m(\u001b[0m\u001b[0mself\u001b[0m\u001b[0;34m)\u001b[0m\u001b[0;34m:\u001b[0m\u001b[0;34m\u001b[0m\u001b[0;34m\u001b[0m\u001b[0m\n",
      "\u001b[0;32m~/Desktop/PyEnv/Env01/Env01/lib/python3.8/site-packages/sklearn/metrics/_regression.py\u001b[0m in \u001b[0;36mr2_score\u001b[0;34m(y_true, y_pred, sample_weight, multioutput, force_finite)\u001b[0m\n\u001b[1;32m    909\u001b[0m     \u001b[0;34m-\u001b[0m\u001b[0minf\u001b[0m\u001b[0;34m\u001b[0m\u001b[0;34m\u001b[0m\u001b[0m\n\u001b[1;32m    910\u001b[0m     \"\"\"\n\u001b[0;32m--> 911\u001b[0;31m     y_type, y_true, y_pred, multioutput = _check_reg_targets(\n\u001b[0m\u001b[1;32m    912\u001b[0m         \u001b[0my_true\u001b[0m\u001b[0;34m,\u001b[0m \u001b[0my_pred\u001b[0m\u001b[0;34m,\u001b[0m \u001b[0mmultioutput\u001b[0m\u001b[0;34m\u001b[0m\u001b[0;34m\u001b[0m\u001b[0m\n\u001b[1;32m    913\u001b[0m     )\n",
      "\u001b[0;32m~/Desktop/PyEnv/Env01/Env01/lib/python3.8/site-packages/sklearn/metrics/_regression.py\u001b[0m in \u001b[0;36m_check_reg_targets\u001b[0;34m(y_true, y_pred, multioutput, dtype)\u001b[0m\n\u001b[1;32m     98\u001b[0m         \u001b[0mcorrect\u001b[0m \u001b[0mkeyword\u001b[0m\u001b[0;34m.\u001b[0m\u001b[0;34m\u001b[0m\u001b[0;34m\u001b[0m\u001b[0m\n\u001b[1;32m     99\u001b[0m     \"\"\"\n\u001b[0;32m--> 100\u001b[0;31m     \u001b[0mcheck_consistent_length\u001b[0m\u001b[0;34m(\u001b[0m\u001b[0my_true\u001b[0m\u001b[0;34m,\u001b[0m \u001b[0my_pred\u001b[0m\u001b[0;34m)\u001b[0m\u001b[0;34m\u001b[0m\u001b[0;34m\u001b[0m\u001b[0m\n\u001b[0m\u001b[1;32m    101\u001b[0m     \u001b[0my_true\u001b[0m \u001b[0;34m=\u001b[0m \u001b[0mcheck_array\u001b[0m\u001b[0;34m(\u001b[0m\u001b[0my_true\u001b[0m\u001b[0;34m,\u001b[0m \u001b[0mensure_2d\u001b[0m\u001b[0;34m=\u001b[0m\u001b[0;32mFalse\u001b[0m\u001b[0;34m,\u001b[0m \u001b[0mdtype\u001b[0m\u001b[0;34m=\u001b[0m\u001b[0mdtype\u001b[0m\u001b[0;34m)\u001b[0m\u001b[0;34m\u001b[0m\u001b[0;34m\u001b[0m\u001b[0m\n\u001b[1;32m    102\u001b[0m     \u001b[0my_pred\u001b[0m \u001b[0;34m=\u001b[0m \u001b[0mcheck_array\u001b[0m\u001b[0;34m(\u001b[0m\u001b[0my_pred\u001b[0m\u001b[0;34m,\u001b[0m \u001b[0mensure_2d\u001b[0m\u001b[0;34m=\u001b[0m\u001b[0;32mFalse\u001b[0m\u001b[0;34m,\u001b[0m \u001b[0mdtype\u001b[0m\u001b[0;34m=\u001b[0m\u001b[0mdtype\u001b[0m\u001b[0;34m)\u001b[0m\u001b[0;34m\u001b[0m\u001b[0;34m\u001b[0m\u001b[0m\n",
      "\u001b[0;32m~/Desktop/PyEnv/Env01/Env01/lib/python3.8/site-packages/sklearn/utils/validation.py\u001b[0m in \u001b[0;36mcheck_consistent_length\u001b[0;34m(*arrays)\u001b[0m\n\u001b[1;32m    385\u001b[0m     \u001b[0muniques\u001b[0m \u001b[0;34m=\u001b[0m \u001b[0mnp\u001b[0m\u001b[0;34m.\u001b[0m\u001b[0munique\u001b[0m\u001b[0;34m(\u001b[0m\u001b[0mlengths\u001b[0m\u001b[0;34m)\u001b[0m\u001b[0;34m\u001b[0m\u001b[0;34m\u001b[0m\u001b[0m\n\u001b[1;32m    386\u001b[0m     \u001b[0;32mif\u001b[0m \u001b[0mlen\u001b[0m\u001b[0;34m(\u001b[0m\u001b[0muniques\u001b[0m\u001b[0;34m)\u001b[0m \u001b[0;34m>\u001b[0m \u001b[0;36m1\u001b[0m\u001b[0;34m:\u001b[0m\u001b[0;34m\u001b[0m\u001b[0;34m\u001b[0m\u001b[0m\n\u001b[0;32m--> 387\u001b[0;31m         raise ValueError(\n\u001b[0m\u001b[1;32m    388\u001b[0m             \u001b[0;34m\"Found input variables with inconsistent numbers of samples: %r\"\u001b[0m\u001b[0;34m\u001b[0m\u001b[0;34m\u001b[0m\u001b[0m\n\u001b[1;32m    389\u001b[0m             \u001b[0;34m%\u001b[0m \u001b[0;34m[\u001b[0m\u001b[0mint\u001b[0m\u001b[0;34m(\u001b[0m\u001b[0ml\u001b[0m\u001b[0;34m)\u001b[0m \u001b[0;32mfor\u001b[0m \u001b[0ml\u001b[0m \u001b[0;32min\u001b[0m \u001b[0mlengths\u001b[0m\u001b[0;34m]\u001b[0m\u001b[0;34m\u001b[0m\u001b[0;34m\u001b[0m\u001b[0m\n",
      "\u001b[0;31mValueError\u001b[0m: Found input variables with inconsistent numbers of samples: [1158, 4632]"
     ]
    }
   ],
   "source": []
  },
  {
   "cell_type": "markdown",
   "metadata": {},
   "source": [
    "After standardization of independent variables...(For linear regression)"
   ]
  },
  {
   "cell_type": "code",
   "execution_count": 13,
   "metadata": {},
   "outputs": [],
   "source": [
    "from sklearn.preprocessing import StandardScaler\n",
    "scale= StandardScaler()\n",
    "x_scaled = scale.fit_transform(x)"
   ]
  },
  {
   "cell_type": "code",
   "execution_count": 14,
   "metadata": {},
   "outputs": [
    {
     "data": {
      "text/plain": [
       "array([[ 0.41315205,  0.36046721,  0.5497182 , ..., -0.25248379,\n",
       "        -0.53808205, -0.13916248],\n",
       "       [-0.03356658,  0.69983391,  0.5497182 , ..., -0.7089662 ,\n",
       "        -0.53808205, -0.13916248],\n",
       "       [ 0.41315205, -0.31826617, -1.45650203, ..., -0.54849885,\n",
       "        -0.53808205, -0.13916248],\n",
       "       ...,\n",
       "       [ 0.41315205, -1.33636626, -1.45650203, ..., -0.89963917,\n",
       "        -0.53808205,  7.18584467],\n",
       "       [ 1.72538804, -0.99699956, -1.45650203, ..., -0.91851768,\n",
       "        -0.53808205, -0.13916248],\n",
       "       [ 1.78122787,  1.3785673 , -1.45650203, ..., -0.35216233,\n",
       "        -0.53808205, -0.13916248]])"
      ]
     },
     "execution_count": 14,
     "metadata": {},
     "output_type": "execute_result"
    }
   ],
   "source": [
    "x_scaled"
   ]
  },
  {
   "cell_type": "code",
   "execution_count": 15,
   "metadata": {},
   "outputs": [],
   "source": [
    "x_train,x_test,y_train,y_test = train_test_split(x_scaled,y,test_size = 0.2,random_state=52,train_size=0.8)\n",
    "model2 = LinearRegression()\n",
    "model2.fit(x_train,y_train)\n",
    "linear_pred1 = model2.predict(x_test)"
   ]
  },
  {
   "cell_type": "code",
   "execution_count": 16,
   "metadata": {},
   "outputs": [
    {
     "name": "stdout",
     "output_type": "stream",
     "text": [
      "R2 score:  1.0\n",
      "Adjusted R2_score:  1.0\n",
      "MAE:  0.17\n",
      "MSE:  0.21\n",
      "RMSE:  0.459\n",
      "Average score using cross validation:  0.20358892257814828\n"
     ]
    }
   ],
   "source": [
    "r2 = r2_score(y_test,linear_pred1)\n",
    "print(\"R2 score: \",np.round(r2,3))\n",
    "n=5790 # n = number of observations (rows)\n",
    "k=26 # k = number of dimensions (independent variables)\n",
    "adj_r2_score = 1 - ((1-r2)*(n-1)/(n-k-1))\n",
    "print(\"Adjusted R2_score: \",np.round(adj_r2_score,3))\n",
    "print(\"MAE: \",np.round(mean_absolute_error(y_test,linear_pred1),3))\n",
    "print(\"MSE: \",np.round(mean_squared_error(y_test,linear_pred1),3))\n",
    "mse = mean_squared_error(y_test,linear_pred1)\n",
    "rmse = np.sqrt(mse)\n",
    "print(\"RMSE: \", np.round(rmse, 3))\n",
    "scores = cross_val_score(model2,x_train,y_train,cv=10,scoring='neg_mean_squared_error')\n",
    "avg_score = np.mean(-scores)\n",
    "print(\"Average score using cross validation: \",avg_score)"
   ]
  },
  {
   "cell_type": "markdown",
   "metadata": {},
   "source": [
    "-------------------------------------------------------------------------------------X------------------------------------------------------------------------------------"
   ]
  },
  {
   "cell_type": "markdown",
   "metadata": {},
   "source": [
    "Implementing SVR "
   ]
  },
  {
   "cell_type": "code",
   "execution_count": 17,
   "metadata": {},
   "outputs": [],
   "source": [
    "x_svr = scale.fit_transform(x)"
   ]
  },
  {
   "cell_type": "code",
   "execution_count": 18,
   "metadata": {},
   "outputs": [
    {
     "data": {
      "text/plain": [
       "array([[ 0.41315205,  0.36046721,  0.5497182 , ..., -0.25248379,\n",
       "        -0.53808205, -0.13916248],\n",
       "       [-0.03356658,  0.69983391,  0.5497182 , ..., -0.7089662 ,\n",
       "        -0.53808205, -0.13916248],\n",
       "       [ 0.41315205, -0.31826617, -1.45650203, ..., -0.54849885,\n",
       "        -0.53808205, -0.13916248],\n",
       "       ...,\n",
       "       [ 0.41315205, -1.33636626, -1.45650203, ..., -0.89963917,\n",
       "        -0.53808205,  7.18584467],\n",
       "       [ 1.72538804, -0.99699956, -1.45650203, ..., -0.91851768,\n",
       "        -0.53808205, -0.13916248],\n",
       "       [ 1.78122787,  1.3785673 , -1.45650203, ..., -0.35216233,\n",
       "        -0.53808205, -0.13916248]])"
      ]
     },
     "execution_count": 18,
     "metadata": {},
     "output_type": "execute_result"
    }
   ],
   "source": [
    "x_svr"
   ]
  },
  {
   "cell_type": "code",
   "execution_count": 19,
   "metadata": {},
   "outputs": [],
   "source": [
    "x_train,x_test,y_train,y_test = train_test_split(x_svr,y,random_state=52,train_size=0.8,test_size=0.2)"
   ]
  },
  {
   "cell_type": "code",
   "execution_count": 20,
   "metadata": {},
   "outputs": [],
   "source": [
    "from sklearn.svm import SVR\n",
    "regressor = SVR()\n",
    "regressor.fit(x_train, y_train)\n",
    "svr_pred = regressor.predict(x_test)"
   ]
  },
  {
   "cell_type": "code",
   "execution_count": 21,
   "metadata": {},
   "outputs": [
    {
     "name": "stdout",
     "output_type": "stream",
     "text": [
      "R2 score:  -0.052\n",
      "Adjusted R2_score:  -0.057\n",
      "MAE:  167169.933\n",
      "MSE:  68651221921.547\n",
      "RMSE:  262013.782\n",
      "Average score using cross validation:  76404836028.42923\n"
     ]
    }
   ],
   "source": [
    "r2 = r2_score(y_test,svr_pred)\n",
    "print(\"R2 score: \",np.round(r2,3))\n",
    "n=5790 # n = number of observations (rows)\n",
    "k=26 # k = number of dimensions (independent variables)\n",
    "adj_r2_score = 1 - ((1-r2)*(n-1)/(n-k-1))\n",
    "print(\"Adjusted R2_score: \",np.round(adj_r2_score,3))\n",
    "print(\"MAE: \",np.round(mean_absolute_error(y_test,svr_pred),3))\n",
    "print(\"MSE: \",np.round(mean_squared_error(y_test,svr_pred),3))\n",
    "mse = mean_squared_error(y_test,svr_pred)\n",
    "rmse = np.sqrt(mse)\n",
    "print(\"RMSE: \", np.round(rmse, 3))\n",
    "scores = cross_val_score(regressor,x_train,y_train,cv=10,scoring='neg_mean_squared_error')\n",
    "avg_score = np.mean(-scores)\n",
    "print(\"Average score using cross validation: \",avg_score)"
   ]
  },
  {
   "cell_type": "markdown",
   "metadata": {},
   "source": [
    "-------------------------------------------------------------------------------------X------------------------------------------------------------------------------------"
   ]
  },
  {
   "cell_type": "markdown",
   "metadata": {},
   "source": [
    "Implementing Random Forest "
   ]
  },
  {
   "cell_type": "code",
   "execution_count": 22,
   "metadata": {},
   "outputs": [],
   "source": [
    "x_train,x_test,y_train,y_test = train_test_split(x,y,random_state=52,train_size=0.8,test_size=0.2)"
   ]
  },
  {
   "cell_type": "code",
   "execution_count": 23,
   "metadata": {},
   "outputs": [
    {
     "data": {
      "text/html": [
       "<style>#sk-container-id-1 {color: black;background-color: white;}#sk-container-id-1 pre{padding: 0;}#sk-container-id-1 div.sk-toggleable {background-color: white;}#sk-container-id-1 label.sk-toggleable__label {cursor: pointer;display: block;width: 100%;margin-bottom: 0;padding: 0.3em;box-sizing: border-box;text-align: center;}#sk-container-id-1 label.sk-toggleable__label-arrow:before {content: \"▸\";float: left;margin-right: 0.25em;color: #696969;}#sk-container-id-1 label.sk-toggleable__label-arrow:hover:before {color: black;}#sk-container-id-1 div.sk-estimator:hover label.sk-toggleable__label-arrow:before {color: black;}#sk-container-id-1 div.sk-toggleable__content {max-height: 0;max-width: 0;overflow: hidden;text-align: left;background-color: #f0f8ff;}#sk-container-id-1 div.sk-toggleable__content pre {margin: 0.2em;color: black;border-radius: 0.25em;background-color: #f0f8ff;}#sk-container-id-1 input.sk-toggleable__control:checked~div.sk-toggleable__content {max-height: 200px;max-width: 100%;overflow: auto;}#sk-container-id-1 input.sk-toggleable__control:checked~label.sk-toggleable__label-arrow:before {content: \"▾\";}#sk-container-id-1 div.sk-estimator input.sk-toggleable__control:checked~label.sk-toggleable__label {background-color: #d4ebff;}#sk-container-id-1 div.sk-label input.sk-toggleable__control:checked~label.sk-toggleable__label {background-color: #d4ebff;}#sk-container-id-1 input.sk-hidden--visually {border: 0;clip: rect(1px 1px 1px 1px);clip: rect(1px, 1px, 1px, 1px);height: 1px;margin: -1px;overflow: hidden;padding: 0;position: absolute;width: 1px;}#sk-container-id-1 div.sk-estimator {font-family: monospace;background-color: #f0f8ff;border: 1px dotted black;border-radius: 0.25em;box-sizing: border-box;margin-bottom: 0.5em;}#sk-container-id-1 div.sk-estimator:hover {background-color: #d4ebff;}#sk-container-id-1 div.sk-parallel-item::after {content: \"\";width: 100%;border-bottom: 1px solid gray;flex-grow: 1;}#sk-container-id-1 div.sk-label:hover label.sk-toggleable__label {background-color: #d4ebff;}#sk-container-id-1 div.sk-serial::before {content: \"\";position: absolute;border-left: 1px solid gray;box-sizing: border-box;top: 0;bottom: 0;left: 50%;z-index: 0;}#sk-container-id-1 div.sk-serial {display: flex;flex-direction: column;align-items: center;background-color: white;padding-right: 0.2em;padding-left: 0.2em;position: relative;}#sk-container-id-1 div.sk-item {position: relative;z-index: 1;}#sk-container-id-1 div.sk-parallel {display: flex;align-items: stretch;justify-content: center;background-color: white;position: relative;}#sk-container-id-1 div.sk-item::before, #sk-container-id-1 div.sk-parallel-item::before {content: \"\";position: absolute;border-left: 1px solid gray;box-sizing: border-box;top: 0;bottom: 0;left: 50%;z-index: -1;}#sk-container-id-1 div.sk-parallel-item {display: flex;flex-direction: column;z-index: 1;position: relative;background-color: white;}#sk-container-id-1 div.sk-parallel-item:first-child::after {align-self: flex-end;width: 50%;}#sk-container-id-1 div.sk-parallel-item:last-child::after {align-self: flex-start;width: 50%;}#sk-container-id-1 div.sk-parallel-item:only-child::after {width: 0;}#sk-container-id-1 div.sk-dashed-wrapped {border: 1px dashed gray;margin: 0 0.4em 0.5em 0.4em;box-sizing: border-box;padding-bottom: 0.4em;background-color: white;}#sk-container-id-1 div.sk-label label {font-family: monospace;font-weight: bold;display: inline-block;line-height: 1.2em;}#sk-container-id-1 div.sk-label-container {text-align: center;}#sk-container-id-1 div.sk-container {/* jupyter's `normalize.less` sets `[hidden] { display: none; }` but bootstrap.min.css set `[hidden] { display: none !important; }` so we also need the `!important` here to be able to override the default hidden behavior on the sphinx rendered scikit-learn.org. See: https://github.com/scikit-learn/scikit-learn/issues/21755 */display: inline-block !important;position: relative;}#sk-container-id-1 div.sk-text-repr-fallback {display: none;}</style><div id=\"sk-container-id-1\" class=\"sk-top-container\"><div class=\"sk-text-repr-fallback\"><pre>RandomForestRegressor()</pre><b>In a Jupyter environment, please rerun this cell to show the HTML representation or trust the notebook. <br />On GitHub, the HTML representation is unable to render, please try loading this page with nbviewer.org.</b></div><div class=\"sk-container\" hidden><div class=\"sk-item\"><div class=\"sk-estimator sk-toggleable\"><input class=\"sk-toggleable__control sk-hidden--visually\" id=\"sk-estimator-id-1\" type=\"checkbox\" checked><label for=\"sk-estimator-id-1\" class=\"sk-toggleable__label sk-toggleable__label-arrow\">RandomForestRegressor</label><div class=\"sk-toggleable__content\"><pre>RandomForestRegressor()</pre></div></div></div></div></div>"
      ],
      "text/plain": [
       "RandomForestRegressor()"
      ]
     },
     "execution_count": 23,
     "metadata": {},
     "output_type": "execute_result"
    }
   ],
   "source": [
    "from sklearn.ensemble import RandomForestRegressor\n",
    "rf = RandomForestRegressor()\n",
    "rf.fit(x_train,y_train)"
   ]
  },
  {
   "cell_type": "code",
   "execution_count": 24,
   "metadata": {},
   "outputs": [],
   "source": [
    "rfr_pred = rf.predict(x_test)"
   ]
  },
  {
   "cell_type": "code",
   "execution_count": 29,
   "metadata": {},
   "outputs": [
    {
     "name": "stdout",
     "output_type": "stream",
     "text": [
      "R2 score:  1.0\n",
      "Adjusted R2_score:  1.0\n",
      "MAE:  513.916\n",
      "MSE:  32481015.592\n",
      "RMSE:  5699.212\n"
     ]
    }
   ],
   "source": [
    "r2 = r2_score(y_test,rfr_pred)\n",
    "print(\"R2 score: \",np.round(r2,3))\n",
    "n=5790 # n = number of observations (rows)\n",
    "k=26 # k = number of dimensions (independent variables)\n",
    "adj_r2_score = 1 - ((1-r2)*(n-1)/(n-k-1))\n",
    "print(\"Adjusted R2_score: \",np.round(adj_r2_score,3))\n",
    "print(\"MAE: \",np.round(mean_absolute_error(y_test,rfr_pred),3))\n",
    "print(\"MSE: \",np.round(mean_squared_error(y_test,rfr_pred),3))\n",
    "mse = mean_squared_error(y_test,rfr_pred)\n",
    "rmse = np.sqrt(mse)\n",
    "print(\"RMSE: \", np.round(rmse, 3))\n",
    "#scores = cross_val_score(rf,x_train,y_train,cv=10,scoring='neg_mean_squared_error')\n",
    "#avg_score = np.mean(-scores)\n",
    "#print(\"Average score using cross validation: \",avg_score)"
   ]
  },
  {
   "cell_type": "code",
   "execution_count": 32,
   "metadata": {},
   "outputs": [
    {
     "data": {
      "text/plain": [
       "0.9995022954516128"
      ]
     },
     "execution_count": 32,
     "metadata": {},
     "output_type": "execute_result"
    }
   ],
   "source": [
    "rf.score(x_test,y_test)"
   ]
  },
  {
   "cell_type": "markdown",
   "metadata": {},
   "source": [
    "-------------------------------------------------------------------------------------X------------------------------------------------------------------------------------"
   ]
  },
  {
   "cell_type": "markdown",
   "metadata": {},
   "source": [
    "Implementing Decision Tree"
   ]
  },
  {
   "cell_type": "code",
   "execution_count": 34,
   "metadata": {},
   "outputs": [],
   "source": [
    "x_train,x_test,y_train,y_test = train_test_split(x,y,random_state=52,train_size=0.8,test_size=0.2)"
   ]
  },
  {
   "cell_type": "code",
   "execution_count": 35,
   "metadata": {},
   "outputs": [],
   "source": [
    "from sklearn.tree import DecisionTreeRegressor \n",
    "decision = DecisionTreeRegressor() \n",
    "decision.fit(x_train, y_train)\n",
    "dtr_pred = decision.predict(x_test)"
   ]
  },
  {
   "cell_type": "code",
   "execution_count": 36,
   "metadata": {},
   "outputs": [
    {
     "name": "stdout",
     "output_type": "stream",
     "text": [
      "R2 score:  1.0\n",
      "Adjusted R2_score:  1.0\n",
      "MAE:  671.741\n",
      "MSE:  17549594.739\n",
      "RMSE:  4189.224\n"
     ]
    }
   ],
   "source": [
    "r2 = r2_score(y_test,dtr_pred)\n",
    "print(\"R2 score: \",np.round(r2,3))\n",
    "n=5790 # n = number of observations (rows)\n",
    "k=26 # k = number of dimensions (independent variables)\n",
    "adj_r2_score = 1 - ((1-r2)*(n-1)/(n-k-1))\n",
    "print(\"Adjusted R2_score: \",np.round(adj_r2_score,3))\n",
    "print(\"MAE: \",np.round(mean_absolute_error(y_test,dtr_pred),3))\n",
    "print(\"MSE: \",np.round(mean_squared_error(y_test,dtr_pred),3))\n",
    "mse = mean_squared_error(y_test,dtr_pred)\n",
    "rmse = np.sqrt(mse)\n",
    "print(\"RMSE: \", np.round(rmse, 3))\n",
    "#scores = cross_val_score(decision,x_train,y_train,cv=10,scoring='neg_mean_squared_error')\n",
    "#avg_score = np.mean(-scores)\n",
    "#print(\"Average score using cross validation: \",avg_score)"
   ]
  },
  {
   "cell_type": "code",
   "execution_count": 37,
   "metadata": {},
   "outputs": [
    {
     "data": {
      "text/plain": [
       "0.9997310886693386"
      ]
     },
     "execution_count": 37,
     "metadata": {},
     "output_type": "execute_result"
    }
   ],
   "source": [
    "decision.score(x_test,y_test)"
   ]
  },
  {
   "cell_type": "markdown",
   "metadata": {},
   "source": [
    "-------------------------------------------------------------------------------------X------------------------------------------------------------------------------------"
   ]
  },
  {
   "cell_type": "markdown",
   "metadata": {},
   "source": [
    "Implementing Lasso Regression"
   ]
  },
  {
   "cell_type": "code",
   "execution_count": null,
   "metadata": {},
   "outputs": [],
   "source": [
    "scale= StandardScaler()\n",
    "x_scaled = scale.fit_transform(x)"
   ]
  },
  {
   "cell_type": "code",
   "execution_count": null,
   "metadata": {},
   "outputs": [],
   "source": [
    "x_train,x_test,y_train,y_test = train_test_split(x_scaled,y,random_state=52,train_size=0.8,test_size=0.2)"
   ]
  },
  {
   "cell_type": "code",
   "execution_count": null,
   "metadata": {},
   "outputs": [],
   "source": [
    "from sklearn import linear_model\n",
    "lassoReg = linear_model.Lasso()\n",
    "lassoReg.fit(x_train,y_train)\n",
    "lr_pred = lassoReg.predict(x_test)"
   ]
  },
  {
   "cell_type": "code",
   "execution_count": null,
   "metadata": {},
   "outputs": [
    {
     "name": "stdout",
     "output_type": "stream",
     "text": [
      "R2 score:  1.0\n",
      "Adjusted R2_score:  1.0\n",
      "MAE:  199.201\n",
      "MSE:  88560.192\n",
      "RMSE:  297.591\n",
      "Average score using cross validation:  173766.49311237756\n"
     ]
    }
   ],
   "source": [
    "r2 = r2_score(y_test,lr_pred)\n",
    "print(\"R2 score: \",np.round(r2,3))\n",
    "n=5790 # n = number of observations (rows)\n",
    "k=26 # k = number of dimensions (independent variables)\n",
    "adj_r2_score = 1 - ((1-r2)*(n-1)/(n-k-1))\n",
    "print(\"Adjusted R2_score: \",np.round(adj_r2_score,3))\n",
    "print(\"MAE: \",np.round(mean_absolute_error(y_test,lr_pred),3))\n",
    "print(\"MSE: \",np.round(mean_squared_error(y_test,lr_pred),3))\n",
    "mse = mean_squared_error(y_test,lr_pred)\n",
    "rmse = np.sqrt(mse)\n",
    "print(\"RMSE: \", np.round(rmse, 3))\n",
    "scores = cross_val_score(lassoReg,x_train,y_train,cv=10,scoring='neg_mean_squared_error')\n",
    "avg_score = np.mean(-scores)\n",
    "print(\"Average score using cross validation: \",avg_score)"
   ]
  },
  {
   "cell_type": "markdown",
   "metadata": {},
   "source": [
    "-------------------------------------------------------------------------------------X------------------------------------------------------------------------------------"
   ]
  }
 ],
 "metadata": {
  "kernelspec": {
   "display_name": "Python 3.8.10 ('Env01')",
   "language": "python",
   "name": "python3"
  },
  "language_info": {
   "codemirror_mode": {
    "name": "ipython",
    "version": 3
   },
   "file_extension": ".py",
   "mimetype": "text/x-python",
   "name": "python",
   "nbconvert_exporter": "python",
   "pygments_lexer": "ipython3",
   "version": "3.8.10"
  },
  "orig_nbformat": 4,
  "vscode": {
   "interpreter": {
    "hash": "c8ba2787a84a7f2f66ebb7354e6e2d953480730db5b3e727c0f12de54f4bace1"
   }
  }
 },
 "nbformat": 4,
 "nbformat_minor": 2
}
