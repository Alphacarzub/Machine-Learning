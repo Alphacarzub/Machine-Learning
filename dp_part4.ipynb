{
 "cells": [
  {
   "cell_type": "code",
   "execution_count": 1,
   "metadata": {},
   "outputs": [
    {
     "data": {
      "text/html": [
       "<div>\n",
       "<style scoped>\n",
       "    .dataframe tbody tr th:only-of-type {\n",
       "        vertical-align: middle;\n",
       "    }\n",
       "\n",
       "    .dataframe tbody tr th {\n",
       "        vertical-align: top;\n",
       "    }\n",
       "\n",
       "    .dataframe thead th {\n",
       "        text-align: right;\n",
       "    }\n",
       "</style>\n",
       "<table border=\"1\" class=\"dataframe\">\n",
       "  <thead>\n",
       "    <tr style=\"text-align: right;\">\n",
       "      <th></th>\n",
       "      <th>index</th>\n",
       "      <th>id</th>\n",
       "      <th>car_name</th>\n",
       "      <th>yr_mfr</th>\n",
       "      <th>fuel_type</th>\n",
       "      <th>kms_run</th>\n",
       "      <th>sale_price</th>\n",
       "      <th>city</th>\n",
       "      <th>times_viewed</th>\n",
       "      <th>body_type</th>\n",
       "      <th>...</th>\n",
       "      <th>total_owners</th>\n",
       "      <th>broker_quote</th>\n",
       "      <th>original_price</th>\n",
       "      <th>car_rating</th>\n",
       "      <th>ad_created_on</th>\n",
       "      <th>fitness_certificate</th>\n",
       "      <th>emi_starts_from</th>\n",
       "      <th>booking_down_pymnt</th>\n",
       "      <th>reserved</th>\n",
       "      <th>warranty_avail</th>\n",
       "    </tr>\n",
       "  </thead>\n",
       "  <tbody>\n",
       "    <tr>\n",
       "      <th>0</th>\n",
       "      <td>0</td>\n",
       "      <td>1</td>\n",
       "      <td>maruti swift</td>\n",
       "      <td>2015</td>\n",
       "      <td>petrol</td>\n",
       "      <td>8063</td>\n",
       "      <td>386399</td>\n",
       "      <td>noida</td>\n",
       "      <td>18715</td>\n",
       "      <td>hatchback</td>\n",
       "      <td>...</td>\n",
       "      <td>2</td>\n",
       "      <td>397677</td>\n",
       "      <td>404177.0</td>\n",
       "      <td>great</td>\n",
       "      <td>2021-04-04T07:09:18.583</td>\n",
       "      <td>True</td>\n",
       "      <td>8975</td>\n",
       "      <td>57960</td>\n",
       "      <td>False</td>\n",
       "      <td>False</td>\n",
       "    </tr>\n",
       "    <tr>\n",
       "      <th>1</th>\n",
       "      <td>1</td>\n",
       "      <td>2</td>\n",
       "      <td>maruti alto 800</td>\n",
       "      <td>2016</td>\n",
       "      <td>petrol</td>\n",
       "      <td>23104</td>\n",
       "      <td>265499</td>\n",
       "      <td>noida</td>\n",
       "      <td>2676</td>\n",
       "      <td>hatchback</td>\n",
       "      <td>...</td>\n",
       "      <td>1</td>\n",
       "      <td>272935</td>\n",
       "      <td>354313.0</td>\n",
       "      <td>great</td>\n",
       "      <td>2021-03-22T14:07:32.833</td>\n",
       "      <td>True</td>\n",
       "      <td>6167</td>\n",
       "      <td>39825</td>\n",
       "      <td>False</td>\n",
       "      <td>False</td>\n",
       "    </tr>\n",
       "    <tr>\n",
       "      <th>2</th>\n",
       "      <td>3</td>\n",
       "      <td>4</td>\n",
       "      <td>maruti swift</td>\n",
       "      <td>2013</td>\n",
       "      <td>diesel</td>\n",
       "      <td>39124</td>\n",
       "      <td>307999</td>\n",
       "      <td>noida</td>\n",
       "      <td>6511</td>\n",
       "      <td>hatchback</td>\n",
       "      <td>...</td>\n",
       "      <td>1</td>\n",
       "      <td>294262</td>\n",
       "      <td>374326.0</td>\n",
       "      <td>great</td>\n",
       "      <td>2021-01-21T12:59:19.299</td>\n",
       "      <td>True</td>\n",
       "      <td>7154</td>\n",
       "      <td>46200</td>\n",
       "      <td>False</td>\n",
       "      <td>False</td>\n",
       "    </tr>\n",
       "    <tr>\n",
       "      <th>3</th>\n",
       "      <td>4</td>\n",
       "      <td>5</td>\n",
       "      <td>hyundai grand i10</td>\n",
       "      <td>2015</td>\n",
       "      <td>petrol</td>\n",
       "      <td>22116</td>\n",
       "      <td>361499</td>\n",
       "      <td>noida</td>\n",
       "      <td>3225</td>\n",
       "      <td>hatchback</td>\n",
       "      <td>...</td>\n",
       "      <td>1</td>\n",
       "      <td>360716</td>\n",
       "      <td>367216.0</td>\n",
       "      <td>great</td>\n",
       "      <td>2021-04-01T13:33:40.733</td>\n",
       "      <td>True</td>\n",
       "      <td>8397</td>\n",
       "      <td>54225</td>\n",
       "      <td>False</td>\n",
       "      <td>False</td>\n",
       "    </tr>\n",
       "    <tr>\n",
       "      <th>4</th>\n",
       "      <td>5</td>\n",
       "      <td>6</td>\n",
       "      <td>maruti alto k10</td>\n",
       "      <td>2018</td>\n",
       "      <td>petrol</td>\n",
       "      <td>23534</td>\n",
       "      <td>335299</td>\n",
       "      <td>noida</td>\n",
       "      <td>1055</td>\n",
       "      <td>hatchback</td>\n",
       "      <td>...</td>\n",
       "      <td>1</td>\n",
       "      <td>343212</td>\n",
       "      <td>439056.0</td>\n",
       "      <td>great</td>\n",
       "      <td>2021-04-13T05:55:16.99</td>\n",
       "      <td>True</td>\n",
       "      <td>7788</td>\n",
       "      <td>50295</td>\n",
       "      <td>False</td>\n",
       "      <td>False</td>\n",
       "    </tr>\n",
       "  </tbody>\n",
       "</table>\n",
       "<p>5 rows × 31 columns</p>\n",
       "</div>"
      ],
      "text/plain": [
       "   index  id           car_name  yr_mfr fuel_type  kms_run  sale_price   city  \\\n",
       "0      0   1       maruti swift    2015    petrol     8063      386399  noida   \n",
       "1      1   2    maruti alto 800    2016    petrol    23104      265499  noida   \n",
       "2      3   4       maruti swift    2013    diesel    39124      307999  noida   \n",
       "3      4   5  hyundai grand i10    2015    petrol    22116      361499  noida   \n",
       "4      5   6    maruti alto k10    2018    petrol    23534      335299  noida   \n",
       "\n",
       "   times_viewed  body_type  ... total_owners broker_quote  original_price  \\\n",
       "0         18715  hatchback  ...            2       397677        404177.0   \n",
       "1          2676  hatchback  ...            1       272935        354313.0   \n",
       "2          6511  hatchback  ...            1       294262        374326.0   \n",
       "3          3225  hatchback  ...            1       360716        367216.0   \n",
       "4          1055  hatchback  ...            1       343212        439056.0   \n",
       "\n",
       "  car_rating            ad_created_on  fitness_certificate emi_starts_from  \\\n",
       "0      great  2021-04-04T07:09:18.583                 True            8975   \n",
       "1      great  2021-03-22T14:07:32.833                 True            6167   \n",
       "2      great  2021-01-21T12:59:19.299                 True            7154   \n",
       "3      great  2021-04-01T13:33:40.733                 True            8397   \n",
       "4      great   2021-04-13T05:55:16.99                 True            7788   \n",
       "\n",
       "  booking_down_pymnt reserved warranty_avail  \n",
       "0              57960    False          False  \n",
       "1              39825    False          False  \n",
       "2              46200    False          False  \n",
       "3              54225    False          False  \n",
       "4              50295    False          False  \n",
       "\n",
       "[5 rows x 31 columns]"
      ]
     },
     "execution_count": 1,
     "metadata": {},
     "output_type": "execute_result"
    }
   ],
   "source": [
    "import pandas as pd\n",
    "df = pd.read_csv('/home/sarang/Desktop/AML-pro-assignment/car_updated_dataset.csv',index_col=0)\n",
    "df.reset_index(inplace=True)\n",
    "df.head()"
   ]
  },
  {
   "cell_type": "code",
   "execution_count": 2,
   "metadata": {},
   "outputs": [
    {
     "data": {
      "text/plain": [
       "['car_name',\n",
       " 'fuel_type',\n",
       " 'city',\n",
       " 'body_type',\n",
       " 'transmission',\n",
       " 'variant',\n",
       " 'registered_city',\n",
       " 'registered_state',\n",
       " 'rto',\n",
       " 'source',\n",
       " 'make',\n",
       " 'model',\n",
       " 'car_availability',\n",
       " 'car_rating',\n",
       " 'ad_created_on']"
      ]
     },
     "execution_count": 2,
     "metadata": {},
     "output_type": "execute_result"
    }
   ],
   "source": [
    "obj_columns = list(df.select_dtypes(include='object'))\n",
    "obj_columns"
   ]
  },
  {
   "cell_type": "code",
   "execution_count": 3,
   "metadata": {},
   "outputs": [],
   "source": [
    "df = df.drop(columns=['registered_state','index','id','ad_created_on','model','times_viewed','reserved'],axis=1)"
   ]
  },
  {
   "cell_type": "code",
   "execution_count": 4,
   "metadata": {},
   "outputs": [
    {
     "data": {
      "text/plain": [
       "['car_name',\n",
       " 'fuel_type',\n",
       " 'city',\n",
       " 'body_type',\n",
       " 'transmission',\n",
       " 'variant',\n",
       " 'registered_city',\n",
       " 'rto',\n",
       " 'source',\n",
       " 'make',\n",
       " 'car_availability',\n",
       " 'car_rating']"
      ]
     },
     "execution_count": 4,
     "metadata": {},
     "output_type": "execute_result"
    }
   ],
   "source": [
    "obj_columns = list(df.select_dtypes(include='object'))\n",
    "obj_columns"
   ]
  },
  {
   "cell_type": "code",
   "execution_count": 5,
   "metadata": {},
   "outputs": [
    {
     "name": "stderr",
     "output_type": "stream",
     "text": [
      "/home/sarang/Desktop/PyEnv/Env01/Env01/lib/python3.8/site-packages/category_encoders/target_encoder.py:92: FutureWarning: Default parameter min_samples_leaf will change in version 2.6.See https://github.com/scikit-learn-contrib/category_encoders/issues/327\n",
      "  warnings.warn(\"Default parameter min_samples_leaf will change in version 2.6.\"\n",
      "/home/sarang/Desktop/PyEnv/Env01/Env01/lib/python3.8/site-packages/category_encoders/target_encoder.py:97: FutureWarning: Default parameter smoothing will change in version 2.6.See https://github.com/scikit-learn-contrib/category_encoders/issues/327\n",
      "  warnings.warn(\"Default parameter smoothing will change in version 2.6.\"\n"
     ]
    },
    {
     "data": {
      "text/html": [
       "<div>\n",
       "<style scoped>\n",
       "    .dataframe tbody tr th:only-of-type {\n",
       "        vertical-align: middle;\n",
       "    }\n",
       "\n",
       "    .dataframe tbody tr th {\n",
       "        vertical-align: top;\n",
       "    }\n",
       "\n",
       "    .dataframe thead th {\n",
       "        text-align: right;\n",
       "    }\n",
       "</style>\n",
       "<table border=\"1\" class=\"dataframe\">\n",
       "  <thead>\n",
       "    <tr style=\"text-align: right;\">\n",
       "      <th></th>\n",
       "      <th>car_name</th>\n",
       "      <th>yr_mfr</th>\n",
       "      <th>fuel_type</th>\n",
       "      <th>kms_run</th>\n",
       "      <th>sale_price</th>\n",
       "      <th>city</th>\n",
       "      <th>body_type</th>\n",
       "      <th>transmission</th>\n",
       "      <th>variant</th>\n",
       "      <th>assured_buy</th>\n",
       "      <th>...</th>\n",
       "      <th>make</th>\n",
       "      <th>car_availability</th>\n",
       "      <th>total_owners</th>\n",
       "      <th>broker_quote</th>\n",
       "      <th>original_price</th>\n",
       "      <th>car_rating</th>\n",
       "      <th>fitness_certificate</th>\n",
       "      <th>emi_starts_from</th>\n",
       "      <th>booking_down_pymnt</th>\n",
       "      <th>warranty_avail</th>\n",
       "    </tr>\n",
       "  </thead>\n",
       "  <tbody>\n",
       "    <tr>\n",
       "      <th>0</th>\n",
       "      <td>419337.750557</td>\n",
       "      <td>2015</td>\n",
       "      <td>389434.788305</td>\n",
       "      <td>8063</td>\n",
       "      <td>386399</td>\n",
       "      <td>436831.265152</td>\n",
       "      <td>352195.122276</td>\n",
       "      <td>430622.013629</td>\n",
       "      <td>392537.142982</td>\n",
       "      <td>True</td>\n",
       "      <td>...</td>\n",
       "      <td>404957.676820</td>\n",
       "      <td>452577.244585</td>\n",
       "      <td>2</td>\n",
       "      <td>397677</td>\n",
       "      <td>404177.0</td>\n",
       "      <td>477300.746019</td>\n",
       "      <td>True</td>\n",
       "      <td>8975</td>\n",
       "      <td>57960</td>\n",
       "      <td>False</td>\n",
       "    </tr>\n",
       "    <tr>\n",
       "      <th>1</th>\n",
       "      <td>269446.578378</td>\n",
       "      <td>2016</td>\n",
       "      <td>389434.788305</td>\n",
       "      <td>23104</td>\n",
       "      <td>265499</td>\n",
       "      <td>436831.265152</td>\n",
       "      <td>352195.122276</td>\n",
       "      <td>430622.013629</td>\n",
       "      <td>248586.252551</td>\n",
       "      <td>True</td>\n",
       "      <td>...</td>\n",
       "      <td>404957.676820</td>\n",
       "      <td>452577.244585</td>\n",
       "      <td>1</td>\n",
       "      <td>272935</td>\n",
       "      <td>354313.0</td>\n",
       "      <td>477300.746019</td>\n",
       "      <td>True</td>\n",
       "      <td>6167</td>\n",
       "      <td>39825</td>\n",
       "      <td>False</td>\n",
       "    </tr>\n",
       "    <tr>\n",
       "      <th>2</th>\n",
       "      <td>419337.750557</td>\n",
       "      <td>2013</td>\n",
       "      <td>613665.471388</td>\n",
       "      <td>39124</td>\n",
       "      <td>307999</td>\n",
       "      <td>436831.265152</td>\n",
       "      <td>352195.122276</td>\n",
       "      <td>430622.013629</td>\n",
       "      <td>453869.084906</td>\n",
       "      <td>True</td>\n",
       "      <td>...</td>\n",
       "      <td>404957.676820</td>\n",
       "      <td>452577.244585</td>\n",
       "      <td>1</td>\n",
       "      <td>294262</td>\n",
       "      <td>374326.0</td>\n",
       "      <td>477300.746019</td>\n",
       "      <td>True</td>\n",
       "      <td>7154</td>\n",
       "      <td>46200</td>\n",
       "      <td>False</td>\n",
       "    </tr>\n",
       "    <tr>\n",
       "      <th>3</th>\n",
       "      <td>433914.191964</td>\n",
       "      <td>2015</td>\n",
       "      <td>389434.788305</td>\n",
       "      <td>22116</td>\n",
       "      <td>361499</td>\n",
       "      <td>436831.265152</td>\n",
       "      <td>352195.122276</td>\n",
       "      <td>430622.013629</td>\n",
       "      <td>337683.162162</td>\n",
       "      <td>False</td>\n",
       "      <td>...</td>\n",
       "      <td>417932.235461</td>\n",
       "      <td>452577.244585</td>\n",
       "      <td>1</td>\n",
       "      <td>360716</td>\n",
       "      <td>367216.0</td>\n",
       "      <td>477300.746019</td>\n",
       "      <td>True</td>\n",
       "      <td>8397</td>\n",
       "      <td>54225</td>\n",
       "      <td>False</td>\n",
       "    </tr>\n",
       "    <tr>\n",
       "      <th>4</th>\n",
       "      <td>269298.512563</td>\n",
       "      <td>2018</td>\n",
       "      <td>389434.788305</td>\n",
       "      <td>23534</td>\n",
       "      <td>335299</td>\n",
       "      <td>436831.265152</td>\n",
       "      <td>352195.122276</td>\n",
       "      <td>430622.013629</td>\n",
       "      <td>380377.995543</td>\n",
       "      <td>True</td>\n",
       "      <td>...</td>\n",
       "      <td>404957.676820</td>\n",
       "      <td>452577.244585</td>\n",
       "      <td>1</td>\n",
       "      <td>343212</td>\n",
       "      <td>439056.0</td>\n",
       "      <td>477300.746019</td>\n",
       "      <td>True</td>\n",
       "      <td>7788</td>\n",
       "      <td>50295</td>\n",
       "      <td>False</td>\n",
       "    </tr>\n",
       "    <tr>\n",
       "      <th>5</th>\n",
       "      <td>323773.004739</td>\n",
       "      <td>2012</td>\n",
       "      <td>389434.788305</td>\n",
       "      <td>38328</td>\n",
       "      <td>321499</td>\n",
       "      <td>436831.265152</td>\n",
       "      <td>352195.122276</td>\n",
       "      <td>430622.013629</td>\n",
       "      <td>460579.303030</td>\n",
       "      <td>True</td>\n",
       "      <td>...</td>\n",
       "      <td>417932.235461</td>\n",
       "      <td>452577.244585</td>\n",
       "      <td>3</td>\n",
       "      <td>319200</td>\n",
       "      <td>410764.0</td>\n",
       "      <td>477300.746019</td>\n",
       "      <td>True</td>\n",
       "      <td>7468</td>\n",
       "      <td>48225</td>\n",
       "      <td>False</td>\n",
       "    </tr>\n",
       "    <tr>\n",
       "      <th>6</th>\n",
       "      <td>566041.279762</td>\n",
       "      <td>2014</td>\n",
       "      <td>613665.471388</td>\n",
       "      <td>56402</td>\n",
       "      <td>456199</td>\n",
       "      <td>436831.265152</td>\n",
       "      <td>352195.122276</td>\n",
       "      <td>430622.013629</td>\n",
       "      <td>422727.659331</td>\n",
       "      <td>True</td>\n",
       "      <td>...</td>\n",
       "      <td>417932.235461</td>\n",
       "      <td>452577.244585</td>\n",
       "      <td>1</td>\n",
       "      <td>452023</td>\n",
       "      <td>566123.0</td>\n",
       "      <td>477300.746019</td>\n",
       "      <td>True</td>\n",
       "      <td>10596</td>\n",
       "      <td>68430</td>\n",
       "      <td>False</td>\n",
       "    </tr>\n",
       "    <tr>\n",
       "      <th>7</th>\n",
       "      <td>325850.755245</td>\n",
       "      <td>2018</td>\n",
       "      <td>389434.788305</td>\n",
       "      <td>32703</td>\n",
       "      <td>281299</td>\n",
       "      <td>436831.265152</td>\n",
       "      <td>352195.122276</td>\n",
       "      <td>430622.013629</td>\n",
       "      <td>294499.000120</td>\n",
       "      <td>True</td>\n",
       "      <td>...</td>\n",
       "      <td>388381.711538</td>\n",
       "      <td>445026.221053</td>\n",
       "      <td>1</td>\n",
       "      <td>264597</td>\n",
       "      <td>344127.0</td>\n",
       "      <td>477300.746019</td>\n",
       "      <td>True</td>\n",
       "      <td>6534</td>\n",
       "      <td>42195</td>\n",
       "      <td>False</td>\n",
       "    </tr>\n",
       "    <tr>\n",
       "      <th>8</th>\n",
       "      <td>269446.578378</td>\n",
       "      <td>2014</td>\n",
       "      <td>389434.788305</td>\n",
       "      <td>53180</td>\n",
       "      <td>206899</td>\n",
       "      <td>436831.265152</td>\n",
       "      <td>352195.122276</td>\n",
       "      <td>430622.013629</td>\n",
       "      <td>248586.252551</td>\n",
       "      <td>True</td>\n",
       "      <td>...</td>\n",
       "      <td>404957.676820</td>\n",
       "      <td>452577.244585</td>\n",
       "      <td>1</td>\n",
       "      <td>200605</td>\n",
       "      <td>207105.0</td>\n",
       "      <td>477300.746019</td>\n",
       "      <td>True</td>\n",
       "      <td>4806</td>\n",
       "      <td>31035</td>\n",
       "      <td>False</td>\n",
       "    </tr>\n",
       "    <tr>\n",
       "      <th>9</th>\n",
       "      <td>323773.004739</td>\n",
       "      <td>2012</td>\n",
       "      <td>613665.471388</td>\n",
       "      <td>55764</td>\n",
       "      <td>287999</td>\n",
       "      <td>436831.265152</td>\n",
       "      <td>352195.122276</td>\n",
       "      <td>430622.013629</td>\n",
       "      <td>339174.000639</td>\n",
       "      <td>True</td>\n",
       "      <td>...</td>\n",
       "      <td>417932.235461</td>\n",
       "      <td>452577.244585</td>\n",
       "      <td>2</td>\n",
       "      <td>275325</td>\n",
       "      <td>356231.0</td>\n",
       "      <td>477300.746019</td>\n",
       "      <td>True</td>\n",
       "      <td>6689</td>\n",
       "      <td>43200</td>\n",
       "      <td>False</td>\n",
       "    </tr>\n",
       "  </tbody>\n",
       "</table>\n",
       "<p>10 rows × 24 columns</p>\n",
       "</div>"
      ],
      "text/plain": [
       "        car_name  yr_mfr      fuel_type  kms_run  sale_price           city  \\\n",
       "0  419337.750557    2015  389434.788305     8063      386399  436831.265152   \n",
       "1  269446.578378    2016  389434.788305    23104      265499  436831.265152   \n",
       "2  419337.750557    2013  613665.471388    39124      307999  436831.265152   \n",
       "3  433914.191964    2015  389434.788305    22116      361499  436831.265152   \n",
       "4  269298.512563    2018  389434.788305    23534      335299  436831.265152   \n",
       "5  323773.004739    2012  389434.788305    38328      321499  436831.265152   \n",
       "6  566041.279762    2014  613665.471388    56402      456199  436831.265152   \n",
       "7  325850.755245    2018  389434.788305    32703      281299  436831.265152   \n",
       "8  269446.578378    2014  389434.788305    53180      206899  436831.265152   \n",
       "9  323773.004739    2012  613665.471388    55764      287999  436831.265152   \n",
       "\n",
       "       body_type   transmission        variant  assured_buy  ...  \\\n",
       "0  352195.122276  430622.013629  392537.142982         True  ...   \n",
       "1  352195.122276  430622.013629  248586.252551         True  ...   \n",
       "2  352195.122276  430622.013629  453869.084906         True  ...   \n",
       "3  352195.122276  430622.013629  337683.162162        False  ...   \n",
       "4  352195.122276  430622.013629  380377.995543         True  ...   \n",
       "5  352195.122276  430622.013629  460579.303030         True  ...   \n",
       "6  352195.122276  430622.013629  422727.659331         True  ...   \n",
       "7  352195.122276  430622.013629  294499.000120         True  ...   \n",
       "8  352195.122276  430622.013629  248586.252551         True  ...   \n",
       "9  352195.122276  430622.013629  339174.000639         True  ...   \n",
       "\n",
       "            make  car_availability  total_owners  broker_quote  \\\n",
       "0  404957.676820     452577.244585             2        397677   \n",
       "1  404957.676820     452577.244585             1        272935   \n",
       "2  404957.676820     452577.244585             1        294262   \n",
       "3  417932.235461     452577.244585             1        360716   \n",
       "4  404957.676820     452577.244585             1        343212   \n",
       "5  417932.235461     452577.244585             3        319200   \n",
       "6  417932.235461     452577.244585             1        452023   \n",
       "7  388381.711538     445026.221053             1        264597   \n",
       "8  404957.676820     452577.244585             1        200605   \n",
       "9  417932.235461     452577.244585             2        275325   \n",
       "\n",
       "   original_price     car_rating  fitness_certificate  emi_starts_from  \\\n",
       "0        404177.0  477300.746019                 True             8975   \n",
       "1        354313.0  477300.746019                 True             6167   \n",
       "2        374326.0  477300.746019                 True             7154   \n",
       "3        367216.0  477300.746019                 True             8397   \n",
       "4        439056.0  477300.746019                 True             7788   \n",
       "5        410764.0  477300.746019                 True             7468   \n",
       "6        566123.0  477300.746019                 True            10596   \n",
       "7        344127.0  477300.746019                 True             6534   \n",
       "8        207105.0  477300.746019                 True             4806   \n",
       "9        356231.0  477300.746019                 True             6689   \n",
       "\n",
       "   booking_down_pymnt  warranty_avail  \n",
       "0               57960           False  \n",
       "1               39825           False  \n",
       "2               46200           False  \n",
       "3               54225           False  \n",
       "4               50295           False  \n",
       "5               48225           False  \n",
       "6               68430           False  \n",
       "7               42195           False  \n",
       "8               31035           False  \n",
       "9               43200           False  \n",
       "\n",
       "[10 rows x 24 columns]"
      ]
     },
     "execution_count": 5,
     "metadata": {},
     "output_type": "execute_result"
    }
   ],
   "source": [
    "from category_encoders import TargetEncoder\n",
    "Targetenc = TargetEncoder()\n",
    "# transforming the column after fitting\n",
    "for obj in obj_columns:\n",
    "    df[obj]= Targetenc.fit_transform(df[obj],y= df['sale_price'])\n",
    "df.head(10)"
   ]
  },
  {
   "cell_type": "code",
   "execution_count": 6,
   "metadata": {},
   "outputs": [],
   "source": [
    "x = df.drop(columns=['sale_price'],axis=1)\n",
    "y = df['sale_price']"
   ]
  },
  {
   "cell_type": "markdown",
   "metadata": {},
   "source": [
    "-------------------------------------------------------------------------------------X------------------------------------------------------------------------------------"
   ]
  },
  {
   "cell_type": "markdown",
   "metadata": {},
   "source": [
    "Implementing Linear Regression"
   ]
  },
  {
   "cell_type": "code",
   "execution_count": 7,
   "metadata": {},
   "outputs": [],
   "source": [
    "from sklearn.preprocessing import StandardScaler\n",
    "scale= StandardScaler()\n",
    "x_scaled = scale.fit_transform(x)"
   ]
  },
  {
   "cell_type": "code",
   "execution_count": 8,
   "metadata": {},
   "outputs": [],
   "source": [
    "from sklearn.model_selection import train_test_split\n",
    "x_train,x_test,y_train,y_test = train_test_split(x_scaled,y,test_size=0.2,random_state=52)"
   ]
  },
  {
   "cell_type": "code",
   "execution_count": 9,
   "metadata": {},
   "outputs": [],
   "source": [
    "from sklearn.linear_model import LinearRegression\n",
    "model1 = LinearRegression()\n",
    "model1.fit(x_train,y_train)\n",
    "linear_pred = model1.predict(x_test)"
   ]
  },
  {
   "cell_type": "code",
   "execution_count": 10,
   "metadata": {},
   "outputs": [
    {
     "name": "stdout",
     "output_type": "stream",
     "text": [
      "R2 score:  -254235753000.748\n",
      "Adjusted R2_score:  -255249874110.537\n",
      "MAE:  3785236576.557\n",
      "MSE:  1.659184245759577e+22\n",
      "RMSE:  128809325972.911\n"
     ]
    }
   ],
   "source": [
    "from sklearn.metrics import r2_score\n",
    "from sklearn.metrics import mean_absolute_error\n",
    "from sklearn.metrics import mean_squared_error\n",
    "import numpy as np\n",
    "from sklearn.model_selection import cross_val_score\n",
    "r2 = r2_score(y_test,linear_pred)\n",
    "print(\"R2 score: \",np.round(r2,3))\n",
    "n=5790 # n = number of observations (rows)\n",
    "k=23 # k = number of dimensions (independent variables)\n",
    "adj_r2_score = 1 - ((1-r2)*(n-1)/(n-k-1))\n",
    "print(\"Adjusted R2_score: \",np.round(adj_r2_score,3))\n",
    "print(\"MAE: \",np.round(mean_absolute_error(y_test,linear_pred),3))\n",
    "print(\"MSE: \",np.round(mean_squared_error(y_test,linear_pred),3))\n",
    "mse = mean_squared_error(y_test,linear_pred)\n",
    "rmse = np.sqrt(mse)\n",
    "print(\"RMSE: \", np.round(rmse, 3))\n",
    "#scores = cross_val_score(model1,x_train,y_train,cv=10,scoring='neg_mean_squared_error')\n",
    "#avg_score = np.mean(-scores)\n",
    "#print(\"Average score using cross validation: \",avg_score)"
   ]
  },
  {
   "cell_type": "markdown",
   "metadata": {},
   "source": [
    "-------------------------------------------------------------------------------------X------------------------------------------------------------------------------------"
   ]
  },
  {
   "cell_type": "markdown",
   "metadata": {},
   "source": [
    "Implementing SVM"
   ]
  },
  {
   "cell_type": "code",
   "execution_count": null,
   "metadata": {},
   "outputs": [],
   "source": [
    "x_svr = scale.fit_transform(x)"
   ]
  },
  {
   "cell_type": "code",
   "execution_count": null,
   "metadata": {},
   "outputs": [],
   "source": [
    "x_train,x_test,y_train,y_test = train_test_split(x_svr,y,random_state=52,train_size=0.8)"
   ]
  },
  {
   "cell_type": "code",
   "execution_count": null,
   "metadata": {},
   "outputs": [],
   "source": [
    "from sklearn.svm import SVR\n",
    "regressor = SVR()\n",
    "regressor.fit(x_train, y_train)\n",
    "svr_pred = regressor.predict(x_test)"
   ]
  },
  {
   "cell_type": "code",
   "execution_count": null,
   "metadata": {},
   "outputs": [],
   "source": [
    "r2 = r2_score(y_test,svr_pred)\n",
    "print(\"R2 score: \",np.round(r2,3))\n",
    "n=5790 # n = number of observations (rows)\n",
    "k=23 # k = number of dimensions (independent variables)\n",
    "adj_r2_score = 1 - ((1-r2)*(n-1)/(n-k-1))\n",
    "print(\"Adjusted R2_score: \",np.round(adj_r2_score,3))\n",
    "print(\"MAE: \",np.round(mean_absolute_error(y_test,svr_pred),3))\n",
    "print(\"MSE: \",np.round(mean_squared_error(y_test,svr_pred),3))\n",
    "mse = mean_squared_error(y_test,svr_pred)\n",
    "rmse = np.sqrt(mse)\n",
    "print(\"RMSE: \", np.round(rmse, 3))\n",
    "#scores = cross_val_score(regressor,x_train,y_train,cv=10,scoring='neg_mean_squared_error')\n",
    "#avg_score = np.mean(-scores)\n",
    "#print(\"Average score using cross validation: \",avg_score)"
   ]
  },
  {
   "cell_type": "markdown",
   "metadata": {},
   "source": [
    "-------------------------------------------------------------------------------------X------------------------------------------------------------------------------------"
   ]
  },
  {
   "cell_type": "markdown",
   "metadata": {},
   "source": [
    "Implementing RandomForest"
   ]
  },
  {
   "cell_type": "code",
   "execution_count": 17,
   "metadata": {},
   "outputs": [],
   "source": [
    "from sklearn.model_selection import train_test_split\n",
    "x_train,x_test,y_train,y_test = train_test_split(x,y,random_state=52,test_size=0.2)"
   ]
  },
  {
   "cell_type": "code",
   "execution_count": 18,
   "metadata": {},
   "outputs": [],
   "source": [
    "from sklearn.ensemble import RandomForestRegressor\n",
    "rf = RandomForestRegressor()\n",
    "rf.fit(x_train,y_train)\n",
    "rfr_pred = rf.predict(x_test)"
   ]
  },
  {
   "cell_type": "code",
   "execution_count": 19,
   "metadata": {},
   "outputs": [
    {
     "name": "stdout",
     "output_type": "stream",
     "text": [
      "R2 score:  0.999\n",
      "Adjusted R2_score:  0.999\n",
      "MAE:  528.435\n",
      "MSE:  37018081.216\n",
      "RMSE:  6084.249\n"
     ]
    }
   ],
   "source": [
    "from sklearn.metrics import r2_score\n",
    "from sklearn.metrics import mean_absolute_error\n",
    "from sklearn.metrics import mean_squared_error\n",
    "import numpy as np\n",
    "from sklearn.model_selection import cross_val_score\n",
    "r2 = r2_score(y_test,rfr_pred)\n",
    "print(\"R2 score: \",np.round(r2,3))\n",
    "n=5790 # n = number of observations (rows)\n",
    "k=23 # k = number of dimensions (independent variables)\n",
    "adj_r2_score = 1 - ((1-r2)*(n-1)/(n-k-1))\n",
    "print(\"Adjusted R2_score: \",np.round(adj_r2_score,3))\n",
    "print(\"MAE: \",np.round(mean_absolute_error(y_test,rfr_pred),3))\n",
    "print(\"MSE: \",np.round(mean_squared_error(y_test,rfr_pred),3))\n",
    "mse = mean_squared_error(y_test,rfr_pred)\n",
    "rmse = np.sqrt(mse)\n",
    "print(\"RMSE: \", np.round(rmse, 3))\n",
    "#scores = cross_val_score(rf,x_train,y_train,cv=10,scoring='neg_mean_squared_error')\n",
    "#avg_score = np.mean(-scores)\n",
    "#print(\"Average score using cross validation: \",avg_score)"
   ]
  },
  {
   "cell_type": "markdown",
   "metadata": {},
   "source": [
    "-------------------------------------------------------------------------------------X------------------------------------------------------------------------------------"
   ]
  },
  {
   "cell_type": "markdown",
   "metadata": {},
   "source": [
    "Implementing DecisionTree"
   ]
  },
  {
   "cell_type": "code",
   "execution_count": 26,
   "metadata": {},
   "outputs": [],
   "source": [
    "x_train,x_test,y_train,y_test = train_test_split(x,y,random_state=52,test_size=0.2)"
   ]
  },
  {
   "cell_type": "code",
   "execution_count": 27,
   "metadata": {},
   "outputs": [],
   "source": [
    "from sklearn.tree import DecisionTreeRegressor \n",
    "decision = DecisionTreeRegressor() \n",
    "decision.fit(x_train, y_train)\n",
    "dtr_pred = decision.predict(x_test)"
   ]
  },
  {
   "cell_type": "code",
   "execution_count": 28,
   "metadata": {},
   "outputs": [
    {
     "name": "stdout",
     "output_type": "stream",
     "text": [
      "R2 score:  1.0\n",
      "Adjusted R2_score:  1.0\n",
      "MAE:  661.481\n",
      "MSE:  16377299.915\n",
      "RMSE:  4046.888\n"
     ]
    }
   ],
   "source": [
    "r2 = r2_score(y_test,dtr_pred)\n",
    "print(\"R2 score: \",np.round(r2,3))\n",
    "n=5790 # n = number of observations (rows)\n",
    "k=23 # k = number of dimensions (independent variables)\n",
    "adj_r2_score = 1 - ((1-r2)*(n-1)/(n-k-1))\n",
    "print(\"Adjusted R2_score: \",np.round(adj_r2_score,3))\n",
    "print(\"MAE: \",np.round(mean_absolute_error(y_test,dtr_pred),3))\n",
    "print(\"MSE: \",np.round(mean_squared_error(y_test,dtr_pred),3))\n",
    "mse = mean_squared_error(y_test,dtr_pred)\n",
    "rmse = np.sqrt(mse)\n",
    "print(\"RMSE: \", np.round(rmse, 3))\n",
    "#scores = cross_val_score(decision,x_train,y_train,cv=10,scoring='neg_mean_squared_error')\n",
    "#avg_score = np.mean(-scores)\n",
    "#print(\"Average score using cross validation: \",avg_score)"
   ]
  },
  {
   "cell_type": "markdown",
   "metadata": {},
   "source": [
    "-------------------------------------------------------------------------------------X------------------------------------------------------------------------------------"
   ]
  },
  {
   "cell_type": "markdown",
   "metadata": {},
   "source": [
    "Implementing Lasso Regression"
   ]
  },
  {
   "cell_type": "code",
   "execution_count": 38,
   "metadata": {},
   "outputs": [],
   "source": [
    "from sklearn.preprocessing import StandardScaler\n",
    "scale= StandardScaler()\n",
    "x_scaled = scale.fit_transform(x)"
   ]
  },
  {
   "cell_type": "code",
   "execution_count": 92,
   "metadata": {},
   "outputs": [],
   "source": [
    "from sklearn.model_selection import train_test_split\n",
    "x_train,x_test,y_train,y_test = train_test_split(x,y,random_state=52,train_size=0.8)"
   ]
  },
  {
   "cell_type": "code",
   "execution_count": 93,
   "metadata": {},
   "outputs": [],
   "source": [
    "from sklearn import linear_model\n",
    "lassoReg = linear_model.Lasso()\n",
    "lassoReg.fit(x_train,y_train)\n",
    "lr_pred = lassoReg.predict(x_test)"
   ]
  },
  {
   "cell_type": "code",
   "execution_count": 94,
   "metadata": {},
   "outputs": [
    {
     "name": "stdout",
     "output_type": "stream",
     "text": [
      "R2 score:  1.0\n",
      "Adjusted R2_score:  1.0\n",
      "MAE:  11.478\n",
      "MSE:  188.675\n",
      "RMSE:  13.736\n"
     ]
    }
   ],
   "source": [
    "from sklearn.metrics import r2_score\n",
    "from sklearn.metrics import mean_absolute_error\n",
    "from sklearn.metrics import mean_squared_error\n",
    "import numpy as np\n",
    "from sklearn.model_selection import cross_val_score\n",
    "r2 = r2_score(y_test,lr_pred)\n",
    "print(\"R2 score: \",np.round(r2,3))\n",
    "n=5790 # n = number of observations (rows)\n",
    "k=23 # k = number of dimensions (independent variables)\n",
    "adj_r2_score = 1 - ((1-r2)*(n-1)/(n-k-1))\n",
    "print(\"Adjusted R2_score: \",np.round(adj_r2_score,3))\n",
    "print(\"MAE: \",np.round(mean_absolute_error(y_test,lr_pred),3))\n",
    "print(\"MSE: \",np.round(mean_squared_error(y_test,lr_pred),3))\n",
    "mse = mean_squared_error(y_test,lr_pred)\n",
    "rmse = np.sqrt(mse)\n",
    "print(\"RMSE: \", np.round(rmse, 3))\n",
    "#scores = cross_val_score(lassoReg,x_train,y_train,cv=10,scoring='neg_mean_squared_error')\n",
    "#avg_score = np.mean(-scores)\n",
    "#print(\"Average score using cross validation: \",avg_score)"
   ]
  },
  {
   "cell_type": "markdown",
   "metadata": {},
   "source": [
    "-------------------------------------------------------------------------------------X------------------------------------------------------------------------------------"
   ]
  },
  {
   "cell_type": "markdown",
   "metadata": {},
   "source": [
    "Testing sample of x_test manually"
   ]
  },
  {
   "cell_type": "code",
   "execution_count": 95,
   "metadata": {},
   "outputs": [],
   "source": [
    "sample = x.iloc[5786].values"
   ]
  },
  {
   "cell_type": "code",
   "execution_count": 96,
   "metadata": {},
   "outputs": [
    {
     "data": {
      "text/plain": [
       "288899"
      ]
     },
     "execution_count": 96,
     "metadata": {},
     "output_type": "execute_result"
    }
   ],
   "source": [
    "y.iloc[5786]"
   ]
  },
  {
   "cell_type": "code",
   "execution_count": 97,
   "metadata": {},
   "outputs": [
    {
     "name": "stderr",
     "output_type": "stream",
     "text": [
      "/home/sarang/Desktop/PyEnv/Env01/Env01/lib/python3.8/site-packages/sklearn/base.py:450: UserWarning: X does not have valid feature names, but Lasso was fitted with feature names\n",
      "  warnings.warn(\n"
     ]
    }
   ],
   "source": [
    "lr_pred = lassoReg.predict([sample])"
   ]
  },
  {
   "cell_type": "code",
   "execution_count": 98,
   "metadata": {},
   "outputs": [
    {
     "data": {
      "text/plain": [
       "array([288881.87400054536], dtype=object)"
      ]
     },
     "execution_count": 98,
     "metadata": {},
     "output_type": "execute_result"
    }
   ],
   "source": [
    "lr_pred"
   ]
  }
 ],
 "metadata": {
  "kernelspec": {
   "display_name": "Python 3.8.10 ('Env01')",
   "language": "python",
   "name": "python3"
  },
  "language_info": {
   "codemirror_mode": {
    "name": "ipython",
    "version": 3
   },
   "file_extension": ".py",
   "mimetype": "text/x-python",
   "name": "python",
   "nbconvert_exporter": "python",
   "pygments_lexer": "ipython3",
   "version": "3.8.10"
  },
  "orig_nbformat": 4,
  "vscode": {
   "interpreter": {
    "hash": "c8ba2787a84a7f2f66ebb7354e6e2d953480730db5b3e727c0f12de54f4bace1"
   }
  }
 },
 "nbformat": 4,
 "nbformat_minor": 2
}
