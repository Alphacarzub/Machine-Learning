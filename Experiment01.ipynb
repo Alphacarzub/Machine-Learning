{
 "cells": [
  {
   "cell_type": "code",
   "execution_count": 4,
   "metadata": {},
   "outputs": [
    {
     "data": {
      "text/html": [
       "<div>\n",
       "<style scoped>\n",
       "    .dataframe tbody tr th:only-of-type {\n",
       "        vertical-align: middle;\n",
       "    }\n",
       "\n",
       "    .dataframe tbody tr th {\n",
       "        vertical-align: top;\n",
       "    }\n",
       "\n",
       "    .dataframe thead th {\n",
       "        text-align: right;\n",
       "    }\n",
       "</style>\n",
       "<table border=\"1\" class=\"dataframe\">\n",
       "  <thead>\n",
       "    <tr style=\"text-align: right;\">\n",
       "      <th></th>\n",
       "      <th>car_name</th>\n",
       "      <th>yr_mfr</th>\n",
       "      <th>fuel_type</th>\n",
       "      <th>kms_run</th>\n",
       "      <th>sale_price</th>\n",
       "      <th>city</th>\n",
       "      <th>times_viewed</th>\n",
       "      <th>body_type</th>\n",
       "      <th>transmission</th>\n",
       "      <th>variant</th>\n",
       "      <th>...</th>\n",
       "      <th>car_availability</th>\n",
       "      <th>total_owners</th>\n",
       "      <th>broker_quote</th>\n",
       "      <th>original_price</th>\n",
       "      <th>car_rating</th>\n",
       "      <th>fitness_certificate</th>\n",
       "      <th>emi_starts_from</th>\n",
       "      <th>booking_down_pymnt</th>\n",
       "      <th>reserved</th>\n",
       "      <th>warranty_avail</th>\n",
       "    </tr>\n",
       "  </thead>\n",
       "  <tbody>\n",
       "    <tr>\n",
       "      <th>0</th>\n",
       "      <td>90</td>\n",
       "      <td>2015</td>\n",
       "      <td>2</td>\n",
       "      <td>8063</td>\n",
       "      <td>386399</td>\n",
       "      <td>11</td>\n",
       "      <td>18715</td>\n",
       "      <td>0</td>\n",
       "      <td>1</td>\n",
       "      <td>451</td>\n",
       "      <td>...</td>\n",
       "      <td>0</td>\n",
       "      <td>2</td>\n",
       "      <td>397677</td>\n",
       "      <td>404177</td>\n",
       "      <td>2</td>\n",
       "      <td>True</td>\n",
       "      <td>8975</td>\n",
       "      <td>57960</td>\n",
       "      <td>False</td>\n",
       "      <td>False</td>\n",
       "    </tr>\n",
       "    <tr>\n",
       "      <th>1</th>\n",
       "      <td>74</td>\n",
       "      <td>2016</td>\n",
       "      <td>2</td>\n",
       "      <td>23104</td>\n",
       "      <td>265499</td>\n",
       "      <td>11</td>\n",
       "      <td>2676</td>\n",
       "      <td>0</td>\n",
       "      <td>1</td>\n",
       "      <td>441</td>\n",
       "      <td>...</td>\n",
       "      <td>0</td>\n",
       "      <td>1</td>\n",
       "      <td>272935</td>\n",
       "      <td>354313</td>\n",
       "      <td>2</td>\n",
       "      <td>True</td>\n",
       "      <td>6167</td>\n",
       "      <td>39825</td>\n",
       "      <td>False</td>\n",
       "      <td>False</td>\n",
       "    </tr>\n",
       "    <tr>\n",
       "      <th>2</th>\n",
       "      <td>90</td>\n",
       "      <td>2013</td>\n",
       "      <td>0</td>\n",
       "      <td>39124</td>\n",
       "      <td>307999</td>\n",
       "      <td>11</td>\n",
       "      <td>6511</td>\n",
       "      <td>0</td>\n",
       "      <td>1</td>\n",
       "      <td>607</td>\n",
       "      <td>...</td>\n",
       "      <td>0</td>\n",
       "      <td>1</td>\n",
       "      <td>294262</td>\n",
       "      <td>374326</td>\n",
       "      <td>2</td>\n",
       "      <td>True</td>\n",
       "      <td>7154</td>\n",
       "      <td>46200</td>\n",
       "      <td>False</td>\n",
       "      <td>False</td>\n",
       "    </tr>\n",
       "    <tr>\n",
       "      <th>3</th>\n",
       "      <td>43</td>\n",
       "      <td>2015</td>\n",
       "      <td>2</td>\n",
       "      <td>22116</td>\n",
       "      <td>361499</td>\n",
       "      <td>11</td>\n",
       "      <td>3225</td>\n",
       "      <td>0</td>\n",
       "      <td>1</td>\n",
       "      <td>462</td>\n",
       "      <td>...</td>\n",
       "      <td>0</td>\n",
       "      <td>1</td>\n",
       "      <td>360716</td>\n",
       "      <td>367216</td>\n",
       "      <td>2</td>\n",
       "      <td>True</td>\n",
       "      <td>8397</td>\n",
       "      <td>54225</td>\n",
       "      <td>False</td>\n",
       "      <td>False</td>\n",
       "    </tr>\n",
       "    <tr>\n",
       "      <th>4</th>\n",
       "      <td>75</td>\n",
       "      <td>2018</td>\n",
       "      <td>2</td>\n",
       "      <td>23534</td>\n",
       "      <td>335299</td>\n",
       "      <td>11</td>\n",
       "      <td>1055</td>\n",
       "      <td>0</td>\n",
       "      <td>1</td>\n",
       "      <td>633</td>\n",
       "      <td>...</td>\n",
       "      <td>0</td>\n",
       "      <td>1</td>\n",
       "      <td>343212</td>\n",
       "      <td>439056</td>\n",
       "      <td>2</td>\n",
       "      <td>True</td>\n",
       "      <td>7788</td>\n",
       "      <td>50295</td>\n",
       "      <td>False</td>\n",
       "      <td>False</td>\n",
       "    </tr>\n",
       "  </tbody>\n",
       "</table>\n",
       "<p>5 rows × 27 columns</p>\n",
       "</div>"
      ],
      "text/plain": [
       "   car_name  yr_mfr  fuel_type  kms_run  sale_price  city  times_viewed  \\\n",
       "0        90    2015          2     8063      386399    11         18715   \n",
       "1        74    2016          2    23104      265499    11          2676   \n",
       "2        90    2013          0    39124      307999    11          6511   \n",
       "3        43    2015          2    22116      361499    11          3225   \n",
       "4        75    2018          2    23534      335299    11          1055   \n",
       "\n",
       "   body_type  transmission  variant  ...  car_availability  total_owners  \\\n",
       "0          0             1      451  ...                 0             2   \n",
       "1          0             1      441  ...                 0             1   \n",
       "2          0             1      607  ...                 0             1   \n",
       "3          0             1      462  ...                 0             1   \n",
       "4          0             1      633  ...                 0             1   \n",
       "\n",
       "   broker_quote  original_price  car_rating  fitness_certificate  \\\n",
       "0        397677          404177           2                 True   \n",
       "1        272935          354313           2                 True   \n",
       "2        294262          374326           2                 True   \n",
       "3        360716          367216           2                 True   \n",
       "4        343212          439056           2                 True   \n",
       "\n",
       "   emi_starts_from  booking_down_pymnt  reserved  warranty_avail  \n",
       "0             8975               57960     False           False  \n",
       "1             6167               39825     False           False  \n",
       "2             7154               46200     False           False  \n",
       "3             8397               54225     False           False  \n",
       "4             7788               50295     False           False  \n",
       "\n",
       "[5 rows x 27 columns]"
      ]
     },
     "execution_count": 4,
     "metadata": {},
     "output_type": "execute_result"
    }
   ],
   "source": [
    "import pandas as pd\n",
    "df = pd.read_excel('/home/sarang/Desktop/AML-pro-assignment/Augmented_dataset.xlsx')\n",
    "df.head()"
   ]
  },
  {
   "cell_type": "code",
   "execution_count": 5,
   "metadata": {},
   "outputs": [
    {
     "data": {
      "text/plain": [
       "(11580, 27)"
      ]
     },
     "execution_count": 5,
     "metadata": {},
     "output_type": "execute_result"
    }
   ],
   "source": [
    "df.shape"
   ]
  },
  {
   "cell_type": "code",
   "execution_count": 3,
   "metadata": {},
   "outputs": [
    {
     "name": "stdout",
     "output_type": "stream",
     "text": [
      "<class 'pandas.core.frame.DataFrame'>\n",
      "RangeIndex: 11580 entries, 0 to 11579\n",
      "Data columns (total 27 columns):\n",
      " #   Column               Non-Null Count  Dtype\n",
      "---  ------               --------------  -----\n",
      " 0   car_name             11580 non-null  int64\n",
      " 1   yr_mfr               11580 non-null  int64\n",
      " 2   fuel_type            11580 non-null  int64\n",
      " 3   kms_run              11580 non-null  int64\n",
      " 4   sale_price           11580 non-null  int64\n",
      " 5   city                 11580 non-null  int64\n",
      " 6   times_viewed         11580 non-null  int64\n",
      " 7   body_type            11580 non-null  int64\n",
      " 8   transmission         11580 non-null  int64\n",
      " 9   variant              11580 non-null  int64\n",
      " 10  assured_buy          11580 non-null  bool \n",
      " 11  registered_city      11580 non-null  int64\n",
      " 12  is_hot               11580 non-null  bool \n",
      " 13  rto                  11580 non-null  int64\n",
      " 14  source               11580 non-null  int64\n",
      " 15  make                 11580 non-null  int64\n",
      " 16  model                11580 non-null  int64\n",
      " 17  car_availability     11580 non-null  int64\n",
      " 18  total_owners         11580 non-null  int64\n",
      " 19  broker_quote         11580 non-null  int64\n",
      " 20  original_price       11580 non-null  int64\n",
      " 21  car_rating           11580 non-null  int64\n",
      " 22  fitness_certificate  11580 non-null  bool \n",
      " 23  emi_starts_from      11580 non-null  int64\n",
      " 24  booking_down_pymnt   11580 non-null  int64\n",
      " 25  reserved             11580 non-null  bool \n",
      " 26  warranty_avail       11580 non-null  bool \n",
      "dtypes: bool(5), int64(22)\n",
      "memory usage: 2.0 MB\n"
     ]
    }
   ],
   "source": [
    "df.info()"
   ]
  },
  {
   "cell_type": "code",
   "execution_count": 6,
   "metadata": {},
   "outputs": [
    {
     "data": {
      "text/plain": [
       "(11580, 26)"
      ]
     },
     "execution_count": 6,
     "metadata": {},
     "output_type": "execute_result"
    }
   ],
   "source": [
    "x = df.drop(columns=['sale_price'],axis=1)\n",
    "x.shape"
   ]
  },
  {
   "cell_type": "code",
   "execution_count": 7,
   "metadata": {},
   "outputs": [
    {
     "data": {
      "text/plain": [
       "(11580,)"
      ]
     },
     "execution_count": 7,
     "metadata": {},
     "output_type": "execute_result"
    }
   ],
   "source": [
    "y = df['sale_price']\n",
    "y.shape"
   ]
  },
  {
   "cell_type": "markdown",
   "metadata": {},
   "source": [
    "-------------------------------------------------------------------------------------X------------------------------------------------------------------------------------"
   ]
  },
  {
   "cell_type": "markdown",
   "metadata": {},
   "source": [
    "Implementing Linear Regression"
   ]
  },
  {
   "cell_type": "code",
   "execution_count": 30,
   "metadata": {},
   "outputs": [],
   "source": [
    "from sklearn.preprocessing import StandardScaler\n",
    "scale= StandardScaler()\n",
    "x_scaled = scale.fit_transform(x)"
   ]
  },
  {
   "cell_type": "code",
   "execution_count": 8,
   "metadata": {},
   "outputs": [],
   "source": [
    "from sklearn.model_selection import train_test_split\n",
    "x_train,x_test,y_train,y_test = train_test_split(x,y,test_size=0.2,train_size=0.8,random_state=52)"
   ]
  },
  {
   "cell_type": "code",
   "execution_count": 9,
   "metadata": {},
   "outputs": [],
   "source": [
    "from sklearn.linear_model import LinearRegression\n",
    "model1 = LinearRegression()\n",
    "model1.fit(x_train,y_train)\n",
    "linear_pred = model1.predict(x_test)"
   ]
  },
  {
   "cell_type": "code",
   "execution_count": 10,
   "metadata": {},
   "outputs": [
    {
     "name": "stdout",
     "output_type": "stream",
     "text": [
      "R2 score:  0.93\n",
      "Adjusted R2_score:  0.93\n",
      "MAE:  42223.59\n",
      "MSE:  3958228700.559\n",
      "RMSE:  62914.455\n",
      "Average score using cross validation:  4909656300.03566\n"
     ]
    }
   ],
   "source": [
    "from sklearn.metrics import r2_score\n",
    "from sklearn.metrics import mean_absolute_error\n",
    "from sklearn.metrics import mean_squared_error\n",
    "import numpy as np\n",
    "from sklearn.model_selection import cross_val_score\n",
    "r2 = r2_score(y_test,linear_pred)\n",
    "print(\"R2 score: \",np.round(r2,3))\n",
    "n=5790 # n = number of observations (rows)\n",
    "k=26 # k = number of dimensions (independent variables)\n",
    "adj_r2_score = 1 - ((1-r2)*(n-1)/(n-k-1))\n",
    "print(\"Adjusted R2_score: \",np.round(adj_r2_score,3))\n",
    "print(\"MAE: \",np.round(mean_absolute_error(y_test,linear_pred),3))\n",
    "print(\"MSE: \",np.round(mean_squared_error(y_test,linear_pred),3))\n",
    "mse = mean_squared_error(y_test,linear_pred)\n",
    "rmse = np.sqrt(mse)\n",
    "print(\"RMSE: \", np.round(rmse, 3))\n",
    "scores = cross_val_score(model1,x_train,y_train,cv=10,scoring='neg_mean_squared_error')\n",
    "avg_score = np.mean(-scores)\n",
    "print(\"Average score using cross validation: \",avg_score)"
   ]
  },
  {
   "cell_type": "markdown",
   "metadata": {},
   "source": [
    "-------------------------------------------------------------------------------------X------------------------------------------------------------------------------------"
   ]
  },
  {
   "cell_type": "markdown",
   "metadata": {},
   "source": [
    "Implementing SVM"
   ]
  },
  {
   "cell_type": "code",
   "execution_count": 34,
   "metadata": {},
   "outputs": [],
   "source": [
    "x_svr = scale.fit_transform(x)"
   ]
  },
  {
   "cell_type": "code",
   "execution_count": 41,
   "metadata": {},
   "outputs": [],
   "source": [
    "x_train,x_test,y_train,y_test = train_test_split(x_svr,y,test_size=0.2,train_size=0.8,random_state=52)"
   ]
  },
  {
   "cell_type": "code",
   "execution_count": 42,
   "metadata": {},
   "outputs": [],
   "source": [
    "from sklearn.svm import SVR\n",
    "regressor = SVR()\n",
    "regressor.fit(x_train, y_train)\n",
    "svr_pred = regressor.predict(x_test)"
   ]
  },
  {
   "cell_type": "code",
   "execution_count": 43,
   "metadata": {},
   "outputs": [
    {
     "name": "stdout",
     "output_type": "stream",
     "text": [
      "R2 score:  -0.099\n",
      "Adjusted R2_score:  -0.104\n",
      "MAE:  164130.148\n",
      "MSE:  62218104742.993\n",
      "RMSE:  249435.572\n",
      "Average score using cross validation:  73980457556.75455\n"
     ]
    }
   ],
   "source": [
    "r2 = r2_score(y_test,svr_pred)\n",
    "print(\"R2 score: \",np.round(r2,3))\n",
    "n=5790 # n = number of observations (rows)\n",
    "k=26 # k = number of dimensions (independent variables)\n",
    "adj_r2_score = 1 - ((1-r2)*(n-1)/(n-k-1))\n",
    "print(\"Adjusted R2_score: \",np.round(adj_r2_score,3))\n",
    "print(\"MAE: \",np.round(mean_absolute_error(y_test,svr_pred),3))\n",
    "print(\"MSE: \",np.round(mean_squared_error(y_test,svr_pred),3))\n",
    "mse = mean_squared_error(y_test,svr_pred)\n",
    "rmse = np.sqrt(mse)\n",
    "print(\"RMSE: \", np.round(rmse, 3))\n",
    "scores = cross_val_score(regressor,x_train,y_train,cv=10,scoring='neg_mean_squared_error')\n",
    "avg_score = np.mean(-scores)\n",
    "print(\"Average score using cross validation: \",avg_score)"
   ]
  },
  {
   "cell_type": "markdown",
   "metadata": {},
   "source": [
    "-------------------------------------------------------------------------------------X------------------------------------------------------------------------------------"
   ]
  },
  {
   "cell_type": "markdown",
   "metadata": {},
   "source": [
    "Implementing Random Forest"
   ]
  },
  {
   "cell_type": "code",
   "execution_count": 51,
   "metadata": {},
   "outputs": [],
   "source": [
    "x_train,x_test,y_train,y_test = train_test_split(x,y,random_state=52,train_size=0.8,test_size=0.2)"
   ]
  },
  {
   "cell_type": "code",
   "execution_count": 52,
   "metadata": {},
   "outputs": [],
   "source": [
    "from sklearn.ensemble import RandomForestRegressor\n",
    "rf = RandomForestRegressor()\n",
    "rf.fit(x_train,y_train)\n",
    "rfr_pred = rf.predict(x_test)"
   ]
  },
  {
   "cell_type": "code",
   "execution_count": 53,
   "metadata": {},
   "outputs": [
    {
     "name": "stdout",
     "output_type": "stream",
     "text": [
      "R2 score:  0.968\n",
      "Adjusted R2_score:  0.968\n",
      "MAE:  26775.317\n",
      "MSE:  1801688316.031\n",
      "RMSE:  42446.299\n"
     ]
    }
   ],
   "source": [
    "r2 = r2_score(y_test,rfr_pred)\n",
    "print(\"R2 score: \",np.round(r2,3))\n",
    "n=5790 # n = number of observations (rows)\n",
    "k=26 # k = number of dimensions (independent variables)\n",
    "adj_r2_score = 1 - ((1-r2)*(n-1)/(n-k-1))\n",
    "print(\"Adjusted R2_score: \",np.round(adj_r2_score,3))\n",
    "print(\"MAE: \",np.round(mean_absolute_error(y_test,rfr_pred),3))\n",
    "print(\"MSE: \",np.round(mean_squared_error(y_test,rfr_pred),3))\n",
    "mse = mean_squared_error(y_test,rfr_pred)\n",
    "rmse = np.sqrt(mse)\n",
    "print(\"RMSE: \", np.round(rmse, 3))\n",
    "#scores = cross_val_score(rf,x_train,y_train,cv=10,scoring='neg_mean_squared_error')\n",
    "#avg_score = np.mean(-scores)\n",
    "#print(\"Average score using cross validation: \",avg_score)"
   ]
  },
  {
   "cell_type": "markdown",
   "metadata": {},
   "source": [
    "-------------------------------------------------------------------------------------X------------------------------------------------------------------------------------"
   ]
  },
  {
   "cell_type": "markdown",
   "metadata": {},
   "source": [
    "Implementing Decision Tree"
   ]
  },
  {
   "cell_type": "code",
   "execution_count": 63,
   "metadata": {},
   "outputs": [],
   "source": [
    "x_train,x_test,y_train,y_test = train_test_split(x,y,random_state=52,train_size=0.8,test_size=0.2)"
   ]
  },
  {
   "cell_type": "code",
   "execution_count": 64,
   "metadata": {},
   "outputs": [
    {
     "data": {
      "text/html": [
       "<style>#sk-container-id-4 {color: black;background-color: white;}#sk-container-id-4 pre{padding: 0;}#sk-container-id-4 div.sk-toggleable {background-color: white;}#sk-container-id-4 label.sk-toggleable__label {cursor: pointer;display: block;width: 100%;margin-bottom: 0;padding: 0.3em;box-sizing: border-box;text-align: center;}#sk-container-id-4 label.sk-toggleable__label-arrow:before {content: \"▸\";float: left;margin-right: 0.25em;color: #696969;}#sk-container-id-4 label.sk-toggleable__label-arrow:hover:before {color: black;}#sk-container-id-4 div.sk-estimator:hover label.sk-toggleable__label-arrow:before {color: black;}#sk-container-id-4 div.sk-toggleable__content {max-height: 0;max-width: 0;overflow: hidden;text-align: left;background-color: #f0f8ff;}#sk-container-id-4 div.sk-toggleable__content pre {margin: 0.2em;color: black;border-radius: 0.25em;background-color: #f0f8ff;}#sk-container-id-4 input.sk-toggleable__control:checked~div.sk-toggleable__content {max-height: 200px;max-width: 100%;overflow: auto;}#sk-container-id-4 input.sk-toggleable__control:checked~label.sk-toggleable__label-arrow:before {content: \"▾\";}#sk-container-id-4 div.sk-estimator input.sk-toggleable__control:checked~label.sk-toggleable__label {background-color: #d4ebff;}#sk-container-id-4 div.sk-label input.sk-toggleable__control:checked~label.sk-toggleable__label {background-color: #d4ebff;}#sk-container-id-4 input.sk-hidden--visually {border: 0;clip: rect(1px 1px 1px 1px);clip: rect(1px, 1px, 1px, 1px);height: 1px;margin: -1px;overflow: hidden;padding: 0;position: absolute;width: 1px;}#sk-container-id-4 div.sk-estimator {font-family: monospace;background-color: #f0f8ff;border: 1px dotted black;border-radius: 0.25em;box-sizing: border-box;margin-bottom: 0.5em;}#sk-container-id-4 div.sk-estimator:hover {background-color: #d4ebff;}#sk-container-id-4 div.sk-parallel-item::after {content: \"\";width: 100%;border-bottom: 1px solid gray;flex-grow: 1;}#sk-container-id-4 div.sk-label:hover label.sk-toggleable__label {background-color: #d4ebff;}#sk-container-id-4 div.sk-serial::before {content: \"\";position: absolute;border-left: 1px solid gray;box-sizing: border-box;top: 0;bottom: 0;left: 50%;z-index: 0;}#sk-container-id-4 div.sk-serial {display: flex;flex-direction: column;align-items: center;background-color: white;padding-right: 0.2em;padding-left: 0.2em;position: relative;}#sk-container-id-4 div.sk-item {position: relative;z-index: 1;}#sk-container-id-4 div.sk-parallel {display: flex;align-items: stretch;justify-content: center;background-color: white;position: relative;}#sk-container-id-4 div.sk-item::before, #sk-container-id-4 div.sk-parallel-item::before {content: \"\";position: absolute;border-left: 1px solid gray;box-sizing: border-box;top: 0;bottom: 0;left: 50%;z-index: -1;}#sk-container-id-4 div.sk-parallel-item {display: flex;flex-direction: column;z-index: 1;position: relative;background-color: white;}#sk-container-id-4 div.sk-parallel-item:first-child::after {align-self: flex-end;width: 50%;}#sk-container-id-4 div.sk-parallel-item:last-child::after {align-self: flex-start;width: 50%;}#sk-container-id-4 div.sk-parallel-item:only-child::after {width: 0;}#sk-container-id-4 div.sk-dashed-wrapped {border: 1px dashed gray;margin: 0 0.4em 0.5em 0.4em;box-sizing: border-box;padding-bottom: 0.4em;background-color: white;}#sk-container-id-4 div.sk-label label {font-family: monospace;font-weight: bold;display: inline-block;line-height: 1.2em;}#sk-container-id-4 div.sk-label-container {text-align: center;}#sk-container-id-4 div.sk-container {/* jupyter's `normalize.less` sets `[hidden] { display: none; }` but bootstrap.min.css set `[hidden] { display: none !important; }` so we also need the `!important` here to be able to override the default hidden behavior on the sphinx rendered scikit-learn.org. See: https://github.com/scikit-learn/scikit-learn/issues/21755 */display: inline-block !important;position: relative;}#sk-container-id-4 div.sk-text-repr-fallback {display: none;}</style><div id=\"sk-container-id-4\" class=\"sk-top-container\"><div class=\"sk-text-repr-fallback\"><pre>DecisionTreeRegressor()</pre><b>In a Jupyter environment, please rerun this cell to show the HTML representation or trust the notebook. <br />On GitHub, the HTML representation is unable to render, please try loading this page with nbviewer.org.</b></div><div class=\"sk-container\" hidden><div class=\"sk-item\"><div class=\"sk-estimator sk-toggleable\"><input class=\"sk-toggleable__control sk-hidden--visually\" id=\"sk-estimator-id-4\" type=\"checkbox\" checked><label for=\"sk-estimator-id-4\" class=\"sk-toggleable__label sk-toggleable__label-arrow\">DecisionTreeRegressor</label><div class=\"sk-toggleable__content\"><pre>DecisionTreeRegressor()</pre></div></div></div></div></div>"
      ],
      "text/plain": [
       "DecisionTreeRegressor()"
      ]
     },
     "execution_count": 64,
     "metadata": {},
     "output_type": "execute_result"
    }
   ],
   "source": [
    "from sklearn.tree import DecisionTreeRegressor \n",
    "regressor = DecisionTreeRegressor() \n",
    "regressor.fit(x_train, y_train)"
   ]
  },
  {
   "cell_type": "code",
   "execution_count": 65,
   "metadata": {},
   "outputs": [],
   "source": [
    "rfr_pred = regressor.predict(x_test)"
   ]
  },
  {
   "cell_type": "code",
   "execution_count": 66,
   "metadata": {},
   "outputs": [
    {
     "name": "stdout",
     "output_type": "stream",
     "text": [
      "R2 score:  0.943\n",
      "Adjusted R2_score:  0.942\n",
      "MAE:  33228.098\n",
      "MSE:  3246961628.22\n",
      "RMSE:  56982.117\n"
     ]
    }
   ],
   "source": [
    "r2 = r2_score(y_test,rfr_pred)\n",
    "print(\"R2 score: \",np.round(r2,3))\n",
    "n=5790 # n = number of observations (rows)\n",
    "k=26 # k = number of dimensions (independent variables)\n",
    "adj_r2_score = 1 - ((1-r2)*(n-1)/(n-k-1))\n",
    "print(\"Adjusted R2_score: \",np.round(adj_r2_score,3))\n",
    "print(\"MAE: \",np.round(mean_absolute_error(y_test,rfr_pred),3))\n",
    "print(\"MSE: \",np.round(mean_squared_error(y_test,rfr_pred),3))\n",
    "mse = mean_squared_error(y_test,rfr_pred)\n",
    "rmse = np.sqrt(mse)\n",
    "print(\"RMSE: \", np.round(rmse, 3))\n",
    "#scores = cross_val_score(regressor,x_train,y_train,cv=10,scoring='neg_mean_squared_error')\n",
    "#avg_score = np.mean(-scores)\n",
    "#print(\"Average score using cross validation: \",avg_score)"
   ]
  },
  {
   "cell_type": "markdown",
   "metadata": {},
   "source": [
    "-------------------------------------------------------------------------------------X------------------------------------------------------------------------------------"
   ]
  },
  {
   "cell_type": "markdown",
   "metadata": {},
   "source": [
    "Implementing Lasso Regression"
   ]
  },
  {
   "cell_type": "code",
   "execution_count": 80,
   "metadata": {},
   "outputs": [],
   "source": [
    "scale= StandardScaler()\n",
    "x_scaled = scale.fit_transform(x)"
   ]
  },
  {
   "cell_type": "code",
   "execution_count": 87,
   "metadata": {},
   "outputs": [],
   "source": [
    "x_train,x_test,y_train,y_test = train_test_split(x_scaled,y,random_state=52,train_size=0.6,test_size=0.4)"
   ]
  },
  {
   "cell_type": "code",
   "execution_count": 88,
   "metadata": {},
   "outputs": [
    {
     "name": "stderr",
     "output_type": "stream",
     "text": [
      "/home/sarang/Desktop/PyEnv/Env01/Env01/lib/python3.8/site-packages/sklearn/linear_model/_coordinate_descent.py:648: ConvergenceWarning: Objective did not converge. You might want to increase the number of iterations, check the scale of the features or consider increasing regularisation. Duality gap: 1.675e+11, tolerance: 4.718e+10\n",
      "  model = cd_fast.enet_coordinate_descent(\n"
     ]
    }
   ],
   "source": [
    "from sklearn import linear_model\n",
    "lassoReg = linear_model.Lasso()\n",
    "lassoReg.fit(x_train,y_train)\n",
    "lr_pred = lassoReg.predict(x_test)"
   ]
  },
  {
   "cell_type": "code",
   "execution_count": 89,
   "metadata": {},
   "outputs": [
    {
     "name": "stdout",
     "output_type": "stream",
     "text": [
      "R2 score:  0.939\n",
      "Adjusted R2_score:  0.938\n",
      "MAE:  41379.786\n",
      "MSE:  3698814115.699\n",
      "RMSE:  60817.877\n"
     ]
    }
   ],
   "source": [
    "r2 = r2_score(y_test,lr_pred)\n",
    "print(\"R2 score: \",np.round(r2,3))\n",
    "n=5790 # n = number of observations (rows)\n",
    "k=26 # k = number of dimensions (independent variables)\n",
    "adj_r2_score = 1 - ((1-r2)*(n-1)/(n-k-1))\n",
    "print(\"Adjusted R2_score: \",np.round(adj_r2_score,3))\n",
    "print(\"MAE: \",np.round(mean_absolute_error(y_test,lr_pred),3))\n",
    "print(\"MSE: \",np.round(mean_squared_error(y_test,lr_pred),3))\n",
    "mse = mean_squared_error(y_test,lr_pred)\n",
    "rmse = np.sqrt(mse)\n",
    "print(\"RMSE: \", np.round(rmse, 3))\n",
    "#scores = cross_val_score(lassoReg,x_train,y_train,cv=10,scoring='neg_mean_squared_error')\n",
    "#avg_score = np.mean(-scores)\n",
    "#print(\"Average score using cross validation: \",avg_score)"
   ]
  },
  {
   "cell_type": "markdown",
   "metadata": {},
   "source": [
    "-------------------------------------------------------------------------------------X------------------------------------------------------------------------------------"
   ]
  },
  {
   "cell_type": "markdown",
   "metadata": {},
   "source": [
    "Testing sample manually"
   ]
  },
  {
   "cell_type": "code",
   "execution_count": 11,
   "metadata": {},
   "outputs": [
    {
     "data": {
      "text/plain": [
       "5171     1196242\n",
       "6353      202213\n",
       "8317      125316\n",
       "5005      889099\n",
       "3132      630899\n",
       "          ...   \n",
       "3227      786999\n",
       "6439      150689\n",
       "8959       39427\n",
       "492       323499\n",
       "10876      30069\n",
       "Name: sale_price, Length: 2316, dtype: int64"
      ]
     },
     "execution_count": 11,
     "metadata": {},
     "output_type": "execute_result"
    }
   ],
   "source": [
    "y_test"
   ]
  },
  {
   "cell_type": "code",
   "execution_count": 20,
   "metadata": {},
   "outputs": [],
   "source": [
    "sample = x.iloc[492].values"
   ]
  },
  {
   "cell_type": "code",
   "execution_count": 21,
   "metadata": {},
   "outputs": [
    {
     "data": {
      "text/plain": [
       "323499"
      ]
     },
     "execution_count": 21,
     "metadata": {},
     "output_type": "execute_result"
    }
   ],
   "source": [
    "y.iloc[492]"
   ]
  },
  {
   "cell_type": "code",
   "execution_count": 22,
   "metadata": {},
   "outputs": [
    {
     "name": "stderr",
     "output_type": "stream",
     "text": [
      "/home/sarang/Desktop/PyEnv/Env01/Env01/lib/python3.8/site-packages/sklearn/base.py:450: UserWarning: X does not have valid feature names, but LinearRegression was fitted with feature names\n",
      "  warnings.warn(\n"
     ]
    }
   ],
   "source": [
    "linear_pred = model1.predict([sample])"
   ]
  },
  {
   "cell_type": "code",
   "execution_count": 23,
   "metadata": {},
   "outputs": [
    {
     "data": {
      "text/plain": [
       "array([333357.22481405083], dtype=object)"
      ]
     },
     "execution_count": 23,
     "metadata": {},
     "output_type": "execute_result"
    }
   ],
   "source": [
    "linear_pred"
   ]
  },
  {
   "cell_type": "code",
   "execution_count": 24,
   "metadata": {},
   "outputs": [
    {
     "name": "stdout",
     "output_type": "stream",
     "text": [
      "Error:  [-9858.22481405083]\n"
     ]
    }
   ],
   "source": [
    "print (\"Error: \",y.iloc[492]-linear_pred)"
   ]
  }
 ],
 "metadata": {
  "kernelspec": {
   "display_name": "Python 3.8.10 ('Env01')",
   "language": "python",
   "name": "python3"
  },
  "language_info": {
   "codemirror_mode": {
    "name": "ipython",
    "version": 3
   },
   "file_extension": ".py",
   "mimetype": "text/x-python",
   "name": "python",
   "nbconvert_exporter": "python",
   "pygments_lexer": "ipython3",
   "version": "3.8.10"
  },
  "orig_nbformat": 4,
  "vscode": {
   "interpreter": {
    "hash": "c8ba2787a84a7f2f66ebb7354e6e2d953480730db5b3e727c0f12de54f4bace1"
   }
  }
 },
 "nbformat": 4,
 "nbformat_minor": 2
}
